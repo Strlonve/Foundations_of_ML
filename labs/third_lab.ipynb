{
 "cells": [
  {
   "cell_type": "markdown",
   "metadata": {},
   "source": [
    "# Level 1"
   ]
  },
  {
   "cell_type": "markdown",
   "metadata": {},
   "source": [
    "### Use a nearest neighbour classifier on a dataset. Supply a random half of your data examples as training data, and test on the remainder. Plot the value of the test error as you increase the value of $k$ from 1 to 15. What do you notice about even numbered values of $k$?\n"
   ]
  },
  {
   "cell_type": "code",
   "execution_count": 1,
   "metadata": {},
   "outputs": [],
   "source": [
    "import pandas as pd\n",
    "import numpy as np\n",
    "from sklearn import neighbors, datasets, model_selection\n",
    "from matplotlib import pyplot as plt\n",
    "% matplotlib inline"
   ]
  },
  {
   "cell_type": "code",
   "execution_count": 2,
   "metadata": {},
   "outputs": [],
   "source": [
    "iris = datasets.load_iris()"
   ]
  },
  {
   "cell_type": "code",
   "execution_count": 3,
   "metadata": {},
   "outputs": [],
   "source": [
    "num_examples = iris.data.shape[0]\n",
    "train_data, test_data, \\\n",
    "train_labels, test_labels = model_selection.train_test_split(iris.data, \\\n",
    "                                                             iris.target, \\\n",
    "                                                             test_size = 0.5, \\\n",
    "                                                             random_state=0) "
   ]
  },
  {
   "cell_type": "code",
   "execution_count": 4,
   "metadata": {},
   "outputs": [
    {
     "name": "stdout",
     "output_type": "stream",
     "text": [
      "[0.9066666666666666, 0.8933333333333333, 0.9333333333333333, 0.92, 0.96, 0.9333333333333333, 0.96, 0.9466666666666667, 0.9733333333333334, 0.9466666666666667, 0.9466666666666667, 0.9333333333333333, 0.9333333333333333, 0.9333333333333333, 0.9333333333333333]\n"
     ]
    }
   ],
   "source": [
    "accs = []\n",
    "for num_neighbors in range (1, 16, 1):\n",
    "    knn = neighbors.KNeighborsClassifier(n_neighbors=num_neighbors)\n",
    "    knn.fit(train_data, train_labels)\n",
    "    accs.append(knn.score(y=test_labels, X=test_data))\n",
    "  \n",
    "print accs"
   ]
  },
  {
   "cell_type": "code",
   "execution_count": 5,
   "metadata": {},
   "outputs": [
    {
     "data": {
      "text/plain": [
       "Text(0.5,0,'Number of neighbours')"
      ]
     },
     "execution_count": 5,
     "metadata": {},
     "output_type": "execute_result"
    },
    {
     "data": {
      "image/png": "[encoded data removed]",
      "text/plain": [
       "<Figure size 432x288 with 1 Axes>"
      ]
     },
     "metadata": {},
     "output_type": "display_data"
    }
   ],
   "source": [
    "x = range(1, 16, 1)\n",
    "plt.plot(x, accs)\n",
    "plt.ylabel('Accuracy')\n",
    "plt.xlabel('Number of neighbours')"
   ]
  },
  {
   "cell_type": "markdown",
   "metadata": {},
   "source": [
    "#### Even number of neighbours reduces accuracy"
   ]
  },
  {
   "cell_type": "markdown",
   "metadata": {},
   "source": [
    "### Repeat the target above, but over several random train/test splits - plot an average across random variation, including error bars for the standard deviation. What do you notice?\n"
   ]
  },
  {
   "cell_type": "code",
   "execution_count": 6,
   "metadata": {},
   "outputs": [
    {
     "data": {
      "text/html": [
       "<div>\n",
       "<style scoped>\n",
       "    .dataframe tbody tr th:only-of-type {\n",
       "        vertical-align: middle;\n",
       "    }\n",
       "\n",
       "    .dataframe tbody tr th {\n",
       "        vertical-align: top;\n",
       "    }\n",
       "\n",
       "    .dataframe thead th {\n",
       "        text-align: right;\n",
       "    }\n",
       "</style>\n",
       "<table border=\"1\" class=\"dataframe\">\n",
       "  <thead>\n",
       "    <tr style=\"text-align: right;\">\n",
       "      <th></th>\n",
       "      <th>0</th>\n",
       "      <th>0</th>\n",
       "      <th>0</th>\n",
       "      <th>0</th>\n",
       "      <th>0</th>\n",
       "      <th>0</th>\n",
       "      <th>0</th>\n",
       "      <th>0</th>\n",
       "      <th>0</th>\n",
       "      <th>0</th>\n",
       "    </tr>\n",
       "  </thead>\n",
       "  <tbody>\n",
       "    <tr>\n",
       "      <th>0</th>\n",
       "      <td>0.906667</td>\n",
       "      <td>0.946667</td>\n",
       "      <td>0.973333</td>\n",
       "      <td>0.960000</td>\n",
       "      <td>0.946667</td>\n",
       "      <td>0.960000</td>\n",
       "      <td>0.946667</td>\n",
       "      <td>0.946667</td>\n",
       "      <td>0.973333</td>\n",
       "      <td>0.960000</td>\n",
       "    </tr>\n",
       "    <tr>\n",
       "      <th>1</th>\n",
       "      <td>0.893333</td>\n",
       "      <td>0.920000</td>\n",
       "      <td>0.946667</td>\n",
       "      <td>0.960000</td>\n",
       "      <td>0.946667</td>\n",
       "      <td>0.920000</td>\n",
       "      <td>0.946667</td>\n",
       "      <td>0.946667</td>\n",
       "      <td>0.960000</td>\n",
       "      <td>0.933333</td>\n",
       "    </tr>\n",
       "    <tr>\n",
       "      <th>2</th>\n",
       "      <td>0.933333</td>\n",
       "      <td>0.920000</td>\n",
       "      <td>0.973333</td>\n",
       "      <td>0.946667</td>\n",
       "      <td>0.960000</td>\n",
       "      <td>0.973333</td>\n",
       "      <td>0.973333</td>\n",
       "      <td>0.960000</td>\n",
       "      <td>0.960000</td>\n",
       "      <td>0.960000</td>\n",
       "    </tr>\n",
       "    <tr>\n",
       "      <th>3</th>\n",
       "      <td>0.920000</td>\n",
       "      <td>0.920000</td>\n",
       "      <td>0.946667</td>\n",
       "      <td>0.960000</td>\n",
       "      <td>0.960000</td>\n",
       "      <td>0.960000</td>\n",
       "      <td>0.946667</td>\n",
       "      <td>0.933333</td>\n",
       "      <td>0.933333</td>\n",
       "      <td>0.973333</td>\n",
       "    </tr>\n",
       "    <tr>\n",
       "      <th>4</th>\n",
       "      <td>0.960000</td>\n",
       "      <td>0.946667</td>\n",
       "      <td>0.973333</td>\n",
       "      <td>0.946667</td>\n",
       "      <td>0.960000</td>\n",
       "      <td>0.960000</td>\n",
       "      <td>0.960000</td>\n",
       "      <td>0.946667</td>\n",
       "      <td>0.946667</td>\n",
       "      <td>0.986667</td>\n",
       "    </tr>\n",
       "    <tr>\n",
       "      <th>5</th>\n",
       "      <td>0.933333</td>\n",
       "      <td>0.933333</td>\n",
       "      <td>0.946667</td>\n",
       "      <td>0.960000</td>\n",
       "      <td>0.973333</td>\n",
       "      <td>0.960000</td>\n",
       "      <td>0.946667</td>\n",
       "      <td>0.946667</td>\n",
       "      <td>0.946667</td>\n",
       "      <td>0.986667</td>\n",
       "    </tr>\n",
       "    <tr>\n",
       "      <th>6</th>\n",
       "      <td>0.960000</td>\n",
       "      <td>0.960000</td>\n",
       "      <td>0.946667</td>\n",
       "      <td>0.960000</td>\n",
       "      <td>0.973333</td>\n",
       "      <td>0.973333</td>\n",
       "      <td>0.946667</td>\n",
       "      <td>0.946667</td>\n",
       "      <td>0.960000</td>\n",
       "      <td>0.973333</td>\n",
       "    </tr>\n",
       "    <tr>\n",
       "      <th>7</th>\n",
       "      <td>0.946667</td>\n",
       "      <td>0.973333</td>\n",
       "      <td>0.933333</td>\n",
       "      <td>0.960000</td>\n",
       "      <td>0.973333</td>\n",
       "      <td>0.946667</td>\n",
       "      <td>0.946667</td>\n",
       "      <td>0.920000</td>\n",
       "      <td>0.946667</td>\n",
       "      <td>0.973333</td>\n",
       "    </tr>\n",
       "    <tr>\n",
       "      <th>8</th>\n",
       "      <td>0.973333</td>\n",
       "      <td>0.973333</td>\n",
       "      <td>0.960000</td>\n",
       "      <td>0.973333</td>\n",
       "      <td>0.973333</td>\n",
       "      <td>0.973333</td>\n",
       "      <td>0.946667</td>\n",
       "      <td>0.933333</td>\n",
       "      <td>0.960000</td>\n",
       "      <td>1.000000</td>\n",
       "    </tr>\n",
       "    <tr>\n",
       "      <th>9</th>\n",
       "      <td>0.946667</td>\n",
       "      <td>0.973333</td>\n",
       "      <td>0.960000</td>\n",
       "      <td>0.960000</td>\n",
       "      <td>0.973333</td>\n",
       "      <td>0.946667</td>\n",
       "      <td>0.906667</td>\n",
       "      <td>0.933333</td>\n",
       "      <td>0.920000</td>\n",
       "      <td>0.986667</td>\n",
       "    </tr>\n",
       "    <tr>\n",
       "      <th>10</th>\n",
       "      <td>0.946667</td>\n",
       "      <td>0.986667</td>\n",
       "      <td>0.986667</td>\n",
       "      <td>0.960000</td>\n",
       "      <td>0.973333</td>\n",
       "      <td>0.946667</td>\n",
       "      <td>0.920000</td>\n",
       "      <td>0.933333</td>\n",
       "      <td>0.933333</td>\n",
       "      <td>0.986667</td>\n",
       "    </tr>\n",
       "    <tr>\n",
       "      <th>11</th>\n",
       "      <td>0.933333</td>\n",
       "      <td>0.986667</td>\n",
       "      <td>0.986667</td>\n",
       "      <td>0.973333</td>\n",
       "      <td>0.973333</td>\n",
       "      <td>0.920000</td>\n",
       "      <td>0.906667</td>\n",
       "      <td>0.946667</td>\n",
       "      <td>0.906667</td>\n",
       "      <td>0.973333</td>\n",
       "    </tr>\n",
       "    <tr>\n",
       "      <th>12</th>\n",
       "      <td>0.933333</td>\n",
       "      <td>0.986667</td>\n",
       "      <td>0.973333</td>\n",
       "      <td>0.973333</td>\n",
       "      <td>0.960000</td>\n",
       "      <td>0.946667</td>\n",
       "      <td>0.906667</td>\n",
       "      <td>0.946667</td>\n",
       "      <td>0.920000</td>\n",
       "      <td>0.986667</td>\n",
       "    </tr>\n",
       "    <tr>\n",
       "      <th>13</th>\n",
       "      <td>0.933333</td>\n",
       "      <td>0.946667</td>\n",
       "      <td>0.973333</td>\n",
       "      <td>0.973333</td>\n",
       "      <td>0.960000</td>\n",
       "      <td>0.946667</td>\n",
       "      <td>0.880000</td>\n",
       "      <td>0.946667</td>\n",
       "      <td>0.920000</td>\n",
       "      <td>0.986667</td>\n",
       "    </tr>\n",
       "    <tr>\n",
       "      <th>14</th>\n",
       "      <td>0.933333</td>\n",
       "      <td>0.960000</td>\n",
       "      <td>0.973333</td>\n",
       "      <td>0.973333</td>\n",
       "      <td>0.960000</td>\n",
       "      <td>0.946667</td>\n",
       "      <td>0.893333</td>\n",
       "      <td>0.933333</td>\n",
       "      <td>0.906667</td>\n",
       "      <td>0.973333</td>\n",
       "    </tr>\n",
       "  </tbody>\n",
       "</table>\n",
       "</div>"
      ],
      "text/plain": [
       "           0         0         0         0         0         0         0  \\\n",
       "0   0.906667  0.946667  0.973333  0.960000  0.946667  0.960000  0.946667   \n",
       "1   0.893333  0.920000  0.946667  0.960000  0.946667  0.920000  0.946667   \n",
       "2   0.933333  0.920000  0.973333  0.946667  0.960000  0.973333  0.973333   \n",
       "3   0.920000  0.920000  0.946667  0.960000  0.960000  0.960000  0.946667   \n",
       "4   0.960000  0.946667  0.973333  0.946667  0.960000  0.960000  0.960000   \n",
       "5   0.933333  0.933333  0.946667  0.960000  0.973333  0.960000  0.946667   \n",
       "6   0.960000  0.960000  0.946667  0.960000  0.973333  0.973333  0.946667   \n",
       "7   0.946667  0.973333  0.933333  0.960000  0.973333  0.946667  0.946667   \n",
       "8   0.973333  0.973333  0.960000  0.973333  0.973333  0.973333  0.946667   \n",
       "9   0.946667  0.973333  0.960000  0.960000  0.973333  0.946667  0.906667   \n",
       "10  0.946667  0.986667  0.986667  0.960000  0.973333  0.946667  0.920000   \n",
       "11  0.933333  0.986667  0.986667  0.973333  0.973333  0.920000  0.906667   \n",
       "12  0.933333  0.986667  0.973333  0.973333  0.960000  0.946667  0.906667   \n",
       "13  0.933333  0.946667  0.973333  0.973333  0.960000  0.946667  0.880000   \n",
       "14  0.933333  0.960000  0.973333  0.973333  0.960000  0.946667  0.893333   \n",
       "\n",
       "           0         0         0  \n",
       "0   0.946667  0.973333  0.960000  \n",
       "1   0.946667  0.960000  0.933333  \n",
       "2   0.960000  0.960000  0.960000  \n",
       "3   0.933333  0.933333  0.973333  \n",
       "4   0.946667  0.946667  0.986667  \n",
       "5   0.946667  0.946667  0.986667  \n",
       "6   0.946667  0.960000  0.973333  \n",
       "7   0.920000  0.946667  0.973333  \n",
       "8   0.933333  0.960000  1.000000  \n",
       "9   0.933333  0.920000  0.986667  \n",
       "10  0.933333  0.933333  0.986667  \n",
       "11  0.946667  0.906667  0.973333  \n",
       "12  0.946667  0.920000  0.986667  \n",
       "13  0.946667  0.920000  0.986667  \n",
       "14  0.933333  0.906667  0.973333  "
      ]
     },
     "execution_count": 6,
     "metadata": {},
     "output_type": "execute_result"
    }
   ],
   "source": [
    "first_loop_init = True\n",
    "for i in range(10):\n",
    "    train_data, test_data, \\\n",
    "    train_labels, test_labels = model_selection.train_test_split(iris.data, \\\n",
    "                                                             iris.target, \\\n",
    "                                                             test_size = 0.5, \\\n",
    "                                                             random_state=i)\n",
    "    accs = []\n",
    "    for num_neighbors in range (1, 16, 1):\n",
    "        knn = neighbors.KNeighborsClassifier(n_neighbors=num_neighbors)\n",
    "        knn.fit(train_data, train_labels)\n",
    "        accs.append(knn.score(y=test_labels, X=test_data))\n",
    "    if first_loop_init:\n",
    "        accuracy_dataframe = pd.DataFrame(np.array(accs))\n",
    "        first_loop_init = False\n",
    "    else:\n",
    "        accuracy_dataframe = \\\n",
    "            pd.concat([accuracy_dataframe, pd.DataFrame(np.array(accs))], \\\n",
    "                      axis=1)\n",
    "        \n",
    "accuracy_dataframe        "
   ]
  },
  {
   "cell_type": "code",
   "execution_count": 7,
   "metadata": {},
   "outputs": [
    {
     "name": "stdout",
     "output_type": "stream",
     "text": [
      "[0.952, 0.9373333333333335, 0.9560000000000002, 0.9453333333333334, 0.9586666666666666, 0.9533333333333334, 0.9599999999999997, 0.952, 0.9666666666666668, 0.9506666666666665, 0.9573333333333333, 0.9506666666666665, 0.9533333333333334, 0.9466666666666667, 0.9453333333333334]\n",
      "[0.019064542746246436, 0.020893616486298935, 0.017833246797990115, 0.018270937592083952, 0.013259052346823392, 0.016923940235253135, 0.010886621079036372, 0.017998628205614754, 0.018053418676968813, 0.02518082750971609, 0.024983945462320353, 0.03208014654687751, 0.02757705254664636, 0.03079201435678005, 0.028423603476123546]\n"
     ]
    }
   ],
   "source": [
    "mean_accs = []\n",
    "std_accs = []\n",
    "for i in range(accuracy_dataframe.shape[0]):\n",
    "    mean_accs.append(accuracy_dataframe.iloc[i].mean())\n",
    "    std_accs.append(accuracy_dataframe.iloc[i].std())\n",
    "\n",
    "print mean_accs\n",
    "print std_accs"
   ]
  },
  {
   "cell_type": "code",
   "execution_count": 8,
   "metadata": {},
   "outputs": [
    {
     "data": {
      "text/plain": [
       "<ErrorbarContainer object of 3 artists>"
      ]
     },
     "execution_count": 8,
     "metadata": {},
     "output_type": "execute_result"
    },
    {
     "data": {
      "image/png": "[encoded data removed]",
      "text/plain": [
       "<Figure size 432x288 with 1 Axes>"
      ]
     },
     "metadata": {},
     "output_type": "display_data"
    }
   ],
   "source": [
    "\n",
    "sigmx2_accs = [2 * x / np.sqrt(10) for x in std_accs]\n",
    "xs = np.arange(1, 16, 1)\n",
    "\n",
    "plt.errorbar(x=xs, y=mean_accs, yerr = sigmx2_accs, marker='d')"
   ]
  },
  {
   "cell_type": "markdown",
   "metadata": {},
   "source": [
    "# Level 2"
   ]
  },
  {
   "cell_type": "markdown",
   "metadata": {},
   "source": [
    "### Use the knn model and analyse how much time it takes to classify data points with different numbers of features, and different numbers of examples in the training data."
   ]
  },
  {
   "cell_type": "code",
   "execution_count": 25,
   "metadata": {},
   "outputs": [],
   "source": [
    "import time\n",
    "from sklearn.preprocessing import Normalizer"
   ]
  },
  {
   "cell_type": "code",
   "execution_count": 12,
   "metadata": {},
   "outputs": [],
   "source": [
    "knn = neighbors.KNeighborsClassifier(n_neighbors=7)"
   ]
  },
  {
   "cell_type": "code",
   "execution_count": 69,
   "metadata": {},
   "outputs": [],
   "source": [
    "iris = datasets.load_iris()\n",
    "wine = datasets.load_wine()"
   ]
  },
  {
   "cell_type": "code",
   "execution_count": 70,
   "metadata": {},
   "outputs": [
    {
     "name": "stdout",
     "output_type": "stream",
     "text": [
      "Number of iris features: 4\n",
      "Number of wine features: 13\n"
     ]
    }
   ],
   "source": [
    "print 'Number of iris features:', iris.data.shape[1]\n",
    "print 'Number of wine features:', wine.data.shape[1]"
   ]
  },
  {
   "cell_type": "code",
   "execution_count": 71,
   "metadata": {},
   "outputs": [
    {
     "name": "stdout",
     "output_type": "stream",
     "text": [
      "Number of iris examples: 150\n",
      "Number of wine examples: 178\n"
     ]
    }
   ],
   "source": [
    "print 'Number of iris examples:', iris.data.shape[0]\n",
    "print 'Number of wine examples:', wine.data.shape[0]"
   ]
  },
  {
   "cell_type": "markdown",
   "metadata": {},
   "source": [
    "Number of features is significantly different whereas the number of examples is not so different."
   ]
  },
  {
   "cell_type": "code",
   "execution_count": 72,
   "metadata": {},
   "outputs": [],
   "source": [
    "train_iris_data, test_iris_data, train_iris_labels, test_iris_labels = \\\n",
    "    model_selection.train_test_split(iris.data, iris.target, test_size=0.5)"
   ]
  },
  {
   "cell_type": "code",
   "execution_count": 116,
   "metadata": {},
   "outputs": [],
   "source": [
    "train_wine_data, test_wine_data, train_wine_labels, test_wine_labels = \\\n",
    "    model_selection.train_test_split(wine.data[:150], wine.target[:150], test_size=0.5)"
   ]
  },
  {
   "cell_type": "code",
   "execution_count": 114,
   "metadata": {},
   "outputs": [
    {
     "name": "stdout",
     "output_type": "stream",
     "text": [
      "15.9973079262 seconds\n"
     ]
    }
   ],
   "source": [
    "start_time = time.clock()\n",
    "for i in range(5000):\n",
    "    knn.fit(train_iris_data, train_iris_labels)\n",
    "    knn.predict(test_iris_data)\n",
    "print time.clock() - start_time, 'seconds'\n"
   ]
  },
  {
   "cell_type": "code",
   "execution_count": 115,
   "metadata": {},
   "outputs": [
    {
     "name": "stdout",
     "output_type": "stream",
     "text": [
      "16.8796508301 seconds\n"
     ]
    }
   ],
   "source": [
    "start_time = time.clock()\n",
    "for i in range(5000):\n",
    "    knn.fit(train_wine_data, train_wine_labels)\n",
    "    knn.predict(test_wine_data)\n",
    "print time.clock() - start_time, 'seconds'"
   ]
  },
  {
   "cell_type": "markdown",
   "metadata": {},
   "source": [
    "Wine datasets which has more features requires more time to classify test points"
   ]
  },
  {
   "cell_type": "code",
   "execution_count": 118,
   "metadata": {},
   "outputs": [],
   "source": [
    "train_iris_data, test_iris_data, train_iris_labels, test_iris_labels = \\\n",
    "    model_selection.train_test_split(iris.data, iris.target, test_size=0.2)"
   ]
  },
  {
   "cell_type": "code",
   "execution_count": 120,
   "metadata": {},
   "outputs": [],
   "source": [
    "train_iris_data_small, test_iris_data_small, \\\n",
    "train_iris_labels_small, test_iris_labels_small = \\\n",
    "    model_selection.train_test_split(train_iris_data, train_iris_labels, \\\n",
    "                                     test_size=0.5)"
   ]
  },
  {
   "cell_type": "code",
   "execution_count": 126,
   "metadata": {},
   "outputs": [
    {
     "name": "stdout",
     "output_type": "stream",
     "text": [
      "6.12621913096 seconds\n"
     ]
    }
   ],
   "source": [
    "start_time = time.clock()\n",
    "for i in range(2000):\n",
    "    knn.fit(train_iris_data, train_iris_labels)\n",
    "    knn.predict(test_iris_data)\n",
    "print time.clock() - start_time, 'seconds'"
   ]
  },
  {
   "cell_type": "code",
   "execution_count": 127,
   "metadata": {},
   "outputs": [
    {
     "name": "stdout",
     "output_type": "stream",
     "text": [
      "5.40485497014 seconds\n"
     ]
    }
   ],
   "source": [
    "start_time = time.clock()\n",
    "for i in range(2000):\n",
    "    knn.fit(train_iris_data_small, train_iris_labels_small)\n",
    "    knn.predict(test_iris_data)\n",
    "print time.clock() - start_time, 'seconds'"
   ]
  },
  {
   "cell_type": "markdown",
   "metadata": {},
   "source": [
    "Dataset containing smaller number of training examples classify test points faster"
   ]
  },
  {
   "cell_type": "markdown",
   "metadata": {},
   "source": [
    "### Build a decision tree with a maximum depth of 10, and a minimum number of examples of 5, using any dataset. Remember to do a train/test split. Repeat this with a minimum number of examples of 500. What is the difference in test error? Plot a graph of the training error and testing error, as you change this minimum number."
   ]
  },
  {
   "cell_type": "code",
   "execution_count": 129,
   "metadata": {},
   "outputs": [],
   "source": [
    "from sklearn import tree"
   ]
  },
  {
   "cell_type": "code",
   "execution_count": 237,
   "metadata": {},
   "outputs": [
    {
     "data": {
      "text/plain": [
       "1797L"
      ]
     },
     "execution_count": 237,
     "metadata": {},
     "output_type": "execute_result"
    }
   ],
   "source": [
    "bc = datasets.load_digits()\n",
    "bc.data.shape[0]"
   ]
  },
  {
   "cell_type": "code",
   "execution_count": 281,
   "metadata": {},
   "outputs": [],
   "source": [
    "dec_tree = tree.DecisionTreeClassifier(max_depth=100, min_samples_split=6,random_state=0)"
   ]
  },
  {
   "cell_type": "code",
   "execution_count": 282,
   "metadata": {},
   "outputs": [],
   "source": [
    "train_data, test_data, train_labels, test_labels = \\\n",
    "    model_selection.train_test_split(bc.data, bc.target, test_size=0.7, random_state = 0)"
   ]
  },
  {
   "cell_type": "code",
   "execution_count": 273,
   "metadata": {},
   "outputs": [],
   "source": [
    "# normalizer = Normalizer().fit(train_data)\n",
    "# train_data_norm = normalizer.transform(train_data)\n",
    "# test_data_norm = normalizer.transform(test_data)"
   ]
  },
  {
   "cell_type": "code",
   "execution_count": 283,
   "metadata": {},
   "outputs": [
    {
     "name": "stdout",
     "output_type": "stream",
     "text": [
      "Train data accuracy 0.9666048237476809\n",
      "Test data accuracy 0.7845786963434023\n"
     ]
    }
   ],
   "source": [
    "dec_tree.fit(train_data, train_labels)\n",
    "print 'Train data accuracy', dec_tree.score(train_data, train_labels)\n",
    "print 'Test data accuracy', dec_tree.score(test_data, test_labels)"
   ]
  },
  {
   "cell_type": "code",
   "execution_count": 269,
   "metadata": {},
   "outputs": [
    {
     "name": "stdout",
     "output_type": "stream",
     "text": [
      "Train data accuracy 0.21150278293135436\n",
      "Test data accuracy 0.1820349761526232\n"
     ]
    }
   ],
   "source": [
    "dec_tree = tree.DecisionTreeClassifier(max_depth=100, min_samples_split=500, random_state=0)\n",
    "dec_tree.fit(train_data, train_labels)\n",
    "print 'Train data accuracy', dec_tree.score(train_data, train_labels)\n",
    "print 'Test data accuracy', dec_tree.score(test_data, test_labels)"
   ]
  },
  {
   "cell_type": "code",
   "execution_count": null,
   "metadata": {},
   "outputs": [],
   "source": []
  }
 ],
 "metadata": {
  "kernelspec": {
   "display_name": "Python 2",
   "language": "python",
   "name": "python2"
  },
  "language_info": {
   "codemirror_mode": {
    "name": "ipython",
    "version": 2
   },
   "file_extension": ".py",
   "mimetype": "text/x-python",
   "name": "python",
   "nbconvert_exporter": "python",
   "pygments_lexer": "ipython2",
   "version": "2.7.15"
  }
 },
 "nbformat": 4,
 "nbformat_minor": 2
}
