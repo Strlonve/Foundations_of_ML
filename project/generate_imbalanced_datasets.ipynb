{
 "cells": [
  {
   "cell_type": "code",
   "execution_count": 2,
   "metadata": {},
   "outputs": [],
   "source": [
    "import pandas as pd\n",
    "from sklearn import datasets\n",
    "from matplotlib import pyplot as plt\n",
    "import os\n",
    "import numpy as np"
   ]
  },
  {
   "cell_type": "code",
   "execution_count": 3,
   "metadata": {},
   "outputs": [],
   "source": [
    "# function for making binary datasets from multi class one\n",
    "# returns data and labels for a new binary dataset\n",
    "# inputs: data, labels - features and targets of the datasets\n",
    "#         interesting_class_0 - label value from initial dataset which will become negative class in a binary dataset\n",
    "#         interesting_class_1 - label value from initial dataset which will become positive class in a binary dataset\n",
    "def make_binary_from_multiclass(data, labels, interesting_class_0, interesting_class_1):\n",
    "    binary_data = []\n",
    "    binary_labels = []\n",
    "    for i in range(labels.shape[0]):\n",
    "        if labels[i] == interesting_class_0:\n",
    "            binary_labels.append(0)\n",
    "            binary_data.append(data[i])\n",
    "        elif labels[i] == interesting_class_1:\n",
    "            binary_labels.append(1)\n",
    "            binary_data.append(data[i])\n",
    "    binary_labels = np.array(binary_labels)\n",
    "    binary_data = np.array(binary_data)\n",
    "    return binary_data, binary_labels"
   ]
  },
  {
   "cell_type": "code",
   "execution_count": 4,
   "metadata": {},
   "outputs": [],
   "source": [
    "# function for making imbalanced dataset from a binary one\n",
    "# returns imbalanced dataset in pd.DataFrame object\n",
    "# inputs: data, labels  - features and targets of a binary dataset\n",
    "#         proportion - the fraction of a minor class in a resulting imbalanced dataset\n",
    "#         label_to_cut - class which will become the minor one; default value -1 makes minor class from a class which \n",
    "#         has less instances\n",
    "#         random_state - seed\n",
    "def make_imbalanced_dataset(data, labels, proportion, label_to_cut=-1, random_state=0):\n",
    "    # fix the random seed\n",
    "    np.random.seed(random_state)\n",
    "    # download input data and labels into the DataFrame\n",
    "    dataset = pd.DataFrame(data)\n",
    "    dataset['label'] = labels\n",
    "    # get unique labels (class \"names\")\n",
    "    unique_labels = np.sort(dataset.label.unique())\n",
    "    num_labels = []\n",
    "    # get number of examples for each class\n",
    "    for label in unique_labels:\n",
    "        num_labels.append(dataset.loc[dataset['label'] == label].shape[0])\n",
    "    # get the label of class which will be imbalanced\n",
    "    if label_to_cut == -1:\n",
    "        label_to_cut = num_labels.index(min(num_labels))\n",
    "    # count number of examples after make it imbalanced\n",
    "    num_imbalanced_label = int(round(proportion * (sum(num_labels) - num_labels[label_to_cut]) / (1 - proportion), 0))\n",
    "    # \n",
    "    inds_set = {int(dataset.loc[dataset['label'] == label_to_cut].shape[0] * np.random.random())}\n",
    "    while len(inds_set) < num_imbalanced_label:\n",
    "        inds_set.add(int(dataset.loc[dataset['label'] == label_to_cut].shape[0] * np.random.random()))\n",
    "    inds_list = list(inds_set)\n",
    "    class_to_cut = dataset.loc[dataset['label'] == label_to_cut]\n",
    "    imbalanced_dataset = class_to_cut.iloc[inds_list]\n",
    "    for label in unique_labels:\n",
    "        if label != label_to_cut:\n",
    "            imbalanced_dataset = imbalanced_dataset.append(dataset.loc[dataset['label'] == label])\n",
    "    imbalanced_dataset = imbalanced_dataset.sample(frac=1, random_state=random_state) \n",
    "    return imbalanced_dataset"
   ]
  },
  {
   "cell_type": "code",
   "execution_count": 5,
   "metadata": {},
   "outputs": [],
   "source": [
    "# create directories for new datasets\n",
    "try:\n",
    "    os.mkdir('imbalanced_datasets')\n",
    "except:\n",
    "    pass\n",
    "\n",
    "try:\n",
    "    os.mkdir('binary_datasets')\n",
    "except:\n",
    "    pass"
   ]
  },
  {
   "cell_type": "markdown",
   "metadata": {},
   "source": [
    "### Breast Cancer"
   ]
  },
  {
   "cell_type": "code",
   "execution_count": 6,
   "metadata": {},
   "outputs": [
    {
     "data": {
      "text/html": [
       "<div>\n",
       "<style scoped>\n",
       "    .dataframe tbody tr th:only-of-type {\n",
       "        vertical-align: middle;\n",
       "    }\n",
       "\n",
       "    .dataframe tbody tr th {\n",
       "        vertical-align: top;\n",
       "    }\n",
       "\n",
       "    .dataframe thead th {\n",
       "        text-align: right;\n",
       "    }\n",
       "</style>\n",
       "<table border=\"1\" class=\"dataframe\">\n",
       "  <thead>\n",
       "    <tr style=\"text-align: right;\">\n",
       "      <th></th>\n",
       "      <th>mean radius</th>\n",
       "      <th>mean texture</th>\n",
       "      <th>mean perimeter</th>\n",
       "      <th>mean area</th>\n",
       "      <th>mean smoothness</th>\n",
       "      <th>mean compactness</th>\n",
       "      <th>mean concavity</th>\n",
       "      <th>mean concave points</th>\n",
       "      <th>mean symmetry</th>\n",
       "      <th>mean fractal dimension</th>\n",
       "      <th>...</th>\n",
       "      <th>worst texture</th>\n",
       "      <th>worst perimeter</th>\n",
       "      <th>worst area</th>\n",
       "      <th>worst smoothness</th>\n",
       "      <th>worst compactness</th>\n",
       "      <th>worst concavity</th>\n",
       "      <th>worst concave points</th>\n",
       "      <th>worst symmetry</th>\n",
       "      <th>worst fractal dimension</th>\n",
       "      <th>label</th>\n",
       "    </tr>\n",
       "  </thead>\n",
       "  <tbody>\n",
       "    <tr>\n",
       "      <th>321</th>\n",
       "      <td>20.16</td>\n",
       "      <td>19.66</td>\n",
       "      <td>131.10</td>\n",
       "      <td>1274.0</td>\n",
       "      <td>0.08020</td>\n",
       "      <td>0.08564</td>\n",
       "      <td>0.11550</td>\n",
       "      <td>0.07726</td>\n",
       "      <td>0.1928</td>\n",
       "      <td>0.05096</td>\n",
       "      <td>...</td>\n",
       "      <td>23.03</td>\n",
       "      <td>150.20</td>\n",
       "      <td>1657.0</td>\n",
       "      <td>0.10540</td>\n",
       "      <td>0.1537</td>\n",
       "      <td>0.2606</td>\n",
       "      <td>0.14250</td>\n",
       "      <td>0.3055</td>\n",
       "      <td>0.05933</td>\n",
       "      <td>0</td>\n",
       "    </tr>\n",
       "    <tr>\n",
       "      <th>255</th>\n",
       "      <td>13.96</td>\n",
       "      <td>17.05</td>\n",
       "      <td>91.43</td>\n",
       "      <td>602.4</td>\n",
       "      <td>0.10960</td>\n",
       "      <td>0.12790</td>\n",
       "      <td>0.09789</td>\n",
       "      <td>0.05246</td>\n",
       "      <td>0.1908</td>\n",
       "      <td>0.06130</td>\n",
       "      <td>...</td>\n",
       "      <td>22.07</td>\n",
       "      <td>108.10</td>\n",
       "      <td>826.0</td>\n",
       "      <td>0.15120</td>\n",
       "      <td>0.3262</td>\n",
       "      <td>0.3209</td>\n",
       "      <td>0.13740</td>\n",
       "      <td>0.3068</td>\n",
       "      <td>0.07957</td>\n",
       "      <td>0</td>\n",
       "    </tr>\n",
       "    <tr>\n",
       "      <th>146</th>\n",
       "      <td>11.80</td>\n",
       "      <td>16.58</td>\n",
       "      <td>78.99</td>\n",
       "      <td>432.0</td>\n",
       "      <td>0.10910</td>\n",
       "      <td>0.17000</td>\n",
       "      <td>0.16590</td>\n",
       "      <td>0.07415</td>\n",
       "      <td>0.2678</td>\n",
       "      <td>0.07371</td>\n",
       "      <td>...</td>\n",
       "      <td>26.38</td>\n",
       "      <td>91.93</td>\n",
       "      <td>591.7</td>\n",
       "      <td>0.13850</td>\n",
       "      <td>0.4092</td>\n",
       "      <td>0.4504</td>\n",
       "      <td>0.18650</td>\n",
       "      <td>0.5774</td>\n",
       "      <td>0.10300</td>\n",
       "      <td>0</td>\n",
       "    </tr>\n",
       "    <tr>\n",
       "      <th>167</th>\n",
       "      <td>16.78</td>\n",
       "      <td>18.80</td>\n",
       "      <td>109.30</td>\n",
       "      <td>886.3</td>\n",
       "      <td>0.08865</td>\n",
       "      <td>0.09182</td>\n",
       "      <td>0.08422</td>\n",
       "      <td>0.06576</td>\n",
       "      <td>0.1893</td>\n",
       "      <td>0.05534</td>\n",
       "      <td>...</td>\n",
       "      <td>26.30</td>\n",
       "      <td>130.70</td>\n",
       "      <td>1260.0</td>\n",
       "      <td>0.11680</td>\n",
       "      <td>0.2119</td>\n",
       "      <td>0.2318</td>\n",
       "      <td>0.14740</td>\n",
       "      <td>0.2810</td>\n",
       "      <td>0.07228</td>\n",
       "      <td>0</td>\n",
       "    </tr>\n",
       "    <tr>\n",
       "      <th>197</th>\n",
       "      <td>18.08</td>\n",
       "      <td>21.84</td>\n",
       "      <td>117.40</td>\n",
       "      <td>1024.0</td>\n",
       "      <td>0.07371</td>\n",
       "      <td>0.08642</td>\n",
       "      <td>0.11030</td>\n",
       "      <td>0.05778</td>\n",
       "      <td>0.1770</td>\n",
       "      <td>0.05340</td>\n",
       "      <td>...</td>\n",
       "      <td>24.70</td>\n",
       "      <td>129.10</td>\n",
       "      <td>1228.0</td>\n",
       "      <td>0.08822</td>\n",
       "      <td>0.1963</td>\n",
       "      <td>0.2535</td>\n",
       "      <td>0.09181</td>\n",
       "      <td>0.2369</td>\n",
       "      <td>0.06558</td>\n",
       "      <td>0</td>\n",
       "    </tr>\n",
       "  </tbody>\n",
       "</table>\n",
       "<p>5 rows × 31 columns</p>\n",
       "</div>"
      ],
      "text/plain": [
       "     mean radius  mean texture  mean perimeter  mean area  mean smoothness  \\\n",
       "321        20.16         19.66          131.10     1274.0          0.08020   \n",
       "255        13.96         17.05           91.43      602.4          0.10960   \n",
       "146        11.80         16.58           78.99      432.0          0.10910   \n",
       "167        16.78         18.80          109.30      886.3          0.08865   \n",
       "197        18.08         21.84          117.40     1024.0          0.07371   \n",
       "\n",
       "     mean compactness  mean concavity  mean concave points  mean symmetry  \\\n",
       "321           0.08564         0.11550              0.07726         0.1928   \n",
       "255           0.12790         0.09789              0.05246         0.1908   \n",
       "146           0.17000         0.16590              0.07415         0.2678   \n",
       "167           0.09182         0.08422              0.06576         0.1893   \n",
       "197           0.08642         0.11030              0.05778         0.1770   \n",
       "\n",
       "     mean fractal dimension  ...    worst texture  worst perimeter  \\\n",
       "321                 0.05096  ...            23.03           150.20   \n",
       "255                 0.06130  ...            22.07           108.10   \n",
       "146                 0.07371  ...            26.38            91.93   \n",
       "167                 0.05534  ...            26.30           130.70   \n",
       "197                 0.05340  ...            24.70           129.10   \n",
       "\n",
       "     worst area  worst smoothness  worst compactness  worst concavity  \\\n",
       "321      1657.0           0.10540             0.1537           0.2606   \n",
       "255       826.0           0.15120             0.3262           0.3209   \n",
       "146       591.7           0.13850             0.4092           0.4504   \n",
       "167      1260.0           0.11680             0.2119           0.2318   \n",
       "197      1228.0           0.08822             0.1963           0.2535   \n",
       "\n",
       "     worst concave points  worst symmetry  worst fractal dimension  label  \n",
       "321               0.14250          0.3055                  0.05933      0  \n",
       "255               0.13740          0.3068                  0.07957      0  \n",
       "146               0.18650          0.5774                  0.10300      0  \n",
       "167               0.14740          0.2810                  0.07228      0  \n",
       "197               0.09181          0.2369                  0.06558      0  \n",
       "\n",
       "[5 rows x 31 columns]"
      ]
     },
     "execution_count": 6,
     "metadata": {},
     "output_type": "execute_result"
    }
   ],
   "source": [
    "# Make imbalanced breast cancer\n",
    "bc = datasets.load_breast_cancer()\n",
    "bc_df = pd.DataFrame(bc.data)\n",
    "bc_df['label'] = bc.target\n",
    "imbalanced_cancer = make_imbalanced_dataset(bc.data, bc.target, 0.1, 1)\n",
    "columns =bc.feature_names\n",
    "columns = np.append(columns, 'label')\n",
    "imbalanced_cancer.columns = columns\n",
    "imbalanced_cancer.head()"
   ]
  },
  {
   "cell_type": "code",
   "execution_count": 7,
   "metadata": {},
   "outputs": [
    {
     "name": "stdout",
     "output_type": "stream",
     "text": [
      "Binary breast cancer:\n",
      "Number of type 0: 212\n",
      "Number of type 1: 357\n"
     ]
    }
   ],
   "source": [
    "print \"Binary breast cancer:\"\n",
    "print \"Number of type 0:\", bc_df.loc[bc_df['label'] == 0].shape[0]\n",
    "print \"Number of type 1:\", bc_df.loc[bc_df['label'] == 1].shape[0]"
   ]
  },
  {
   "cell_type": "code",
   "execution_count": 8,
   "metadata": {},
   "outputs": [
    {
     "name": "stdout",
     "output_type": "stream",
     "text": [
      "Imbalanced breast cancer\n",
      "Number of type 0: 212\n",
      "Number of type 1: 24\n"
     ]
    }
   ],
   "source": [
    "print \"Imbalanced breast cancer\"\n",
    "print \"Number of type 0:\", imbalanced_cancer.loc[imbalanced_cancer['label'] == 0].shape[0]\n",
    "print \"Number of type 1:\", imbalanced_cancer.loc[imbalanced_cancer['label'] == 1].shape[0]"
   ]
  },
  {
   "cell_type": "code",
   "execution_count": 9,
   "metadata": {},
   "outputs": [
    {
     "data": {
      "text/html": [
       "<div>\n",
       "<style scoped>\n",
       "    .dataframe tbody tr th:only-of-type {\n",
       "        vertical-align: middle;\n",
       "    }\n",
       "\n",
       "    .dataframe tbody tr th {\n",
       "        vertical-align: top;\n",
       "    }\n",
       "\n",
       "    .dataframe thead th {\n",
       "        text-align: right;\n",
       "    }\n",
       "</style>\n",
       "<table border=\"1\" class=\"dataframe\">\n",
       "  <thead>\n",
       "    <tr style=\"text-align: right;\">\n",
       "      <th></th>\n",
       "      <th>mean radius</th>\n",
       "      <th>mean texture</th>\n",
       "      <th>mean perimeter</th>\n",
       "      <th>mean area</th>\n",
       "      <th>mean smoothness</th>\n",
       "      <th>mean compactness</th>\n",
       "      <th>mean concavity</th>\n",
       "      <th>mean concave points</th>\n",
       "      <th>mean symmetry</th>\n",
       "      <th>mean fractal dimension</th>\n",
       "      <th>...</th>\n",
       "      <th>worst texture</th>\n",
       "      <th>worst perimeter</th>\n",
       "      <th>worst area</th>\n",
       "      <th>worst smoothness</th>\n",
       "      <th>worst compactness</th>\n",
       "      <th>worst concavity</th>\n",
       "      <th>worst concave points</th>\n",
       "      <th>worst symmetry</th>\n",
       "      <th>worst fractal dimension</th>\n",
       "      <th>label</th>\n",
       "    </tr>\n",
       "  </thead>\n",
       "  <tbody>\n",
       "    <tr>\n",
       "      <th>0</th>\n",
       "      <td>20.16</td>\n",
       "      <td>19.66</td>\n",
       "      <td>131.10</td>\n",
       "      <td>1274.0</td>\n",
       "      <td>0.08020</td>\n",
       "      <td>0.08564</td>\n",
       "      <td>0.11550</td>\n",
       "      <td>0.07726</td>\n",
       "      <td>0.1928</td>\n",
       "      <td>0.05096</td>\n",
       "      <td>...</td>\n",
       "      <td>23.03</td>\n",
       "      <td>150.20</td>\n",
       "      <td>1657.0</td>\n",
       "      <td>0.10540</td>\n",
       "      <td>0.1537</td>\n",
       "      <td>0.2606</td>\n",
       "      <td>0.14250</td>\n",
       "      <td>0.3055</td>\n",
       "      <td>0.05933</td>\n",
       "      <td>0</td>\n",
       "    </tr>\n",
       "    <tr>\n",
       "      <th>1</th>\n",
       "      <td>13.96</td>\n",
       "      <td>17.05</td>\n",
       "      <td>91.43</td>\n",
       "      <td>602.4</td>\n",
       "      <td>0.10960</td>\n",
       "      <td>0.12790</td>\n",
       "      <td>0.09789</td>\n",
       "      <td>0.05246</td>\n",
       "      <td>0.1908</td>\n",
       "      <td>0.06130</td>\n",
       "      <td>...</td>\n",
       "      <td>22.07</td>\n",
       "      <td>108.10</td>\n",
       "      <td>826.0</td>\n",
       "      <td>0.15120</td>\n",
       "      <td>0.3262</td>\n",
       "      <td>0.3209</td>\n",
       "      <td>0.13740</td>\n",
       "      <td>0.3068</td>\n",
       "      <td>0.07957</td>\n",
       "      <td>0</td>\n",
       "    </tr>\n",
       "    <tr>\n",
       "      <th>2</th>\n",
       "      <td>11.80</td>\n",
       "      <td>16.58</td>\n",
       "      <td>78.99</td>\n",
       "      <td>432.0</td>\n",
       "      <td>0.10910</td>\n",
       "      <td>0.17000</td>\n",
       "      <td>0.16590</td>\n",
       "      <td>0.07415</td>\n",
       "      <td>0.2678</td>\n",
       "      <td>0.07371</td>\n",
       "      <td>...</td>\n",
       "      <td>26.38</td>\n",
       "      <td>91.93</td>\n",
       "      <td>591.7</td>\n",
       "      <td>0.13850</td>\n",
       "      <td>0.4092</td>\n",
       "      <td>0.4504</td>\n",
       "      <td>0.18650</td>\n",
       "      <td>0.5774</td>\n",
       "      <td>0.10300</td>\n",
       "      <td>0</td>\n",
       "    </tr>\n",
       "    <tr>\n",
       "      <th>3</th>\n",
       "      <td>16.78</td>\n",
       "      <td>18.80</td>\n",
       "      <td>109.30</td>\n",
       "      <td>886.3</td>\n",
       "      <td>0.08865</td>\n",
       "      <td>0.09182</td>\n",
       "      <td>0.08422</td>\n",
       "      <td>0.06576</td>\n",
       "      <td>0.1893</td>\n",
       "      <td>0.05534</td>\n",
       "      <td>...</td>\n",
       "      <td>26.30</td>\n",
       "      <td>130.70</td>\n",
       "      <td>1260.0</td>\n",
       "      <td>0.11680</td>\n",
       "      <td>0.2119</td>\n",
       "      <td>0.2318</td>\n",
       "      <td>0.14740</td>\n",
       "      <td>0.2810</td>\n",
       "      <td>0.07228</td>\n",
       "      <td>0</td>\n",
       "    </tr>\n",
       "    <tr>\n",
       "      <th>4</th>\n",
       "      <td>18.08</td>\n",
       "      <td>21.84</td>\n",
       "      <td>117.40</td>\n",
       "      <td>1024.0</td>\n",
       "      <td>0.07371</td>\n",
       "      <td>0.08642</td>\n",
       "      <td>0.11030</td>\n",
       "      <td>0.05778</td>\n",
       "      <td>0.1770</td>\n",
       "      <td>0.05340</td>\n",
       "      <td>...</td>\n",
       "      <td>24.70</td>\n",
       "      <td>129.10</td>\n",
       "      <td>1228.0</td>\n",
       "      <td>0.08822</td>\n",
       "      <td>0.1963</td>\n",
       "      <td>0.2535</td>\n",
       "      <td>0.09181</td>\n",
       "      <td>0.2369</td>\n",
       "      <td>0.06558</td>\n",
       "      <td>0</td>\n",
       "    </tr>\n",
       "  </tbody>\n",
       "</table>\n",
       "<p>5 rows × 31 columns</p>\n",
       "</div>"
      ],
      "text/plain": [
       "   mean radius  mean texture  mean perimeter  mean area  mean smoothness  \\\n",
       "0        20.16         19.66          131.10     1274.0          0.08020   \n",
       "1        13.96         17.05           91.43      602.4          0.10960   \n",
       "2        11.80         16.58           78.99      432.0          0.10910   \n",
       "3        16.78         18.80          109.30      886.3          0.08865   \n",
       "4        18.08         21.84          117.40     1024.0          0.07371   \n",
       "\n",
       "   mean compactness  mean concavity  mean concave points  mean symmetry  \\\n",
       "0           0.08564         0.11550              0.07726         0.1928   \n",
       "1           0.12790         0.09789              0.05246         0.1908   \n",
       "2           0.17000         0.16590              0.07415         0.2678   \n",
       "3           0.09182         0.08422              0.06576         0.1893   \n",
       "4           0.08642         0.11030              0.05778         0.1770   \n",
       "\n",
       "   mean fractal dimension  ...    worst texture  worst perimeter  worst area  \\\n",
       "0                 0.05096  ...            23.03           150.20      1657.0   \n",
       "1                 0.06130  ...            22.07           108.10       826.0   \n",
       "2                 0.07371  ...            26.38            91.93       591.7   \n",
       "3                 0.05534  ...            26.30           130.70      1260.0   \n",
       "4                 0.05340  ...            24.70           129.10      1228.0   \n",
       "\n",
       "   worst smoothness  worst compactness  worst concavity  worst concave points  \\\n",
       "0           0.10540             0.1537           0.2606               0.14250   \n",
       "1           0.15120             0.3262           0.3209               0.13740   \n",
       "2           0.13850             0.4092           0.4504               0.18650   \n",
       "3           0.11680             0.2119           0.2318               0.14740   \n",
       "4           0.08822             0.1963           0.2535               0.09181   \n",
       "\n",
       "   worst symmetry  worst fractal dimension  label  \n",
       "0          0.3055                  0.05933      0  \n",
       "1          0.3068                  0.07957      0  \n",
       "2          0.5774                  0.10300      0  \n",
       "3          0.2810                  0.07228      0  \n",
       "4          0.2369                  0.06558      0  \n",
       "\n",
       "[5 rows x 31 columns]"
      ]
     },
     "execution_count": 9,
     "metadata": {},
     "output_type": "execute_result"
    }
   ],
   "source": [
    "# save to .csv\n",
    "imbalanced_cancer.to_csv('./imbalanced_datasets/imbalanced_breast_cancer.csv', index=False)\n",
    "check_df = pd.read_csv('./imbalanced_datasets/imbalanced_breast_cancer.csv')\n",
    "check_df.head()"
   ]
  },
  {
   "cell_type": "markdown",
   "metadata": {},
   "source": [
    "### Iris"
   ]
  },
  {
   "cell_type": "code",
   "execution_count": 10,
   "metadata": {},
   "outputs": [
    {
     "name": "stdout",
     "output_type": "stream",
     "text": [
      "['setosa' 'versicolor' 'virginica']\n"
     ]
    }
   ],
   "source": [
    "# load iris dataset\n",
    "iris = datasets.load_iris()\n",
    "print iris.target_names\n",
    "# make binary iris\n",
    "iris_data_binary, iris_target_binary = make_binary_from_multiclass(iris.data, iris.target, 1, 2)\n",
    "iris01 = pd.DataFrame(iris_data_binary)\n",
    "iris01['label'] = iris_target_binary\n",
    "# make imbalanced binary iris\n",
    "imbalanced_iris01 = make_imbalanced_dataset(iris_data_binary, iris_target_binary, 0.1, 1)"
   ]
  },
  {
   "cell_type": "code",
   "execution_count": 11,
   "metadata": {},
   "outputs": [
    {
     "name": "stdout",
     "output_type": "stream",
     "text": [
      "Binary iris:\n",
      "Number of type 0 (versicolor): 50\n",
      "Number of type 1 (virginica): 50\n"
     ]
    }
   ],
   "source": [
    "print \"Binary iris:\"\n",
    "print \"Number of type 0 (versicolor):\", iris01.loc[iris01['label'] == 0].shape[0]\n",
    "print \"Number of type 1 (virginica):\", iris01.loc[iris01['label'] == 1].shape[0]"
   ]
  },
  {
   "cell_type": "code",
   "execution_count": 12,
   "metadata": {},
   "outputs": [
    {
     "name": "stdout",
     "output_type": "stream",
     "text": [
      "Binary imbalanced iris:\n",
      "Number of type 0 (versicolor): 50\n",
      "Number of type 1 (virginica): 6\n"
     ]
    }
   ],
   "source": [
    "print \"Binary imbalanced iris:\"\n",
    "print \"Number of type 0 (versicolor):\", imbalanced_iris01.loc[iris01['label'] == 0].shape[0]\n",
    "print \"Number of type 1 (virginica):\", imbalanced_iris01.loc[iris01['label'] == 1].shape[0]"
   ]
  },
  {
   "cell_type": "code",
   "execution_count": 13,
   "metadata": {},
   "outputs": [
    {
     "data": {
      "text/html": [
       "<div>\n",
       "<style scoped>\n",
       "    .dataframe tbody tr th:only-of-type {\n",
       "        vertical-align: middle;\n",
       "    }\n",
       "\n",
       "    .dataframe tbody tr th {\n",
       "        vertical-align: top;\n",
       "    }\n",
       "\n",
       "    .dataframe thead th {\n",
       "        text-align: right;\n",
       "    }\n",
       "</style>\n",
       "<table border=\"1\" class=\"dataframe\">\n",
       "  <thead>\n",
       "    <tr style=\"text-align: right;\">\n",
       "      <th></th>\n",
       "      <th>0</th>\n",
       "      <th>1</th>\n",
       "      <th>2</th>\n",
       "      <th>3</th>\n",
       "      <th>label</th>\n",
       "    </tr>\n",
       "  </thead>\n",
       "  <tbody>\n",
       "    <tr>\n",
       "      <th>0</th>\n",
       "      <td>5.5</td>\n",
       "      <td>2.5</td>\n",
       "      <td>4.0</td>\n",
       "      <td>1.3</td>\n",
       "      <td>0</td>\n",
       "    </tr>\n",
       "    <tr>\n",
       "      <th>1</th>\n",
       "      <td>6.7</td>\n",
       "      <td>3.0</td>\n",
       "      <td>5.0</td>\n",
       "      <td>1.7</td>\n",
       "      <td>0</td>\n",
       "    </tr>\n",
       "    <tr>\n",
       "      <th>2</th>\n",
       "      <td>5.4</td>\n",
       "      <td>3.0</td>\n",
       "      <td>4.5</td>\n",
       "      <td>1.5</td>\n",
       "      <td>0</td>\n",
       "    </tr>\n",
       "    <tr>\n",
       "      <th>3</th>\n",
       "      <td>5.9</td>\n",
       "      <td>3.2</td>\n",
       "      <td>4.8</td>\n",
       "      <td>1.8</td>\n",
       "      <td>0</td>\n",
       "    </tr>\n",
       "    <tr>\n",
       "      <th>4</th>\n",
       "      <td>5.7</td>\n",
       "      <td>2.8</td>\n",
       "      <td>4.5</td>\n",
       "      <td>1.3</td>\n",
       "      <td>0</td>\n",
       "    </tr>\n",
       "  </tbody>\n",
       "</table>\n",
       "</div>"
      ],
      "text/plain": [
       "     0    1    2    3  label\n",
       "0  5.5  2.5  4.0  1.3      0\n",
       "1  6.7  3.0  5.0  1.7      0\n",
       "2  5.4  3.0  4.5  1.5      0\n",
       "3  5.9  3.2  4.8  1.8      0\n",
       "4  5.7  2.8  4.5  1.3      0"
      ]
     },
     "execution_count": 13,
     "metadata": {},
     "output_type": "execute_result"
    }
   ],
   "source": [
    "# save both balanced and imbalanced binary iris datasets to csv\n",
    "iris01.to_csv('./binary_datasets/iris01.csv', index=False)\n",
    "imbalanced_iris01.to_csv('./imbalanced_datasets/imbalanced_iris01.csv', index=False)\n",
    "check_df = pd.read_csv('./imbalanced_datasets/imbalanced_iris01.csv')\n",
    "check_df.head()"
   ]
  },
  {
   "cell_type": "markdown",
   "metadata": {},
   "source": [
    "### Wine"
   ]
  },
  {
   "cell_type": "code",
   "execution_count": 14,
   "metadata": {},
   "outputs": [
    {
     "name": "stdout",
     "output_type": "stream",
     "text": [
      "['class_0' 'class_1' 'class_2']\n"
     ]
    }
   ],
   "source": [
    "# load wine\n",
    "wine = datasets.load_wine()\n",
    "print wine.target_names\n",
    "# make binary wine\n",
    "wine_data_binary, wine_target_binary = make_binary_from_multiclass(wine.data, wine.target, 0, 1)\n",
    "wine01 = pd.DataFrame(wine_data_binary)\n",
    "wine01['label'] = wine_target_binary\n",
    "# make imbalanced binary wine\n",
    "imbalanced_wine01 = make_imbalanced_dataset(wine_data_binary, wine_target_binary, 0.1, 1)"
   ]
  },
  {
   "cell_type": "code",
   "execution_count": 15,
   "metadata": {},
   "outputs": [
    {
     "name": "stdout",
     "output_type": "stream",
     "text": [
      "Binary wine:\n",
      "Number of type 0: 59\n",
      "Number of type 1: 71\n"
     ]
    }
   ],
   "source": [
    "print \"Binary wine:\"\n",
    "print \"Number of type 0:\", wine01.loc[wine01['label'] == 0].shape[0]\n",
    "print \"Number of type 1:\", wine01.loc[wine01['label'] == 1].shape[0]"
   ]
  },
  {
   "cell_type": "code",
   "execution_count": 16,
   "metadata": {},
   "outputs": [
    {
     "name": "stdout",
     "output_type": "stream",
     "text": [
      "Binary wine:\n",
      "Number of type 0: 59\n",
      "Number of type 1: 7\n"
     ]
    }
   ],
   "source": [
    "print \"Binary wine:\"\n",
    "print \"Number of type 0:\", imbalanced_wine01.loc[imbalanced_wine01['label'] == 0].shape[0]\n",
    "print \"Number of type 1:\", imbalanced_wine01.loc[imbalanced_wine01['label'] == 1].shape[0]"
   ]
  },
  {
   "cell_type": "code",
   "execution_count": 17,
   "metadata": {},
   "outputs": [
    {
     "data": {
      "text/html": [
       "<div>\n",
       "<style scoped>\n",
       "    .dataframe tbody tr th:only-of-type {\n",
       "        vertical-align: middle;\n",
       "    }\n",
       "\n",
       "    .dataframe tbody tr th {\n",
       "        vertical-align: top;\n",
       "    }\n",
       "\n",
       "    .dataframe thead th {\n",
       "        text-align: right;\n",
       "    }\n",
       "</style>\n",
       "<table border=\"1\" class=\"dataframe\">\n",
       "  <thead>\n",
       "    <tr style=\"text-align: right;\">\n",
       "      <th></th>\n",
       "      <th>0</th>\n",
       "      <th>1</th>\n",
       "      <th>2</th>\n",
       "      <th>3</th>\n",
       "      <th>4</th>\n",
       "      <th>5</th>\n",
       "      <th>6</th>\n",
       "      <th>7</th>\n",
       "      <th>8</th>\n",
       "      <th>9</th>\n",
       "      <th>10</th>\n",
       "      <th>11</th>\n",
       "      <th>12</th>\n",
       "      <th>label</th>\n",
       "    </tr>\n",
       "  </thead>\n",
       "  <tbody>\n",
       "    <tr>\n",
       "      <th>0</th>\n",
       "      <td>13.07</td>\n",
       "      <td>1.50</td>\n",
       "      <td>2.10</td>\n",
       "      <td>15.5</td>\n",
       "      <td>98.0</td>\n",
       "      <td>2.40</td>\n",
       "      <td>2.64</td>\n",
       "      <td>0.28</td>\n",
       "      <td>1.37</td>\n",
       "      <td>3.70</td>\n",
       "      <td>1.18</td>\n",
       "      <td>2.69</td>\n",
       "      <td>1020.0</td>\n",
       "      <td>0</td>\n",
       "    </tr>\n",
       "    <tr>\n",
       "      <th>1</th>\n",
       "      <td>12.93</td>\n",
       "      <td>3.80</td>\n",
       "      <td>2.65</td>\n",
       "      <td>18.6</td>\n",
       "      <td>102.0</td>\n",
       "      <td>2.41</td>\n",
       "      <td>2.41</td>\n",
       "      <td>0.25</td>\n",
       "      <td>1.98</td>\n",
       "      <td>4.50</td>\n",
       "      <td>1.03</td>\n",
       "      <td>3.52</td>\n",
       "      <td>770.0</td>\n",
       "      <td>0</td>\n",
       "    </tr>\n",
       "    <tr>\n",
       "      <th>2</th>\n",
       "      <td>13.71</td>\n",
       "      <td>1.86</td>\n",
       "      <td>2.36</td>\n",
       "      <td>16.6</td>\n",
       "      <td>101.0</td>\n",
       "      <td>2.61</td>\n",
       "      <td>2.88</td>\n",
       "      <td>0.27</td>\n",
       "      <td>1.69</td>\n",
       "      <td>3.80</td>\n",
       "      <td>1.11</td>\n",
       "      <td>4.00</td>\n",
       "      <td>1035.0</td>\n",
       "      <td>0</td>\n",
       "    </tr>\n",
       "    <tr>\n",
       "      <th>3</th>\n",
       "      <td>14.10</td>\n",
       "      <td>2.02</td>\n",
       "      <td>2.40</td>\n",
       "      <td>18.8</td>\n",
       "      <td>103.0</td>\n",
       "      <td>2.75</td>\n",
       "      <td>2.92</td>\n",
       "      <td>0.32</td>\n",
       "      <td>2.38</td>\n",
       "      <td>6.20</td>\n",
       "      <td>1.07</td>\n",
       "      <td>2.75</td>\n",
       "      <td>1060.0</td>\n",
       "      <td>0</td>\n",
       "    </tr>\n",
       "    <tr>\n",
       "      <th>4</th>\n",
       "      <td>14.22</td>\n",
       "      <td>1.70</td>\n",
       "      <td>2.30</td>\n",
       "      <td>16.3</td>\n",
       "      <td>118.0</td>\n",
       "      <td>3.20</td>\n",
       "      <td>3.00</td>\n",
       "      <td>0.26</td>\n",
       "      <td>2.03</td>\n",
       "      <td>6.38</td>\n",
       "      <td>0.94</td>\n",
       "      <td>3.31</td>\n",
       "      <td>970.0</td>\n",
       "      <td>0</td>\n",
       "    </tr>\n",
       "  </tbody>\n",
       "</table>\n",
       "</div>"
      ],
      "text/plain": [
       "       0     1     2     3      4     5     6     7     8     9    10    11  \\\n",
       "0  13.07  1.50  2.10  15.5   98.0  2.40  2.64  0.28  1.37  3.70  1.18  2.69   \n",
       "1  12.93  3.80  2.65  18.6  102.0  2.41  2.41  0.25  1.98  4.50  1.03  3.52   \n",
       "2  13.71  1.86  2.36  16.6  101.0  2.61  2.88  0.27  1.69  3.80  1.11  4.00   \n",
       "3  14.10  2.02  2.40  18.8  103.0  2.75  2.92  0.32  2.38  6.20  1.07  2.75   \n",
       "4  14.22  1.70  2.30  16.3  118.0  3.20  3.00  0.26  2.03  6.38  0.94  3.31   \n",
       "\n",
       "       12  label  \n",
       "0  1020.0      0  \n",
       "1   770.0      0  \n",
       "2  1035.0      0  \n",
       "3  1060.0      0  \n",
       "4   970.0      0  "
      ]
     },
     "execution_count": 17,
     "metadata": {},
     "output_type": "execute_result"
    }
   ],
   "source": [
    "wine01.to_csv('./binary_datasets/wine01.csv', index=False)\n",
    "imbalanced_wine01.to_csv('./imbalanced_datasets/imbalanced_wine01.csv', index=False)\n",
    "check_df = pd.read_csv('./imbalanced_datasets/imbalanced_wine01.csv')\n",
    "check_df.head()"
   ]
  },
  {
   "cell_type": "markdown",
   "metadata": {},
   "source": [
    "### Yeast"
   ]
  },
  {
   "cell_type": "code",
   "execution_count": 18,
   "metadata": {},
   "outputs": [
    {
     "data": {
      "text/html": [
       "<div>\n",
       "<style scoped>\n",
       "    .dataframe tbody tr th:only-of-type {\n",
       "        vertical-align: middle;\n",
       "    }\n",
       "\n",
       "    .dataframe tbody tr th {\n",
       "        vertical-align: top;\n",
       "    }\n",
       "\n",
       "    .dataframe thead th {\n",
       "        text-align: right;\n",
       "    }\n",
       "</style>\n",
       "<table border=\"1\" class=\"dataframe\">\n",
       "  <thead>\n",
       "    <tr style=\"text-align: right;\">\n",
       "      <th></th>\n",
       "      <th>0</th>\n",
       "      <th>1</th>\n",
       "      <th>2</th>\n",
       "      <th>3</th>\n",
       "      <th>4</th>\n",
       "      <th>5</th>\n",
       "      <th>6</th>\n",
       "      <th>7</th>\n",
       "      <th>8</th>\n",
       "      <th>9</th>\n",
       "    </tr>\n",
       "  </thead>\n",
       "  <tbody>\n",
       "    <tr>\n",
       "      <th>0</th>\n",
       "      <td>ADT1_YEAST</td>\n",
       "      <td>0.58</td>\n",
       "      <td>0.61</td>\n",
       "      <td>0.47</td>\n",
       "      <td>0.13</td>\n",
       "      <td>0.5</td>\n",
       "      <td>0.0</td>\n",
       "      <td>0.48</td>\n",
       "      <td>0.22</td>\n",
       "      <td>MIT</td>\n",
       "    </tr>\n",
       "    <tr>\n",
       "      <th>1</th>\n",
       "      <td>ADT2_YEAST</td>\n",
       "      <td>0.43</td>\n",
       "      <td>0.67</td>\n",
       "      <td>0.48</td>\n",
       "      <td>0.27</td>\n",
       "      <td>0.5</td>\n",
       "      <td>0.0</td>\n",
       "      <td>0.53</td>\n",
       "      <td>0.22</td>\n",
       "      <td>MIT</td>\n",
       "    </tr>\n",
       "    <tr>\n",
       "      <th>2</th>\n",
       "      <td>ADT3_YEAST</td>\n",
       "      <td>0.64</td>\n",
       "      <td>0.62</td>\n",
       "      <td>0.49</td>\n",
       "      <td>0.15</td>\n",
       "      <td>0.5</td>\n",
       "      <td>0.0</td>\n",
       "      <td>0.53</td>\n",
       "      <td>0.22</td>\n",
       "      <td>MIT</td>\n",
       "    </tr>\n",
       "    <tr>\n",
       "      <th>3</th>\n",
       "      <td>AAR2_YEAST</td>\n",
       "      <td>0.58</td>\n",
       "      <td>0.44</td>\n",
       "      <td>0.57</td>\n",
       "      <td>0.13</td>\n",
       "      <td>0.5</td>\n",
       "      <td>0.0</td>\n",
       "      <td>0.54</td>\n",
       "      <td>0.22</td>\n",
       "      <td>NUC</td>\n",
       "    </tr>\n",
       "    <tr>\n",
       "      <th>4</th>\n",
       "      <td>AATM_YEAST</td>\n",
       "      <td>0.42</td>\n",
       "      <td>0.44</td>\n",
       "      <td>0.48</td>\n",
       "      <td>0.54</td>\n",
       "      <td>0.5</td>\n",
       "      <td>0.0</td>\n",
       "      <td>0.48</td>\n",
       "      <td>0.22</td>\n",
       "      <td>MIT</td>\n",
       "    </tr>\n",
       "  </tbody>\n",
       "</table>\n",
       "</div>"
      ],
      "text/plain": [
       "            0     1     2     3     4    5    6     7     8    9\n",
       "0  ADT1_YEAST  0.58  0.61  0.47  0.13  0.5  0.0  0.48  0.22  MIT\n",
       "1  ADT2_YEAST  0.43  0.67  0.48  0.27  0.5  0.0  0.53  0.22  MIT\n",
       "2  ADT3_YEAST  0.64  0.62  0.49  0.15  0.5  0.0  0.53  0.22  MIT\n",
       "3  AAR2_YEAST  0.58  0.44  0.57  0.13  0.5  0.0  0.54  0.22  NUC\n",
       "4  AATM_YEAST  0.42  0.44  0.48  0.54  0.5  0.0  0.48  0.22  MIT"
      ]
     },
     "execution_count": 18,
     "metadata": {},
     "output_type": "execute_result"
    }
   ],
   "source": [
    "yeast = pd.read_csv('./UCI_datasets/yeast.csv', header=None)\n",
    "yeast.head()"
   ]
  },
  {
   "cell_type": "code",
   "execution_count": 19,
   "metadata": {},
   "outputs": [],
   "source": [
    "yeast_data = yeast.iloc[:, 1:-1]\n",
    "yeast_labels = yeast.iloc[:, -1]"
   ]
  },
  {
   "cell_type": "code",
   "execution_count": 20,
   "metadata": {},
   "outputs": [],
   "source": [
    "binary_yeast_data, binary_yeast_target = make_binary_from_multiclass(np.array(yeast_data), np.array(yeast_labels), 'NUC', 'CYT')\n",
    "yeast_CYT_NUC = pd.DataFrame(binary_yeast_data)\n",
    "yeast_CYT_NUC['label'] = binary_yeast_target\n",
    "imbalanced_yeast_CYT_NUC = make_imbalanced_dataset(binary_yeast_data, binary_yeast_target, 0.1, 1)"
   ]
  },
  {
   "cell_type": "code",
   "execution_count": 21,
   "metadata": {},
   "outputs": [
    {
     "name": "stdout",
     "output_type": "stream",
     "text": [
      "Binary yeast:\n",
      "Number of type NUC(0): 429\n",
      "Number of type CYT(1): 463\n"
     ]
    }
   ],
   "source": [
    "print \"Binary yeast:\"\n",
    "print \"Number of type NUC(0):\", yeast_CYT_NUC.loc[yeast_CYT_NUC['label'] == 0].shape[0]\n",
    "print \"Number of type CYT(1):\", yeast_CYT_NUC.loc[yeast_CYT_NUC['label'] == 1].shape[0]"
   ]
  },
  {
   "cell_type": "code",
   "execution_count": 22,
   "metadata": {},
   "outputs": [
    {
     "name": "stdout",
     "output_type": "stream",
     "text": [
      "Binary yeast:\n",
      "Number of type NUC(0): 429\n",
      "Number of type CYT(1): 48\n"
     ]
    }
   ],
   "source": [
    "print \"Binary yeast:\"\n",
    "print \"Number of type NUC(0):\", imbalanced_yeast_CYT_NUC.loc[yeast_CYT_NUC['label'] == 0].shape[0]\n",
    "print \"Number of type CYT(1):\", imbalanced_yeast_CYT_NUC.loc[yeast_CYT_NUC['label'] == 1].shape[0]"
   ]
  },
  {
   "cell_type": "code",
   "execution_count": 23,
   "metadata": {},
   "outputs": [],
   "source": [
    "yeast_CYT_NUC.to_csv('./binary_datasets/yeastCYTNUC.csv', index=False)\n",
    "imbalanced_yeast_CYT_NUC.to_csv('./imbalanced_datasets/imbalanced_yeastCYTNUC.csv', index=False)"
   ]
  },
  {
   "cell_type": "markdown",
   "metadata": {},
   "source": [
    "### Avila"
   ]
  },
  {
   "cell_type": "code",
   "execution_count": 24,
   "metadata": {},
   "outputs": [],
   "source": [
    "avila_tr = pd.read_csv('./UCI_datasets/avila-tr.csv')\n",
    "avila_ts = pd.read_csv('./UCI_datasets/avila-ts.csv')"
   ]
  },
  {
   "cell_type": "code",
   "execution_count": 25,
   "metadata": {},
   "outputs": [
    {
     "name": "stdout",
     "output_type": "stream",
     "text": [
      "(20867, 11)\n"
     ]
    }
   ],
   "source": [
    "frames = [avila_tr, avila_ts]\n",
    "avila = pd.concat(frames)\n",
    "print avila.shape"
   ]
  },
  {
   "cell_type": "code",
   "execution_count": 26,
   "metadata": {},
   "outputs": [],
   "source": [
    "avila_data = avila.iloc[:, :-1]\n",
    "avila_labels = avila.iloc[:, -1]"
   ]
  },
  {
   "cell_type": "code",
   "execution_count": 27,
   "metadata": {},
   "outputs": [],
   "source": [
    "binary_avila_data, binary_avila_target = make_binary_from_multiclass(np.array(avila_data), np.array(avila_labels), 'H', 'X')"
   ]
  },
  {
   "cell_type": "code",
   "execution_count": 28,
   "metadata": {},
   "outputs": [],
   "source": [
    "avilaHX = pd.DataFrame(binary_avila_data)\n",
    "avilaHX['label'] = binary_avila_target"
   ]
  },
  {
   "cell_type": "code",
   "execution_count": 29,
   "metadata": {},
   "outputs": [
    {
     "name": "stdout",
     "output_type": "stream",
     "text": [
      "Binary avila:\n",
      "Number of type H(0): 1039\n",
      "Number of type X(1): 1044\n"
     ]
    }
   ],
   "source": [
    "print \"Binary avila:\"\n",
    "print \"Number of type H(0):\", avilaHX.loc[avilaHX['label'] == 0].shape[0]\n",
    "print \"Number of type X(1):\", avilaHX.loc[avilaHX['label'] == 1].shape[0]"
   ]
  },
  {
   "cell_type": "code",
   "execution_count": 30,
   "metadata": {},
   "outputs": [],
   "source": [
    "imbalanced_avilaHX = make_imbalanced_dataset(binary_avila_data, binary_avila_target, 0.1, 1)"
   ]
  },
  {
   "cell_type": "code",
   "execution_count": 31,
   "metadata": {},
   "outputs": [
    {
     "name": "stdout",
     "output_type": "stream",
     "text": [
      "Binary imbalanced avila:\n",
      "Number of type H(0): 1039\n",
      "Number of type X(1): 115\n"
     ]
    }
   ],
   "source": [
    "print \"Binary imbalanced avila:\"\n",
    "print \"Number of type H(0):\", imbalanced_avilaHX.loc[imbalanced_avilaHX['label'] == 0].shape[0]\n",
    "print \"Number of type X(1):\", imbalanced_avilaHX.loc[imbalanced_avilaHX['label'] == 1].shape[0]"
   ]
  },
  {
   "cell_type": "code",
   "execution_count": 32,
   "metadata": {},
   "outputs": [],
   "source": [
    "avilaHX.to_csv('./binary_datasets/avilaHX.csv', index=False)\n",
    "imbalanced_avilaHX.to_csv('./imbalanced_datasets/imbalanced_avilaHX.csv', index=False)"
   ]
  },
  {
   "cell_type": "markdown",
   "metadata": {},
   "source": [
    "### Wireless Indoor Localization"
   ]
  },
  {
   "cell_type": "code",
   "execution_count": 33,
   "metadata": {},
   "outputs": [
    {
     "data": {
      "text/html": [
       "<div>\n",
       "<style scoped>\n",
       "    .dataframe tbody tr th:only-of-type {\n",
       "        vertical-align: middle;\n",
       "    }\n",
       "\n",
       "    .dataframe tbody tr th {\n",
       "        vertical-align: top;\n",
       "    }\n",
       "\n",
       "    .dataframe thead th {\n",
       "        text-align: right;\n",
       "    }\n",
       "</style>\n",
       "<table border=\"1\" class=\"dataframe\">\n",
       "  <thead>\n",
       "    <tr style=\"text-align: right;\">\n",
       "      <th></th>\n",
       "      <th>A</th>\n",
       "      <th>B</th>\n",
       "      <th>C</th>\n",
       "      <th>D</th>\n",
       "      <th>E</th>\n",
       "      <th>F</th>\n",
       "      <th>G</th>\n",
       "      <th>Label</th>\n",
       "    </tr>\n",
       "  </thead>\n",
       "  <tbody>\n",
       "    <tr>\n",
       "      <th>0</th>\n",
       "      <td>-64</td>\n",
       "      <td>-56</td>\n",
       "      <td>-61</td>\n",
       "      <td>-66</td>\n",
       "      <td>-71</td>\n",
       "      <td>-82</td>\n",
       "      <td>-81</td>\n",
       "      <td>1</td>\n",
       "    </tr>\n",
       "    <tr>\n",
       "      <th>1</th>\n",
       "      <td>-68</td>\n",
       "      <td>-57</td>\n",
       "      <td>-61</td>\n",
       "      <td>-65</td>\n",
       "      <td>-71</td>\n",
       "      <td>-85</td>\n",
       "      <td>-85</td>\n",
       "      <td>1</td>\n",
       "    </tr>\n",
       "    <tr>\n",
       "      <th>2</th>\n",
       "      <td>-63</td>\n",
       "      <td>-60</td>\n",
       "      <td>-60</td>\n",
       "      <td>-67</td>\n",
       "      <td>-76</td>\n",
       "      <td>-85</td>\n",
       "      <td>-84</td>\n",
       "      <td>1</td>\n",
       "    </tr>\n",
       "    <tr>\n",
       "      <th>3</th>\n",
       "      <td>-61</td>\n",
       "      <td>-60</td>\n",
       "      <td>-68</td>\n",
       "      <td>-62</td>\n",
       "      <td>-77</td>\n",
       "      <td>-90</td>\n",
       "      <td>-80</td>\n",
       "      <td>1</td>\n",
       "    </tr>\n",
       "    <tr>\n",
       "      <th>4</th>\n",
       "      <td>-63</td>\n",
       "      <td>-65</td>\n",
       "      <td>-60</td>\n",
       "      <td>-63</td>\n",
       "      <td>-77</td>\n",
       "      <td>-81</td>\n",
       "      <td>-87</td>\n",
       "      <td>1</td>\n",
       "    </tr>\n",
       "  </tbody>\n",
       "</table>\n",
       "</div>"
      ],
      "text/plain": [
       "    A   B   C   D   E   F   G  Label\n",
       "0 -64 -56 -61 -66 -71 -82 -81      1\n",
       "1 -68 -57 -61 -65 -71 -85 -85      1\n",
       "2 -63 -60 -60 -67 -76 -85 -84      1\n",
       "3 -61 -60 -68 -62 -77 -90 -80      1\n",
       "4 -63 -65 -60 -63 -77 -81 -87      1"
      ]
     },
     "execution_count": 33,
     "metadata": {},
     "output_type": "execute_result"
    }
   ],
   "source": [
    "wil = pd.read_csv('./UCI_datasets/Wireless Indoor Localization.csv')\n",
    "wil.head()"
   ]
  },
  {
   "cell_type": "code",
   "execution_count": 34,
   "metadata": {},
   "outputs": [],
   "source": [
    "wil_data = wil.iloc[:, 1:-1]\n",
    "wil_labels = wil.iloc[:, -1]"
   ]
  },
  {
   "cell_type": "code",
   "execution_count": 35,
   "metadata": {},
   "outputs": [],
   "source": [
    "binary_wil_data, binary_wil_target = make_binary_from_multiclass(np.array(wil_data), np.array(wil_labels), 2, 3)\n",
    "wil_2_3 = pd.DataFrame(binary_wil_data)\n",
    "wil_2_3['label'] = binary_wil_target\n",
    "imbalanced_wil_2_3 = make_imbalanced_dataset(binary_wil_data, binary_wil_target, 0.1, 1)"
   ]
  },
  {
   "cell_type": "code",
   "execution_count": 36,
   "metadata": {},
   "outputs": [
    {
     "name": "stdout",
     "output_type": "stream",
     "text": [
      "Binary wil:\n",
      "Number of type 0: 500\n",
      "Number of type 1: 500\n"
     ]
    }
   ],
   "source": [
    "print \"Binary wil:\"\n",
    "print \"Number of type 0:\", wil_2_3.loc[wil_2_3['label'] == 0].shape[0]\n",
    "print \"Number of type 1:\", wil_2_3.loc[wil_2_3['label'] == 1].shape[0]"
   ]
  },
  {
   "cell_type": "code",
   "execution_count": 37,
   "metadata": {},
   "outputs": [
    {
     "name": "stdout",
     "output_type": "stream",
     "text": [
      "Imbalanced Binary wil:\n",
      "Number of type 0: 500\n",
      "Number of type 1: 56\n"
     ]
    }
   ],
   "source": [
    "print \"Imbalanced Binary wil:\"\n",
    "print \"Number of type 0:\", imbalanced_wil_2_3.loc[imbalanced_wil_2_3['label'] == 0].shape[0]\n",
    "print \"Number of type 1:\", imbalanced_wil_2_3.loc[imbalanced_wil_2_3['label'] == 1].shape[0]"
   ]
  },
  {
   "cell_type": "code",
   "execution_count": 38,
   "metadata": {},
   "outputs": [],
   "source": [
    "wil_2_3.to_csv('./binary_datasets/wil_2_3.csv', index=False)\n",
    "imbalanced_wil_2_3.to_csv('./imbalanced_datasets/imbalanced_wil_2_3.csv', index=False)"
   ]
  },
  {
   "cell_type": "markdown",
   "metadata": {},
   "source": [
    "### Blobs for visualizing imbalancing"
   ]
  },
  {
   "cell_type": "code",
   "execution_count": 39,
   "metadata": {},
   "outputs": [
    {
     "data": {
      "text/plain": [
       "<matplotlib.collections.PathCollection at 0xb4e5d68>"
      ]
     },
     "execution_count": 39,
     "metadata": {},
     "output_type": "execute_result"
    },
    {
     "data": {
      "image/png": "[encoded data removed]",
      "text/plain": [
       "<Figure size 432x288 with 1 Axes>"
      ]
     },
     "metadata": {},
     "output_type": "display_data"
    }
   ],
   "source": [
    "X, y = datasets.make_blobs(n_features=2, n_samples=200, centers=2, cluster_std=0.6 , random_state=0)\n",
    "blobs = pd.DataFrame(X)\n",
    "blobs.columns = ['x1', 'x2']\n",
    "blobs['label'] = y\n",
    "blobs.head()\n",
    "\n",
    "label_0 = blobs.loc[blobs['label'] == 0]\n",
    "label_1 = blobs.loc[blobs['label'] == 1]\n",
    "plt.scatter(label_0.x1, label_0.x2, marker='o')\n",
    "plt.scatter(label_1.x1, label_1.x2, marker='x')"
   ]
  },
  {
   "cell_type": "code",
   "execution_count": 40,
   "metadata": {},
   "outputs": [
    {
     "name": "stdout",
     "output_type": "stream",
     "text": [
      "(11, 3)\n"
     ]
    },
    {
     "data": {
      "image/png": "[encoded data removed]",
      "text/plain": [
       "<Figure size 432x288 with 1 Axes>"
      ]
     },
     "metadata": {},
     "output_type": "display_data"
    }
   ],
   "source": [
    "imbalanced_blobs = make_imbalanced_dataset(X, y, 0.1)\n",
    "imbalanced_blobs.columns = ['x1', 'x2', 'label']\n",
    "label_0 = imbalanced_blobs.loc[imbalanced_blobs['label'] == 0]\n",
    "print label_0.shape\n",
    "label_1 = imbalanced_blobs.loc[imbalanced_blobs['label'] == 1]\n",
    "plt.scatter(label_0.x1, label_0.x2, marker='o')\n",
    "plt.scatter(label_1.x1, label_1.x2, marker='x')\n",
    "imbalanced_blobs.to_csv('./imbalanced_datasets/imbalanced_blobs.csv', index=False)"
   ]
  },
  {
   "cell_type": "markdown",
   "metadata": {},
   "source": [
    "### Make blobs with overlapping classes"
   ]
  },
  {
   "cell_type": "code",
   "execution_count": 41,
   "metadata": {},
   "outputs": [
    {
     "data": {
      "text/plain": [
       "<matplotlib.collections.PathCollection at 0xbc75198>"
      ]
     },
     "execution_count": 41,
     "metadata": {},
     "output_type": "execute_result"
    },
    {
     "data": {
      "image/png": "[encoded data removed]",
      "text/plain": [
       "<Figure size 432x288 with 1 Axes>"
      ]
     },
     "metadata": {},
     "output_type": "display_data"
    }
   ],
   "source": [
    "X, y = datasets.make_blobs(n_features=2, n_samples=200, centers=[[2,2],[3,3]], cluster_std=0.6 , random_state=5)\n",
    "blobs = pd.DataFrame(X)\n",
    "blobs.columns = ['x1', 'x2']\n",
    "blobs['label'] = y\n",
    "blobs.head()\n",
    "\n",
    "label_0 = blobs.loc[blobs['label'] == 0]\n",
    "label_1 = blobs.loc[blobs['label'] == 1]\n",
    "plt.scatter(label_0.x1, label_0.x2, marker='o')\n",
    "plt.scatter(label_1.x1, label_1.x2, marker='x')"
   ]
  },
  {
   "cell_type": "code",
   "execution_count": 42,
   "metadata": {},
   "outputs": [
    {
     "data": {
      "image/png": "[encoded data removed]",
      "text/plain": [
       "<Figure size 432x288 with 1 Axes>"
      ]
     },
     "metadata": {},
     "output_type": "display_data"
    }
   ],
   "source": [
    "imbalanced_blobs = make_imbalanced_dataset(X, y, 0.1)\n",
    "imbalanced_blobs.columns = ['x1', 'x2', 'label']\n",
    "label_0 = imbalanced_blobs.loc[imbalanced_blobs['label'] == 0]\n",
    "# print label_0.shape\n",
    "label_1 = imbalanced_blobs.loc[imbalanced_blobs['label'] == 1]\n",
    "plt.scatter(label_0.x1, label_0.x2, marker='o')\n",
    "plt.scatter(label_1.x1, label_1.x2, marker='x')\n",
    "plt.title('Initial imbalanced blobs')\n",
    "plt.xlabel('Feature 1')\n",
    "plt.ylabel('Feature 2')\n",
    "imbalanced_blobs.to_csv('./imbalanced_datasets/overlapped_initial_imbalanced_blobs.csv', index=False)"
   ]
  },
  {
   "cell_type": "code",
   "execution_count": null,
   "metadata": {},
   "outputs": [],
   "source": []
  }
 ],
 "metadata": {
  "kernelspec": {
   "display_name": "Python 2",
   "language": "python",
   "name": "python2"
  },
  "language_info": {
   "codemirror_mode": {
    "name": "ipython",
    "version": 2
   },
   "file_extension": ".py",
   "mimetype": "text/x-python",
   "name": "python",
   "nbconvert_exporter": "python",
   "pygments_lexer": "ipython2",
   "version": "2.7.15"
  }
 },
 "nbformat": 4,
 "nbformat_minor": 2
}
