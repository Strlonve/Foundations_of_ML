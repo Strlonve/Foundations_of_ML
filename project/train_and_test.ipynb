{
 "cells": [
  {
   "cell_type": "code",
   "execution_count": 1,
   "metadata": {},
   "outputs": [],
   "source": [
    "from sklearn import datasets, model_selection, linear_model, metrics, preprocessing\n",
    "import pandas as pd\n",
    "import numpy as np\n",
    "from matplotlib import pyplot as plt\n",
    "% matplotlib inline"
   ]
  },
  {
   "cell_type": "code",
   "execution_count": 2,
   "metadata": {},
   "outputs": [],
   "source": [
    "def train_model(clf_name, data, labels, random_state=10, cv=4, normalize=False):\n",
    "    cv = model_selection.ShuffleSplit(n_splits=cv,random_state=random_state)\n",
    "    accs = []\n",
    "    rcls = []\n",
    "    prcs = []\n",
    "    for train_inds, test_inds in cv.split(data):\n",
    "        if clf_name == 'log':\n",
    "            clf = linear_model.SGDClassifier(loss='log', random_state=random_state)    \n",
    "        train_data = data[train_inds]\n",
    "        train_labels = labels[train_inds]\n",
    "        test_data = data[test_inds]\n",
    "        test_labels = labels[test_inds]\n",
    "        if normalize:\n",
    "            normalizer = preprocessing.Normalizer().fit(train_data)\n",
    "            train_data = normalizer.transform(train_data)\n",
    "            test_data = normalizer.transform(test_data)\n",
    "        clf.fit(train_data, train_labels)\n",
    "        accs.append(clf.score(test_data, test_labels))\n",
    "        rcls.append(metrics.recall_score(y_true=test_labels, y_pred=clf.predict(test_data), pos_label=0))\n",
    "        prcs.append(metrics.precision_score(y_true=test_labels, y_pred=clf.predict(test_data), pos_label=0))  \n",
    "    mean_acc = np.array(accs).mean()\n",
    "    mean_prc = np.array(prcs).mean()\n",
    "    mean_rcl = np.array(rcls).mean()  \n",
    "    return mean_acc, mean_rcl, mean_prc  "
   ]
  },
  {
   "cell_type": "code",
   "execution_count": 3,
   "metadata": {},
   "outputs": [
    {
     "name": "stdout",
     "output_type": "stream",
     "text": [
      "Accuracy: 0.8771929824561404\n",
      "Precision: 0.7784679089026916\n",
      "Recall: 0.9200396825396826\n"
     ]
    },
    {
     "name": "stderr",
     "output_type": "stream",
     "text": [
      "D:\\Anaconda\\envs\\py27\\lib\\site-packages\\sklearn\\linear_model\\stochastic_gradient.py:128: FutureWarning: max_iter and tol parameters have been added in <class 'sklearn.linear_model.stochastic_gradient.SGDClassifier'> in 0.19. If both are left unset, they default to max_iter=5 and tol=None. If tol is not None, max_iter defaults to max_iter=1000. From 0.21, default max_iter will be 1000, and default tol will be 1e-3.\n",
      "  \"and default tol will be 1e-3.\" % type(self), FutureWarning)\n"
     ]
    }
   ],
   "source": [
    "bc = datasets.load_breast_cancer()\n",
    "acc, prc, rcl = train_model('log', bc.data, bc.target, normalize=True)\n",
    "print 'Accuracy:', acc\n",
    "print 'Precision:', prc\n",
    "print 'Recall:', rcl"
   ]
  },
  {
   "cell_type": "code",
   "execution_count": 4,
   "metadata": {},
   "outputs": [
    {
     "name": "stdout",
     "output_type": "stream",
     "text": [
      "Accuracy: 0.9605263157894737\n",
      "Precision: 0.125\n",
      "Recall: 0.25\n"
     ]
    },
    {
     "name": "stderr",
     "output_type": "stream",
     "text": [
      "D:\\Anaconda\\envs\\py27\\lib\\site-packages\\sklearn\\metrics\\classification.py:1135: UndefinedMetricWarning: Precision is ill-defined and being set to 0.0 due to no predicted samples.\n",
      "  'precision', 'predicted', average, warn_for)\n"
     ]
    }
   ],
   "source": [
    "imb_bc = pd.read_csv('./imbalanced_datasets/imbalanced_breast_cancer.csv')\n",
    "imb_bc_labels = np.array(imb_bc.label)\n",
    "imb_bc_data = np.array(imb_bc.drop('label', axis=1))        \n",
    "        \n",
    "acc, prc, rcl = train_model('log', imb_bc_data, imb_bc_labels, normalize=True)\n",
    "print 'Accuracy:', acc\n",
    "print 'Precision:', prc\n",
    "print 'Recall:', rcl"
   ]
  }
 ],
 "metadata": {
  "kernelspec": {
   "display_name": "Python 2",
   "language": "python",
   "name": "python2"
  },
  "language_info": {
   "codemirror_mode": {
    "name": "ipython",
    "version": 2
   },
   "file_extension": ".py",
   "mimetype": "text/x-python",
   "name": "python",
   "nbconvert_exporter": "python",
   "pygments_lexer": "ipython2",
   "version": "2.7.15"
  }
 },
 "nbformat": 4,
 "nbformat_minor": 2
}
