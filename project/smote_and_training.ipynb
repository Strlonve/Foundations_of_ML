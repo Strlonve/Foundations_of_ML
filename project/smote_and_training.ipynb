{
 "cells": [
  {
   "cell_type": "code",
   "execution_count": 35,
   "metadata": {},
   "outputs": [],
   "source": [
    "from sklearn import datasets, model_selection, linear_model, metrics, preprocessing, svm, neighbors, tree\n",
    "import pandas as pd\n",
    "import numpy as np\n",
    "from matplotlib import pyplot as plt\n",
    "% matplotlib inline\n",
    "import math\n",
    "import seaborn as sns"
   ]
  },
  {
   "cell_type": "code",
   "execution_count": 36,
   "metadata": {},
   "outputs": [],
   "source": [
    "import warnings\n",
    "warnings.simplefilter('ignore')"
   ]
  },
  {
   "cell_type": "markdown",
   "metadata": {},
   "source": [
    "## SMOTE implementation and testing"
   ]
  },
  {
   "cell_type": "code",
   "execution_count": 37,
   "metadata": {},
   "outputs": [],
   "source": [
    "# function applies SMOTE algorithm to input dataframe using k-neighbours\n",
    "# returns dataset with generated synthetic datapoints\n",
    "# inputs: dataframe - pd.DataFrame, last column should comtain labels\n",
    "#         k - number of neighbors for the algorithm\n",
    "#         increase_rate - number of datapoint for each minor class instance, \n",
    "#            default value 0 - creates synthetic points to make dataset balanced\n",
    "#         imbalanced_label - minor class\n",
    "#            default value -1 - find the minor class itself\n",
    "#         random_state - seed\n",
    "def smote(dataframe, k, increase_rate=0, imbalanced_label=-1, random_state=0):\n",
    "    # get the labels of input dataframe\n",
    "    np.random.seed(random_state)\n",
    "    labels = dataframe.iloc[:, -1]\n",
    "    # extract unique labels and count number of examples for each one\n",
    "    unq_labels, cnt_labels = np.unique(labels, return_counts=True)\n",
    "    # detect minor class and major class\n",
    "    unq_labels = list(unq_labels)\n",
    "    cnt_labels = list(cnt_labels)\n",
    "    if imbalanced_label == -1:\n",
    "        imbalanced_label = unq_labels.index(cnt_labels.index(min(cnt_labels)))\n",
    "    max_label = unq_labels.index(cnt_labels.index(max(cnt_labels)))\n",
    "    # calculate for how many times minor class should be extended to reach major one\n",
    "    num_imbalanced = min(cnt_labels)\n",
    "    num_max_label = max(cnt_labels)\n",
    "    if increase_rate == 0:\n",
    "        increase_rate = int(num_max_label / num_imbalanced) - 1\n",
    "    synth_data = []\n",
    "    \n",
    "    # rescale Dataframe values\n",
    "    columns = dataframe.columns\n",
    "    labels = np.array(dataframe.iloc[:, -1])\n",
    "    scaler = preprocessing.MinMaxScaler()\n",
    "    data = dataframe.iloc[:, :-1]\n",
    "    scaler.fit(data)\n",
    "    scaled_data = scaler.transform(data)\n",
    "    dataframe = pd.DataFrame(scaled_data)\n",
    "    dataframe['label'] = labels\n",
    "    \n",
    "    # extract minor class examples\n",
    "    imbalanced_class = dataframe.loc[dataframe.iloc[:, -1] == imbalanced_label]\n",
    "    \n",
    "    for i in range(num_imbalanced):\n",
    "        # fit nearest neighbors, number is k + 1 to find k neighbors apart from duplicate which is always the first\n",
    "        neigh = neighbors.NearestNeighbors(n_neighbors=k + 1)\n",
    "        neigh.fit(imbalanced_class.iloc[:, :-1], imbalanced_class.iloc[:, -1])\n",
    "        # find indices of kneighbors in input dataset\n",
    "        ind_array = neigh.kneighbors(X=[imbalanced_class.iloc[i, :-1]],return_distance=False)\n",
    "        # generate synthetic datapoints for minor class i-th example\n",
    "        new_data = populate(imbalanced_class, increase_rate, i, ind_array, random_state)\n",
    "        for j in range(len(new_data)):\n",
    "            synth_data.append(new_data[j])   \n",
    "    # process synthetic datapoints and merge with initial dataset        \n",
    "    synth_data = np.array(synth_data)\n",
    "    synth_data_dataframe = pd.DataFrame(synth_data)\n",
    "    synth_data_dataframe.columns = dataframe.iloc[:, :-1].columns\n",
    "    synth_labels = [imbalanced_label for i in range(synth_data_dataframe.shape[0])]\n",
    "    synth_data_dataframe['label'] = synth_labels\n",
    "    new_dataframe = pd.concat([dataframe, synth_data_dataframe])\n",
    "    \n",
    "    # inverse scaling \n",
    "    labels = np.array(new_dataframe.iloc[:, -1])\n",
    "    new_data = new_dataframe.iloc[:, :-1]\n",
    "    scaled_new_data = scaler.inverse_transform(new_data)\n",
    "    new_dataframe = pd.DataFrame(scaled_new_data)\n",
    "    new_dataframe['label'] = labels\n",
    "    new_dataframe.columns = columns\n",
    "    new_dataframe = new_dataframe.sample(frac=1, random_state=random_state)\n",
    "    return new_dataframe\n",
    " \n",
    "# function generates synthetic datapoints using a datapoint and its nearest neighbors indices\n",
    "# returns list of synthetic datapoints\n",
    "# inputs: imbalanced_class - dataframe containing only minor class\n",
    "#         inc_rate - hom many times minor class should be extended\n",
    "#         i - index of minor class example\n",
    "#         ind_array - array containing nearest neighbors indices in initital imbalanced dataframe\n",
    "#         random_state - seed\n",
    "def populate(imbalanced_class, inc_rate, i, ind_array, random_state):\n",
    "    # list for new synthetic data\n",
    "    np.random.seed(random_state)\n",
    "    synth_data = []\n",
    "    while inc_rate != 0:\n",
    "        # choose random neighbour from 1 to k, ignore 0 because it is duplicate\n",
    "        rand_k = int(np.random.random() * ind_array[0].shape[0] - 1) + 1\n",
    "        # list for attributes of one datapoint\n",
    "        new_datapoint = []\n",
    "        for attr in range(imbalanced_class.iloc[:, :-1].shape[1]):\n",
    "            # calculate distance between neighbour and input minor class datapoint\n",
    "            dist = float(imbalanced_class.iloc[ind_array[:, rand_k], attr]) - float(imbalanced_class.iloc[i, attr])\n",
    "            gap = np.random.random()\n",
    "            # add attribute for synthetic datapoint\n",
    "            new_datapoint.append(imbalanced_class.iloc[i, attr] + gap * dist)\n",
    "        # append datapoint to the list with synthetic datapoints    \n",
    "        synth_data.append(new_datapoint)\n",
    "        inc_rate -= 1\n",
    "    return synth_data     "
   ]
  },
  {
   "cell_type": "code",
   "execution_count": 38,
   "metadata": {},
   "outputs": [],
   "source": [
    "# function to make scatter plot for simple blobs dataset\n",
    "# input: blobs - pd.DataFrame with dataset\n",
    "#        title - title for the plot\n",
    "def plot_blobs(blobs, title):\n",
    "    label_0 = blobs.loc[blobs['label'] == 0]\n",
    "    label_1 = blobs.loc[blobs['label'] == 1]\n",
    "    plt.title(title)\n",
    "    plt.scatter(label_0.x1, label_0.x2, marker='o')\n",
    "    plt.scatter(label_1.x1, label_1.x2, marker='x')\n",
    "    plt.xlabel('Feature 1')\n",
    "    plt.ylabel('Feature 2')\n",
    "    plt.show()"
   ]
  },
  {
   "cell_type": "code",
   "execution_count": 31,
   "metadata": {},
   "outputs": [
    {
     "data": {
      "image/png": "[encoded data removed]",
      "text/plain": [
       "<Figure size 432x288 with 1 Axes>"
      ]
     },
     "metadata": {},
     "output_type": "display_data"
    }
   ],
   "source": [
    "blobs = pd.read_csv('./imbalanced_datasets/imbalanced_blobs.csv')\n",
    "plot_blobs(blobs, 'imbalanced blobs')"
   ]
  },
  {
   "cell_type": "markdown",
   "metadata": {},
   "source": [
    "### Try different K in KNN inside SMOTE"
   ]
  },
  {
   "cell_type": "code",
   "execution_count": 32,
   "metadata": {},
   "outputs": [
    {
     "name": "stdout",
     "output_type": "stream",
     "text": [
      "Number of class 0 after SMOTE: 99\n",
      "Number of class 1 after SMOTE: 100\n"
     ]
    },
    {
     "data": {
      "image/png": "[encoded data removed]",
      "text/plain": [
       "<Figure size 432x288 with 1 Axes>"
      ]
     },
     "metadata": {},
     "output_type": "display_data"
    }
   ],
   "source": [
    "smote_blobs_3 = smote(blobs, 3)\n",
    "print 'Number of class 0 after SMOTE:', smote_blobs_3.loc[smote_blobs_3['label'] == 0].shape[0]\n",
    "print 'Number of class 1 after SMOTE:', smote_blobs_3.loc[smote_blobs_3['label'] == 1].shape[0]\n",
    "plot_blobs(smote_blobs_3, '3NN SMOTE')"
   ]
  },
  {
   "cell_type": "code",
   "execution_count": 33,
   "metadata": {},
   "outputs": [
    {
     "data": {
      "image/png": "[encoded data removed]",
      "text/plain": [
       "<Figure size 432x288 with 1 Axes>"
      ]
     },
     "metadata": {},
     "output_type": "display_data"
    }
   ],
   "source": [
    "smote_blobs_7 = smote(blobs, 7)\n",
    "plot_blobs(smote_blobs_7, '7NN SMOTE')"
   ]
  },
  {
   "cell_type": "code",
   "execution_count": 34,
   "metadata": {},
   "outputs": [
    {
     "data": {
      "image/png": "[encoded data removed]",
      "text/plain": [
       "<Figure size 432x288 with 1 Axes>"
      ]
     },
     "metadata": {},
     "output_type": "display_data"
    }
   ],
   "source": [
    "smote_blobs_13 = smote(blobs, 9)\n",
    "plot_blobs(smote_blobs_13, '9NN SMOTE')"
   ]
  },
  {
   "cell_type": "markdown",
   "metadata": {},
   "source": [
    "### Smote visualization for iris"
   ]
  },
  {
   "cell_type": "code",
   "execution_count": 83,
   "metadata": {},
   "outputs": [
    {
     "data": {
      "text/plain": [
       "<seaborn.axisgrid.PairGrid at 0x188c8080>"
      ]
     },
     "execution_count": 83,
     "metadata": {},
     "output_type": "execute_result"
    },
    {
     "data": {
      "image/png": "[encoded data removed]",
      "text/plain": [
       "<Figure size 942.375x900 with 30 Axes>"
      ]
     },
     "metadata": {},
     "output_type": "display_data"
    }
   ],
   "source": [
    "# pairplot visualiztion for iris dataset\n",
    "iris_bin = pd.read_csv('./binary_datasets/iris01.csv')\n",
    "sns.pairplot(iris_bin, hue='label')"
   ]
  },
  {
   "cell_type": "code",
   "execution_count": 10,
   "metadata": {},
   "outputs": [],
   "source": [
    "iris_imb = pd.read_csv('./imbalanced_datasets/imbalanced_iris01.csv')"
   ]
  },
  {
   "cell_type": "code",
   "execution_count": 11,
   "metadata": {},
   "outputs": [
    {
     "data": {
      "text/plain": [
       "<seaborn.axisgrid.PairGrid at 0xee96390>"
      ]
     },
     "execution_count": 11,
     "metadata": {},
     "output_type": "execute_result"
    },
    {
     "data": {
      "image/png": "[encoded data removed]",
      "text/plain": [
       "<Figure size 942.375x900 with 30 Axes>"
      ]
     },
     "metadata": {},
     "output_type": "display_data"
    }
   ],
   "source": [
    "sns.pairplot(iris_imb, hue='label')"
   ]
  },
  {
   "cell_type": "code",
   "execution_count": 12,
   "metadata": {},
   "outputs": [
    {
     "data": {
      "text/plain": [
       "<seaborn.axisgrid.PairGrid at 0x11d4fb00>"
      ]
     },
     "execution_count": 12,
     "metadata": {},
     "output_type": "execute_result"
    },
    {
     "data": {
      "image/png": "[encoded data removed]",
      "text/plain": [
       "<Figure size 942.375x900 with 30 Axes>"
      ]
     },
     "metadata": {},
     "output_type": "display_data"
    }
   ],
   "source": [
    "iris_smote = smote(iris_imb, 3, 5, 1)\n",
    "sns.pairplot(iris_smote, hue='label')"
   ]
  },
  {
   "cell_type": "markdown",
   "metadata": {},
   "source": [
    "## Training and Testing "
   ]
  },
  {
   "cell_type": "markdown",
   "metadata": {},
   "source": [
    "### Functions"
   ]
  },
  {
   "cell_type": "code",
   "execution_count": 47,
   "metadata": {},
   "outputs": [],
   "source": [
    "# returns precision, recall and F-measure for interesting class of confusion matrix returned after training and testing\n",
    "# inputs: conf_matrix - confusion matrix (2-dimensional array)\n",
    "# interesting_class - class for which all measures are calculated\n",
    "# IMPORTANT! Confusion matrix returning by sklearn method is sorted ascending and \n",
    "# rows are truly positives or negatives (TP value is for 0 class):\n",
    "# [TN, FP]\n",
    "# [FN, TP]\n",
    "# This function process matrix returned by sklearn\n",
    "def get_prc_rcl(conf_matrix, interesting_class=1):\n",
    "    # print input confusion matrix\n",
    "    print conf_matrix.round(3)\n",
    "    # calculate precision and recall from input matrix for interesting class\n",
    "    prc = round(conf_matrix[interesting_class][interesting_class] * 1.0 / sum(conf_matrix[:, interesting_class]), 3)\n",
    "    rcl = round(conf_matrix[interesting_class][interesting_class] * 1.0 / sum(conf_matrix[interesting_class]), 3)\n",
    "    if math.isnan(prc):\n",
    "        prc = 0\n",
    "    if math.isnan(rcl):\n",
    "        rcl = 0 \n",
    "    # make f-score equal to 0 if both precision and recall are zero values    \n",
    "    if prc == 0 and rcl == 0:\n",
    "        f_meas = 0\n",
    "    else:\n",
    "        f_meas = round(2 * (prc * rcl / (prc + rcl)), 3)\n",
    "    return prc, rcl, f_meas"
   ]
  },
  {
   "cell_type": "code",
   "execution_count": 48,
   "metadata": {},
   "outputs": [],
   "source": [
    "# function for training and testing a model\n",
    "# returns model evaluation metrics\n",
    "# inputs: classifier name - possible states 'log' - LR, 'svm' - SVM, '5nn' - 5NN, 'tree' - decision tree\n",
    "#         data, target of the dataset\n",
    "#         labels - possible label values in dataset\n",
    "#         random_state - seed (default=0)\n",
    "#         cv - number of folds in cross-validation (default=5)\n",
    "#         n_iter - number of iterations for LR\n",
    "#         interesting class - class for precision and recall scores\n",
    "#         apply smote - bool value for applying smote (applies if TRUE) (default = False)\n",
    "#         smote_inc_rate - increase rate for smote (default = 0)\n",
    "#         knn_smote - K in KNN for smote (default = 3)\n",
    "#         standard - data normaliztion/standartization using MinMaxScale (default = True)\n",
    "def train_model(clf_name, data, target, labels=[0, 1], random_state=0, cv=5, n_iter=100, interesting_class=1, \\\n",
    "                apply_smote=False, smote_inc_rate=0, knn_smote=3, standard=True, C=1):\n",
    "    # CV init\n",
    "    cv = model_selection.KFold(n_splits=cv,random_state=random_state)\n",
    "    # list for accuracies\n",
    "    accs = []\n",
    "    # confusion matrix init\n",
    "    conf_matr = np.zeros((np.unique(target).size, np.unique(target).size))\n",
    "    # cross validation loop\n",
    "    for train_inds, test_inds in cv.split(data):\n",
    "        # initialize classifier\n",
    "        if clf_name == 'log':\n",
    "            clf = linear_model.SGDClassifier(random_state=random_state, n_iter=n_iter)\n",
    "        if clf_name == 'svm':\n",
    "            clf = svm.SVC(kernel='rbf', random_state=random_state, C=C)\n",
    "        if clf_name == '5nn':\n",
    "            clf = neighbors.KNeighborsClassifier(n_neighbors=5)\n",
    "        if clf_name == 'tree':\n",
    "            clf = tree.DecisionTreeClassifier(max_depth=10, random_state=random_state)\n",
    "        # separate train folds and test fold\n",
    "        train_data = data[train_inds]\n",
    "        train_labels = target[train_inds]\n",
    "        test_data = data[test_inds]\n",
    "        test_labels = target[test_inds]\n",
    "        # SMOTE\n",
    "        if apply_smote:\n",
    "            train_df = pd.DataFrame(train_data)\n",
    "            train_df['label'] = train_labels\n",
    "            smote_train_df = smote(train_df, knn_smote, smote_inc_rate, interesting_class)\n",
    "            train_data = np.array(smote_train_df.iloc[:, :-1])\n",
    "            train_labels = np.array(smote_train_df.iloc[:, -1])\n",
    "        # standartization\n",
    "        if standard:\n",
    "            scaler = preprocessing.MinMaxScaler().fit(train_data)\n",
    "            train_data = scaler.transform(train_data)\n",
    "            test_data = scaler.transform(test_data)\n",
    "        # training  \n",
    "        clf.fit(train_data, train_labels)\n",
    "        # measure results: accuracy and confusion matrix\n",
    "        accs.append(clf.score(test_data, test_labels))\n",
    "        conf_matr += metrics.confusion_matrix(y_true=test_labels, y_pred=clf.predict(test_data), labels=labels)\n",
    "    # calculate mean accuracy, precision, rcl, f_meas\n",
    "    mean_acc = np.array(accs).mean()\n",
    "    prcs, rcls, f_meas = get_prc_rcl(conf_matrix=conf_matr, interesting_class=interesting_class)  \n",
    "    return mean_acc, prcs, rcls, f_meas, conf_matr"
   ]
  },
  {
   "cell_type": "code",
   "execution_count": 49,
   "metadata": {},
   "outputs": [],
   "source": [
    "# function to test dataset with different classifiers\n",
    "# returns the results for testing with different classifiers in pd.DataFrame\n",
    "# inputs are same as for train_model apart from:\n",
    "#     classifiers - names of classifiers for train_models function.\n",
    "def test_dataset(data, target, name, labels=[0, 1], classifiers = ['log', 'svm', '5nn', 'tree'], cv=5, n_iter=100, \\\n",
    "                 apply_smote=False, knn_smote=3, smote_inc_rate=0, standard=True, interesting_class=1, C=1):\n",
    "    columns = ['dataset', 'algorithm', 'mean accuracy', 'precision', 'recall', 'F-measure']\n",
    "    df = pd.DataFrame(columns=columns)    \n",
    "    for clf in classifiers:\n",
    "        print(clf, 'is running')\n",
    "        \n",
    "        acc, prc, rcl, f_meas, conf_matr = train_model(clf_name=clf, data=data, target=target, cv=cv, n_iter=n_iter, \\\n",
    "                                                       apply_smote=apply_smote, knn_smote=knn_smote, \\\n",
    "                                                       smote_inc_rate=smote_inc_rate, standard=standard, labels=labels,\\\n",
    "                                                       interesting_class=interesting_class, C=C)\n",
    "        \n",
    "        row = [name, clf, round(acc, 3), prc, rcl, f_meas]\n",
    "        df.loc[classifiers.index(clf)] = row\n",
    "    return df        "
   ]
  },
  {
   "cell_type": "markdown",
   "metadata": {},
   "source": [
    "## Datasets"
   ]
  },
  {
   "cell_type": "markdown",
   "metadata": {},
   "source": [
    "### Train and test on balanced, imbalanced and with SMOTE increase rate 1"
   ]
  },
  {
   "cell_type": "markdown",
   "metadata": {},
   "source": [
    "### Breast Cancer"
   ]
  },
  {
   "cell_type": "code",
   "execution_count": 16,
   "metadata": {},
   "outputs": [
    {
     "name": "stdout",
     "output_type": "stream",
     "text": [
      "('log', 'is running')\n",
      "[[200.  12.]\n",
      " [  7. 350.]]\n",
      "('svm', 'is running')\n",
      "[[179.  33.]\n",
      " [  1. 356.]]\n",
      "('5nn', 'is running')\n",
      "[[196.  16.]\n",
      " [  6. 351.]]\n",
      "('tree', 'is running')\n",
      "[[190.  22.]\n",
      " [ 33. 324.]]\n"
     ]
    },
    {
     "data": {
      "text/html": [
       "<div>\n",
       "<style scoped>\n",
       "    .dataframe tbody tr th:only-of-type {\n",
       "        vertical-align: middle;\n",
       "    }\n",
       "\n",
       "    .dataframe tbody tr th {\n",
       "        vertical-align: top;\n",
       "    }\n",
       "\n",
       "    .dataframe thead th {\n",
       "        text-align: right;\n",
       "    }\n",
       "</style>\n",
       "<table border=\"1\" class=\"dataframe\">\n",
       "  <thead>\n",
       "    <tr style=\"text-align: right;\">\n",
       "      <th></th>\n",
       "      <th>dataset</th>\n",
       "      <th>algorithm</th>\n",
       "      <th>mean accuracy</th>\n",
       "      <th>precision</th>\n",
       "      <th>recall</th>\n",
       "      <th>F-measure</th>\n",
       "    </tr>\n",
       "  </thead>\n",
       "  <tbody>\n",
       "    <tr>\n",
       "      <th>0</th>\n",
       "      <td>bc</td>\n",
       "      <td>log</td>\n",
       "      <td>0.967</td>\n",
       "      <td>0.967</td>\n",
       "      <td>0.980</td>\n",
       "      <td>0.973</td>\n",
       "    </tr>\n",
       "    <tr>\n",
       "      <th>1</th>\n",
       "      <td>bc</td>\n",
       "      <td>svm</td>\n",
       "      <td>0.940</td>\n",
       "      <td>0.915</td>\n",
       "      <td>0.997</td>\n",
       "      <td>0.954</td>\n",
       "    </tr>\n",
       "    <tr>\n",
       "      <th>2</th>\n",
       "      <td>bc</td>\n",
       "      <td>5nn</td>\n",
       "      <td>0.961</td>\n",
       "      <td>0.956</td>\n",
       "      <td>0.983</td>\n",
       "      <td>0.969</td>\n",
       "    </tr>\n",
       "    <tr>\n",
       "      <th>3</th>\n",
       "      <td>bc</td>\n",
       "      <td>tree</td>\n",
       "      <td>0.903</td>\n",
       "      <td>0.936</td>\n",
       "      <td>0.908</td>\n",
       "      <td>0.922</td>\n",
       "    </tr>\n",
       "  </tbody>\n",
       "</table>\n",
       "</div>"
      ],
      "text/plain": [
       "  dataset algorithm  mean accuracy  precision  recall  F-measure\n",
       "0      bc       log          0.967      0.967   0.980      0.973\n",
       "1      bc       svm          0.940      0.915   0.997      0.954\n",
       "2      bc       5nn          0.961      0.956   0.983      0.969\n",
       "3      bc      tree          0.903      0.936   0.908      0.922"
      ]
     },
     "execution_count": 16,
     "metadata": {},
     "output_type": "execute_result"
    }
   ],
   "source": [
    "bc = datasets.load_breast_cancer()\n",
    "test_dataset(bc.data, bc.target, name = 'bc', standard=True, interesting_class=1)"
   ]
  },
  {
   "cell_type": "code",
   "execution_count": 17,
   "metadata": {},
   "outputs": [
    {
     "name": "stdout",
     "output_type": "stream",
     "text": [
      "('log', 'is running')\n",
      "[[208.   4.]\n",
      " [  6.  18.]]\n",
      "('svm', 'is running')\n",
      "[[212.   0.]\n",
      " [ 24.   0.]]\n",
      "('5nn', 'is running')\n",
      "[[210.   2.]\n",
      " [  7.  17.]]\n",
      "('tree', 'is running')\n",
      "[[209.   3.]\n",
      " [  7.  17.]]\n"
     ]
    },
    {
     "data": {
      "text/html": [
       "<div>\n",
       "<style scoped>\n",
       "    .dataframe tbody tr th:only-of-type {\n",
       "        vertical-align: middle;\n",
       "    }\n",
       "\n",
       "    .dataframe tbody tr th {\n",
       "        vertical-align: top;\n",
       "    }\n",
       "\n",
       "    .dataframe thead th {\n",
       "        text-align: right;\n",
       "    }\n",
       "</style>\n",
       "<table border=\"1\" class=\"dataframe\">\n",
       "  <thead>\n",
       "    <tr style=\"text-align: right;\">\n",
       "      <th></th>\n",
       "      <th>dataset</th>\n",
       "      <th>algorithm</th>\n",
       "      <th>mean accuracy</th>\n",
       "      <th>precision</th>\n",
       "      <th>recall</th>\n",
       "      <th>F-measure</th>\n",
       "    </tr>\n",
       "  </thead>\n",
       "  <tbody>\n",
       "    <tr>\n",
       "      <th>0</th>\n",
       "      <td>imb_bc</td>\n",
       "      <td>log</td>\n",
       "      <td>0.958</td>\n",
       "      <td>0.818</td>\n",
       "      <td>0.750</td>\n",
       "      <td>0.783</td>\n",
       "    </tr>\n",
       "    <tr>\n",
       "      <th>1</th>\n",
       "      <td>imb_bc</td>\n",
       "      <td>svm</td>\n",
       "      <td>0.898</td>\n",
       "      <td>0.000</td>\n",
       "      <td>0.000</td>\n",
       "      <td>0.000</td>\n",
       "    </tr>\n",
       "    <tr>\n",
       "      <th>2</th>\n",
       "      <td>imb_bc</td>\n",
       "      <td>5nn</td>\n",
       "      <td>0.962</td>\n",
       "      <td>0.895</td>\n",
       "      <td>0.708</td>\n",
       "      <td>0.791</td>\n",
       "    </tr>\n",
       "    <tr>\n",
       "      <th>3</th>\n",
       "      <td>imb_bc</td>\n",
       "      <td>tree</td>\n",
       "      <td>0.958</td>\n",
       "      <td>0.850</td>\n",
       "      <td>0.708</td>\n",
       "      <td>0.773</td>\n",
       "    </tr>\n",
       "  </tbody>\n",
       "</table>\n",
       "</div>"
      ],
      "text/plain": [
       "  dataset algorithm  mean accuracy  precision  recall  F-measure\n",
       "0  imb_bc       log          0.958      0.818   0.750      0.783\n",
       "1  imb_bc       svm          0.898      0.000   0.000      0.000\n",
       "2  imb_bc       5nn          0.962      0.895   0.708      0.791\n",
       "3  imb_bc      tree          0.958      0.850   0.708      0.773"
      ]
     },
     "execution_count": 17,
     "metadata": {},
     "output_type": "execute_result"
    }
   ],
   "source": [
    "imb_bc = pd.read_csv('./imbalanced_datasets/imbalanced_breast_cancer.csv')\n",
    "imb_bc_data = np.array(imb_bc.iloc[:,:-1])\n",
    "imb_bc_label = np.array(imb_bc.iloc[:,-1])\n",
    "# print(imb_bc.loc[imb_bc['label'] == 0].shape[0])\n",
    "test_dataset(imb_bc_data, imb_bc_label, name='imb_bc', standard=True)"
   ]
  },
  {
   "cell_type": "code",
   "execution_count": 18,
   "metadata": {},
   "outputs": [
    {
     "name": "stdout",
     "output_type": "stream",
     "text": [
      "('log', 'is running')\n",
      "[[206.   6.]\n",
      " [  4.  20.]]\n",
      "('svm', 'is running')\n",
      "[[212.   0.]\n",
      " [ 22.   2.]]\n",
      "('5nn', 'is running')\n",
      "[[207.   5.]\n",
      " [  5.  19.]]\n",
      "('tree', 'is running')\n",
      "[[208.   4.]\n",
      " [  6.  18.]]\n"
     ]
    },
    {
     "data": {
      "text/html": [
       "<div>\n",
       "<style scoped>\n",
       "    .dataframe tbody tr th:only-of-type {\n",
       "        vertical-align: middle;\n",
       "    }\n",
       "\n",
       "    .dataframe tbody tr th {\n",
       "        vertical-align: top;\n",
       "    }\n",
       "\n",
       "    .dataframe thead th {\n",
       "        text-align: right;\n",
       "    }\n",
       "</style>\n",
       "<table border=\"1\" class=\"dataframe\">\n",
       "  <thead>\n",
       "    <tr style=\"text-align: right;\">\n",
       "      <th></th>\n",
       "      <th>dataset</th>\n",
       "      <th>algorithm</th>\n",
       "      <th>mean accuracy</th>\n",
       "      <th>precision</th>\n",
       "      <th>recall</th>\n",
       "      <th>F-measure</th>\n",
       "    </tr>\n",
       "  </thead>\n",
       "  <tbody>\n",
       "    <tr>\n",
       "      <th>0</th>\n",
       "      <td>smote_bc</td>\n",
       "      <td>log</td>\n",
       "      <td>0.958</td>\n",
       "      <td>0.769</td>\n",
       "      <td>0.833</td>\n",
       "      <td>0.800</td>\n",
       "    </tr>\n",
       "    <tr>\n",
       "      <th>1</th>\n",
       "      <td>smote_bc</td>\n",
       "      <td>svm</td>\n",
       "      <td>0.907</td>\n",
       "      <td>1.000</td>\n",
       "      <td>0.083</td>\n",
       "      <td>0.153</td>\n",
       "    </tr>\n",
       "    <tr>\n",
       "      <th>2</th>\n",
       "      <td>smote_bc</td>\n",
       "      <td>5nn</td>\n",
       "      <td>0.958</td>\n",
       "      <td>0.792</td>\n",
       "      <td>0.792</td>\n",
       "      <td>0.792</td>\n",
       "    </tr>\n",
       "    <tr>\n",
       "      <th>3</th>\n",
       "      <td>smote_bc</td>\n",
       "      <td>tree</td>\n",
       "      <td>0.958</td>\n",
       "      <td>0.818</td>\n",
       "      <td>0.750</td>\n",
       "      <td>0.783</td>\n",
       "    </tr>\n",
       "  </tbody>\n",
       "</table>\n",
       "</div>"
      ],
      "text/plain": [
       "    dataset algorithm  mean accuracy  precision  recall  F-measure\n",
       "0  smote_bc       log          0.958      0.769   0.833      0.800\n",
       "1  smote_bc       svm          0.907      1.000   0.083      0.153\n",
       "2  smote_bc       5nn          0.958      0.792   0.792      0.792\n",
       "3  smote_bc      tree          0.958      0.818   0.750      0.783"
      ]
     },
     "execution_count": 18,
     "metadata": {},
     "output_type": "execute_result"
    }
   ],
   "source": [
    "test_dataset(imb_bc_data, imb_bc_label, name='smote_bc', apply_smote=True, smote_inc_rate=1, standard=True)"
   ]
  },
  {
   "cell_type": "markdown",
   "metadata": {},
   "source": [
    "### Iris"
   ]
  },
  {
   "cell_type": "code",
   "execution_count": 19,
   "metadata": {},
   "outputs": [
    {
     "name": "stdout",
     "output_type": "stream",
     "text": [
      "('log', 'is running')\n",
      "[[46.  4.]\n",
      " [ 1. 49.]]\n",
      "('svm', 'is running')\n",
      "[[46.  4.]\n",
      " [ 9. 41.]]\n",
      "('5nn', 'is running')\n",
      "[[46.  4.]\n",
      " [ 4. 46.]]\n",
      "('tree', 'is running')\n",
      "[[46.  4.]\n",
      " [ 5. 45.]]\n"
     ]
    },
    {
     "data": {
      "text/html": [
       "<div>\n",
       "<style scoped>\n",
       "    .dataframe tbody tr th:only-of-type {\n",
       "        vertical-align: middle;\n",
       "    }\n",
       "\n",
       "    .dataframe tbody tr th {\n",
       "        vertical-align: top;\n",
       "    }\n",
       "\n",
       "    .dataframe thead th {\n",
       "        text-align: right;\n",
       "    }\n",
       "</style>\n",
       "<table border=\"1\" class=\"dataframe\">\n",
       "  <thead>\n",
       "    <tr style=\"text-align: right;\">\n",
       "      <th></th>\n",
       "      <th>dataset</th>\n",
       "      <th>algorithm</th>\n",
       "      <th>mean accuracy</th>\n",
       "      <th>precision</th>\n",
       "      <th>recall</th>\n",
       "      <th>F-measure</th>\n",
       "    </tr>\n",
       "  </thead>\n",
       "  <tbody>\n",
       "    <tr>\n",
       "      <th>0</th>\n",
       "      <td>iris</td>\n",
       "      <td>log</td>\n",
       "      <td>0.95</td>\n",
       "      <td>0.925</td>\n",
       "      <td>0.98</td>\n",
       "      <td>0.952</td>\n",
       "    </tr>\n",
       "    <tr>\n",
       "      <th>1</th>\n",
       "      <td>iris</td>\n",
       "      <td>svm</td>\n",
       "      <td>0.87</td>\n",
       "      <td>0.911</td>\n",
       "      <td>0.82</td>\n",
       "      <td>0.863</td>\n",
       "    </tr>\n",
       "    <tr>\n",
       "      <th>2</th>\n",
       "      <td>iris</td>\n",
       "      <td>5nn</td>\n",
       "      <td>0.92</td>\n",
       "      <td>0.920</td>\n",
       "      <td>0.92</td>\n",
       "      <td>0.920</td>\n",
       "    </tr>\n",
       "    <tr>\n",
       "      <th>3</th>\n",
       "      <td>iris</td>\n",
       "      <td>tree</td>\n",
       "      <td>0.91</td>\n",
       "      <td>0.918</td>\n",
       "      <td>0.90</td>\n",
       "      <td>0.909</td>\n",
       "    </tr>\n",
       "  </tbody>\n",
       "</table>\n",
       "</div>"
      ],
      "text/plain": [
       "  dataset algorithm  mean accuracy  precision  recall  F-measure\n",
       "0    iris       log           0.95      0.925    0.98      0.952\n",
       "1    iris       svm           0.87      0.911    0.82      0.863\n",
       "2    iris       5nn           0.92      0.920    0.92      0.920\n",
       "3    iris      tree           0.91      0.918    0.90      0.909"
      ]
     },
     "execution_count": 19,
     "metadata": {},
     "output_type": "execute_result"
    }
   ],
   "source": [
    "iris_0 = pd.read_csv('./binary_datasets/iris01.csv')\n",
    "iris_data = iris_0.iloc[:,:-1]\n",
    "iris_labels = iris_0.iloc[:, -1]\n",
    "test_dataset(np.array(iris_data), np.array(iris_labels), name = 'iris', labels = [0, 1], standard=True)"
   ]
  },
  {
   "cell_type": "code",
   "execution_count": 20,
   "metadata": {},
   "outputs": [
    {
     "name": "stdout",
     "output_type": "stream",
     "text": [
      "('log', 'is running')\n",
      "[[50.  0.]\n",
      " [ 1.  5.]]\n",
      "('svm', 'is running')\n",
      "[[50.  0.]\n",
      " [ 6.  0.]]\n",
      "('5nn', 'is running')\n",
      "[[50.  0.]\n",
      " [ 2.  4.]]\n",
      "('tree', 'is running')\n",
      "[[49.  1.]\n",
      " [ 0.  6.]]\n"
     ]
    },
    {
     "data": {
      "text/html": [
       "<div>\n",
       "<style scoped>\n",
       "    .dataframe tbody tr th:only-of-type {\n",
       "        vertical-align: middle;\n",
       "    }\n",
       "\n",
       "    .dataframe tbody tr th {\n",
       "        vertical-align: top;\n",
       "    }\n",
       "\n",
       "    .dataframe thead th {\n",
       "        text-align: right;\n",
       "    }\n",
       "</style>\n",
       "<table border=\"1\" class=\"dataframe\">\n",
       "  <thead>\n",
       "    <tr style=\"text-align: right;\">\n",
       "      <th></th>\n",
       "      <th>dataset</th>\n",
       "      <th>algorithm</th>\n",
       "      <th>mean accuracy</th>\n",
       "      <th>precision</th>\n",
       "      <th>recall</th>\n",
       "      <th>F-measure</th>\n",
       "    </tr>\n",
       "  </thead>\n",
       "  <tbody>\n",
       "    <tr>\n",
       "      <th>0</th>\n",
       "      <td>imb_iris</td>\n",
       "      <td>log</td>\n",
       "      <td>0.983</td>\n",
       "      <td>1.000</td>\n",
       "      <td>0.833</td>\n",
       "      <td>0.909</td>\n",
       "    </tr>\n",
       "    <tr>\n",
       "      <th>1</th>\n",
       "      <td>imb_iris</td>\n",
       "      <td>svm</td>\n",
       "      <td>0.894</td>\n",
       "      <td>0.000</td>\n",
       "      <td>0.000</td>\n",
       "      <td>0.000</td>\n",
       "    </tr>\n",
       "    <tr>\n",
       "      <th>2</th>\n",
       "      <td>imb_iris</td>\n",
       "      <td>5nn</td>\n",
       "      <td>0.965</td>\n",
       "      <td>1.000</td>\n",
       "      <td>0.667</td>\n",
       "      <td>0.800</td>\n",
       "    </tr>\n",
       "    <tr>\n",
       "      <th>3</th>\n",
       "      <td>imb_iris</td>\n",
       "      <td>tree</td>\n",
       "      <td>0.983</td>\n",
       "      <td>0.857</td>\n",
       "      <td>1.000</td>\n",
       "      <td>0.923</td>\n",
       "    </tr>\n",
       "  </tbody>\n",
       "</table>\n",
       "</div>"
      ],
      "text/plain": [
       "    dataset algorithm  mean accuracy  precision  recall  F-measure\n",
       "0  imb_iris       log          0.983      1.000   0.833      0.909\n",
       "1  imb_iris       svm          0.894      0.000   0.000      0.000\n",
       "2  imb_iris       5nn          0.965      1.000   0.667      0.800\n",
       "3  imb_iris      tree          0.983      0.857   1.000      0.923"
      ]
     },
     "execution_count": 20,
     "metadata": {},
     "output_type": "execute_result"
    }
   ],
   "source": [
    "imb_iris = pd.read_csv('./imbalanced_datasets/imbalanced_iris01.csv')\n",
    "imb_iris_data = np.array(imb_iris.iloc[:,:-1])\n",
    "imb_iris_label = np.array(imb_iris.iloc[:,-1])\n",
    "test_dataset(imb_iris_data, imb_iris_label, name='imb_iris', standard=True)"
   ]
  },
  {
   "cell_type": "code",
   "execution_count": 21,
   "metadata": {},
   "outputs": [
    {
     "name": "stdout",
     "output_type": "stream",
     "text": [
      "('log', 'is running')\n",
      "[[50.  0.]\n",
      " [ 1.  5.]]\n",
      "('svm', 'is running')\n",
      "[[50.  0.]\n",
      " [ 2.  4.]]\n",
      "('5nn', 'is running')\n",
      "[[50.  0.]\n",
      " [ 2.  4.]]\n",
      "('tree', 'is running')\n",
      "[[49.  1.]\n",
      " [ 0.  6.]]\n"
     ]
    },
    {
     "data": {
      "text/html": [
       "<div>\n",
       "<style scoped>\n",
       "    .dataframe tbody tr th:only-of-type {\n",
       "        vertical-align: middle;\n",
       "    }\n",
       "\n",
       "    .dataframe tbody tr th {\n",
       "        vertical-align: top;\n",
       "    }\n",
       "\n",
       "    .dataframe thead th {\n",
       "        text-align: right;\n",
       "    }\n",
       "</style>\n",
       "<table border=\"1\" class=\"dataframe\">\n",
       "  <thead>\n",
       "    <tr style=\"text-align: right;\">\n",
       "      <th></th>\n",
       "      <th>dataset</th>\n",
       "      <th>algorithm</th>\n",
       "      <th>mean accuracy</th>\n",
       "      <th>precision</th>\n",
       "      <th>recall</th>\n",
       "      <th>F-measure</th>\n",
       "    </tr>\n",
       "  </thead>\n",
       "  <tbody>\n",
       "    <tr>\n",
       "      <th>0</th>\n",
       "      <td>smote_iris</td>\n",
       "      <td>log</td>\n",
       "      <td>0.983</td>\n",
       "      <td>1.000</td>\n",
       "      <td>0.833</td>\n",
       "      <td>0.909</td>\n",
       "    </tr>\n",
       "    <tr>\n",
       "      <th>1</th>\n",
       "      <td>smote_iris</td>\n",
       "      <td>svm</td>\n",
       "      <td>0.965</td>\n",
       "      <td>1.000</td>\n",
       "      <td>0.667</td>\n",
       "      <td>0.800</td>\n",
       "    </tr>\n",
       "    <tr>\n",
       "      <th>2</th>\n",
       "      <td>smote_iris</td>\n",
       "      <td>5nn</td>\n",
       "      <td>0.965</td>\n",
       "      <td>1.000</td>\n",
       "      <td>0.667</td>\n",
       "      <td>0.800</td>\n",
       "    </tr>\n",
       "    <tr>\n",
       "      <th>3</th>\n",
       "      <td>smote_iris</td>\n",
       "      <td>tree</td>\n",
       "      <td>0.983</td>\n",
       "      <td>0.857</td>\n",
       "      <td>1.000</td>\n",
       "      <td>0.923</td>\n",
       "    </tr>\n",
       "  </tbody>\n",
       "</table>\n",
       "</div>"
      ],
      "text/plain": [
       "      dataset algorithm  mean accuracy  precision  recall  F-measure\n",
       "0  smote_iris       log          0.983      1.000   0.833      0.909\n",
       "1  smote_iris       svm          0.965      1.000   0.667      0.800\n",
       "2  smote_iris       5nn          0.965      1.000   0.667      0.800\n",
       "3  smote_iris      tree          0.983      0.857   1.000      0.923"
      ]
     },
     "execution_count": 21,
     "metadata": {},
     "output_type": "execute_result"
    }
   ],
   "source": [
    "test_dataset(imb_iris_data, imb_iris_label, name='smote_iris', apply_smote=True, smote_inc_rate=1, standard=True)"
   ]
  },
  {
   "cell_type": "markdown",
   "metadata": {},
   "source": [
    "### Wine"
   ]
  },
  {
   "cell_type": "code",
   "execution_count": 22,
   "metadata": {},
   "outputs": [
    {
     "name": "stdout",
     "output_type": "stream",
     "text": [
      "('log', 'is running')\n",
      "[[46.  4.]\n",
      " [ 1. 49.]]\n",
      "('svm', 'is running')\n",
      "[[46.  4.]\n",
      " [ 9. 41.]]\n",
      "('5nn', 'is running')\n",
      "[[46.  4.]\n",
      " [ 4. 46.]]\n",
      "('tree', 'is running')\n",
      "[[46.  4.]\n",
      " [ 5. 45.]]\n"
     ]
    },
    {
     "data": {
      "text/html": [
       "<div>\n",
       "<style scoped>\n",
       "    .dataframe tbody tr th:only-of-type {\n",
       "        vertical-align: middle;\n",
       "    }\n",
       "\n",
       "    .dataframe tbody tr th {\n",
       "        vertical-align: top;\n",
       "    }\n",
       "\n",
       "    .dataframe thead th {\n",
       "        text-align: right;\n",
       "    }\n",
       "</style>\n",
       "<table border=\"1\" class=\"dataframe\">\n",
       "  <thead>\n",
       "    <tr style=\"text-align: right;\">\n",
       "      <th></th>\n",
       "      <th>dataset</th>\n",
       "      <th>algorithm</th>\n",
       "      <th>mean accuracy</th>\n",
       "      <th>precision</th>\n",
       "      <th>recall</th>\n",
       "      <th>F-measure</th>\n",
       "    </tr>\n",
       "  </thead>\n",
       "  <tbody>\n",
       "    <tr>\n",
       "      <th>0</th>\n",
       "      <td>wine</td>\n",
       "      <td>log</td>\n",
       "      <td>0.95</td>\n",
       "      <td>0.925</td>\n",
       "      <td>0.98</td>\n",
       "      <td>0.952</td>\n",
       "    </tr>\n",
       "    <tr>\n",
       "      <th>1</th>\n",
       "      <td>wine</td>\n",
       "      <td>svm</td>\n",
       "      <td>0.87</td>\n",
       "      <td>0.911</td>\n",
       "      <td>0.82</td>\n",
       "      <td>0.863</td>\n",
       "    </tr>\n",
       "    <tr>\n",
       "      <th>2</th>\n",
       "      <td>wine</td>\n",
       "      <td>5nn</td>\n",
       "      <td>0.92</td>\n",
       "      <td>0.920</td>\n",
       "      <td>0.92</td>\n",
       "      <td>0.920</td>\n",
       "    </tr>\n",
       "    <tr>\n",
       "      <th>3</th>\n",
       "      <td>wine</td>\n",
       "      <td>tree</td>\n",
       "      <td>0.91</td>\n",
       "      <td>0.918</td>\n",
       "      <td>0.90</td>\n",
       "      <td>0.909</td>\n",
       "    </tr>\n",
       "  </tbody>\n",
       "</table>\n",
       "</div>"
      ],
      "text/plain": [
       "  dataset algorithm  mean accuracy  precision  recall  F-measure\n",
       "0    wine       log           0.95      0.925    0.98      0.952\n",
       "1    wine       svm           0.87      0.911    0.82      0.863\n",
       "2    wine       5nn           0.92      0.920    0.92      0.920\n",
       "3    wine      tree           0.91      0.918    0.90      0.909"
      ]
     },
     "execution_count": 22,
     "metadata": {},
     "output_type": "execute_result"
    }
   ],
   "source": [
    "wine_0 = pd.read_csv('./binary_datasets/wine01.csv')\n",
    "wine_data = wine_0.iloc[:,:-1]\n",
    "wine_labels = wine_0.iloc[:, -1]\n",
    "test_dataset(np.array(iris_data), np.array(iris_labels), name = 'wine', standard=True)"
   ]
  },
  {
   "cell_type": "code",
   "execution_count": 23,
   "metadata": {},
   "outputs": [
    {
     "name": "stdout",
     "output_type": "stream",
     "text": [
      "('log', 'is running')\n",
      "[[59.  0.]\n",
      " [ 2.  5.]]\n",
      "('svm', 'is running')\n",
      "[[59.  0.]\n",
      " [ 7.  0.]]\n",
      "('5nn', 'is running')\n",
      "[[59.  0.]\n",
      " [ 3.  4.]]\n",
      "('tree', 'is running')\n",
      "[[59.  0.]\n",
      " [ 2.  5.]]\n"
     ]
    },
    {
     "data": {
      "text/html": [
       "<div>\n",
       "<style scoped>\n",
       "    .dataframe tbody tr th:only-of-type {\n",
       "        vertical-align: middle;\n",
       "    }\n",
       "\n",
       "    .dataframe tbody tr th {\n",
       "        vertical-align: top;\n",
       "    }\n",
       "\n",
       "    .dataframe thead th {\n",
       "        text-align: right;\n",
       "    }\n",
       "</style>\n",
       "<table border=\"1\" class=\"dataframe\">\n",
       "  <thead>\n",
       "    <tr style=\"text-align: right;\">\n",
       "      <th></th>\n",
       "      <th>dataset</th>\n",
       "      <th>algorithm</th>\n",
       "      <th>mean accuracy</th>\n",
       "      <th>precision</th>\n",
       "      <th>recall</th>\n",
       "      <th>F-measure</th>\n",
       "    </tr>\n",
       "  </thead>\n",
       "  <tbody>\n",
       "    <tr>\n",
       "      <th>0</th>\n",
       "      <td>imb_wine</td>\n",
       "      <td>log</td>\n",
       "      <td>0.970</td>\n",
       "      <td>1.0</td>\n",
       "      <td>0.714</td>\n",
       "      <td>0.833</td>\n",
       "    </tr>\n",
       "    <tr>\n",
       "      <th>1</th>\n",
       "      <td>imb_wine</td>\n",
       "      <td>svm</td>\n",
       "      <td>0.893</td>\n",
       "      <td>0.0</td>\n",
       "      <td>0.000</td>\n",
       "      <td>0.000</td>\n",
       "    </tr>\n",
       "    <tr>\n",
       "      <th>2</th>\n",
       "      <td>imb_wine</td>\n",
       "      <td>5nn</td>\n",
       "      <td>0.955</td>\n",
       "      <td>1.0</td>\n",
       "      <td>0.571</td>\n",
       "      <td>0.727</td>\n",
       "    </tr>\n",
       "    <tr>\n",
       "      <th>3</th>\n",
       "      <td>imb_wine</td>\n",
       "      <td>tree</td>\n",
       "      <td>0.969</td>\n",
       "      <td>1.0</td>\n",
       "      <td>0.714</td>\n",
       "      <td>0.833</td>\n",
       "    </tr>\n",
       "  </tbody>\n",
       "</table>\n",
       "</div>"
      ],
      "text/plain": [
       "    dataset algorithm  mean accuracy  precision  recall  F-measure\n",
       "0  imb_wine       log          0.970        1.0   0.714      0.833\n",
       "1  imb_wine       svm          0.893        0.0   0.000      0.000\n",
       "2  imb_wine       5nn          0.955        1.0   0.571      0.727\n",
       "3  imb_wine      tree          0.969        1.0   0.714      0.833"
      ]
     },
     "execution_count": 23,
     "metadata": {},
     "output_type": "execute_result"
    }
   ],
   "source": [
    "imb_wine = pd.read_csv('./imbalanced_datasets/imbalanced_wine01.csv')\n",
    "imb_wine_data = np.array(imb_wine.iloc[:,:-1])\n",
    "imb_wine_label = np.array(imb_wine.iloc[:,-1])\n",
    "test_dataset(imb_wine_data, imb_wine_label, name='imb_wine', standard=True)"
   ]
  },
  {
   "cell_type": "code",
   "execution_count": 24,
   "metadata": {},
   "outputs": [
    {
     "name": "stdout",
     "output_type": "stream",
     "text": [
      "('log', 'is running')\n",
      "[[59.  0.]\n",
      " [ 2.  5.]]\n",
      "('svm', 'is running')\n",
      "[[59.  0.]\n",
      " [ 6.  1.]]\n",
      "('5nn', 'is running')\n",
      "[[59.  0.]\n",
      " [ 2.  5.]]\n",
      "('tree', 'is running')\n",
      "[[59.  0.]\n",
      " [ 2.  5.]]\n"
     ]
    },
    {
     "data": {
      "text/html": [
       "<div>\n",
       "<style scoped>\n",
       "    .dataframe tbody tr th:only-of-type {\n",
       "        vertical-align: middle;\n",
       "    }\n",
       "\n",
       "    .dataframe tbody tr th {\n",
       "        vertical-align: top;\n",
       "    }\n",
       "\n",
       "    .dataframe thead th {\n",
       "        text-align: right;\n",
       "    }\n",
       "</style>\n",
       "<table border=\"1\" class=\"dataframe\">\n",
       "  <thead>\n",
       "    <tr style=\"text-align: right;\">\n",
       "      <th></th>\n",
       "      <th>dataset</th>\n",
       "      <th>algorithm</th>\n",
       "      <th>mean accuracy</th>\n",
       "      <th>precision</th>\n",
       "      <th>recall</th>\n",
       "      <th>F-measure</th>\n",
       "    </tr>\n",
       "  </thead>\n",
       "  <tbody>\n",
       "    <tr>\n",
       "      <th>0</th>\n",
       "      <td>smote_wine</td>\n",
       "      <td>log</td>\n",
       "      <td>0.970</td>\n",
       "      <td>1.0</td>\n",
       "      <td>0.714</td>\n",
       "      <td>0.833</td>\n",
       "    </tr>\n",
       "    <tr>\n",
       "      <th>1</th>\n",
       "      <td>smote_wine</td>\n",
       "      <td>svm</td>\n",
       "      <td>0.909</td>\n",
       "      <td>1.0</td>\n",
       "      <td>0.143</td>\n",
       "      <td>0.250</td>\n",
       "    </tr>\n",
       "    <tr>\n",
       "      <th>2</th>\n",
       "      <td>smote_wine</td>\n",
       "      <td>5nn</td>\n",
       "      <td>0.970</td>\n",
       "      <td>1.0</td>\n",
       "      <td>0.714</td>\n",
       "      <td>0.833</td>\n",
       "    </tr>\n",
       "    <tr>\n",
       "      <th>3</th>\n",
       "      <td>smote_wine</td>\n",
       "      <td>tree</td>\n",
       "      <td>0.969</td>\n",
       "      <td>1.0</td>\n",
       "      <td>0.714</td>\n",
       "      <td>0.833</td>\n",
       "    </tr>\n",
       "  </tbody>\n",
       "</table>\n",
       "</div>"
      ],
      "text/plain": [
       "      dataset algorithm  mean accuracy  precision  recall  F-measure\n",
       "0  smote_wine       log          0.970        1.0   0.714      0.833\n",
       "1  smote_wine       svm          0.909        1.0   0.143      0.250\n",
       "2  smote_wine       5nn          0.970        1.0   0.714      0.833\n",
       "3  smote_wine      tree          0.969        1.0   0.714      0.833"
      ]
     },
     "execution_count": 24,
     "metadata": {},
     "output_type": "execute_result"
    }
   ],
   "source": [
    "test_dataset(imb_wine_data, imb_wine_label, name='smote_wine', apply_smote=True, smote_inc_rate=1, standard=True)"
   ]
  },
  {
   "cell_type": "markdown",
   "metadata": {},
   "source": [
    "### Yeast"
   ]
  },
  {
   "cell_type": "code",
   "execution_count": 50,
   "metadata": {},
   "outputs": [
    {
     "name": "stdout",
     "output_type": "stream",
     "text": [
      "('log', 'is running')\n",
      "[[246. 183.]\n",
      " [166. 297.]]\n",
      "('svm', 'is running')\n",
      "[[102. 327.]\n",
      " [ 58. 405.]]\n",
      "('5nn', 'is running')\n",
      "[[232. 197.]\n",
      " [171. 292.]]\n",
      "('tree', 'is running')\n",
      "[[236. 193.]\n",
      " [190. 273.]]\n"
     ]
    },
    {
     "data": {
      "text/html": [
       "<div>\n",
       "<style scoped>\n",
       "    .dataframe tbody tr th:only-of-type {\n",
       "        vertical-align: middle;\n",
       "    }\n",
       "\n",
       "    .dataframe tbody tr th {\n",
       "        vertical-align: top;\n",
       "    }\n",
       "\n",
       "    .dataframe thead th {\n",
       "        text-align: right;\n",
       "    }\n",
       "</style>\n",
       "<table border=\"1\" class=\"dataframe\">\n",
       "  <thead>\n",
       "    <tr style=\"text-align: right;\">\n",
       "      <th></th>\n",
       "      <th>dataset</th>\n",
       "      <th>algorithm</th>\n",
       "      <th>mean accuracy</th>\n",
       "      <th>precision</th>\n",
       "      <th>recall</th>\n",
       "      <th>F-measure</th>\n",
       "    </tr>\n",
       "  </thead>\n",
       "  <tbody>\n",
       "    <tr>\n",
       "      <th>0</th>\n",
       "      <td>yeast</td>\n",
       "      <td>log</td>\n",
       "      <td>0.609</td>\n",
       "      <td>0.619</td>\n",
       "      <td>0.641</td>\n",
       "      <td>0.630</td>\n",
       "    </tr>\n",
       "    <tr>\n",
       "      <th>1</th>\n",
       "      <td>yeast</td>\n",
       "      <td>svm</td>\n",
       "      <td>0.568</td>\n",
       "      <td>0.553</td>\n",
       "      <td>0.875</td>\n",
       "      <td>0.678</td>\n",
       "    </tr>\n",
       "    <tr>\n",
       "      <th>2</th>\n",
       "      <td>yeast</td>\n",
       "      <td>5nn</td>\n",
       "      <td>0.588</td>\n",
       "      <td>0.597</td>\n",
       "      <td>0.631</td>\n",
       "      <td>0.614</td>\n",
       "    </tr>\n",
       "    <tr>\n",
       "      <th>3</th>\n",
       "      <td>yeast</td>\n",
       "      <td>tree</td>\n",
       "      <td>0.571</td>\n",
       "      <td>0.586</td>\n",
       "      <td>0.590</td>\n",
       "      <td>0.588</td>\n",
       "    </tr>\n",
       "  </tbody>\n",
       "</table>\n",
       "</div>"
      ],
      "text/plain": [
       "  dataset algorithm  mean accuracy  precision  recall  F-measure\n",
       "0   yeast       log          0.609      0.619   0.641      0.630\n",
       "1   yeast       svm          0.568      0.553   0.875      0.678\n",
       "2   yeast       5nn          0.588      0.597   0.631      0.614\n",
       "3   yeast      tree          0.571      0.586   0.590      0.588"
      ]
     },
     "execution_count": 50,
     "metadata": {},
     "output_type": "execute_result"
    }
   ],
   "source": [
    "yeastCYT = pd.read_csv('./binary_datasets/yeastCYTNUC.csv')\n",
    "yeast_data = yeastCYT.iloc[:,:-1]\n",
    "yeast_labels = yeastCYT.iloc[:, -1]\n",
    "test_dataset(np.array(yeast_data), np.array(yeast_labels), name = 'yeast', standard=True)"
   ]
  },
  {
   "cell_type": "code",
   "execution_count": 51,
   "metadata": {},
   "outputs": [
    {
     "name": "stdout",
     "output_type": "stream",
     "text": [
      "('log', 'is running')\n",
      "[[429.   0.]\n",
      " [ 48.   0.]]\n",
      "('svm', 'is running')\n",
      "[[429.   0.]\n",
      " [ 48.   0.]]\n",
      "('5nn', 'is running')\n",
      "[[423.   6.]\n",
      " [ 46.   2.]]\n",
      "('tree', 'is running')\n",
      "[[390.  39.]\n",
      " [ 37.  11.]]\n"
     ]
    },
    {
     "data": {
      "text/html": [
       "<div>\n",
       "<style scoped>\n",
       "    .dataframe tbody tr th:only-of-type {\n",
       "        vertical-align: middle;\n",
       "    }\n",
       "\n",
       "    .dataframe tbody tr th {\n",
       "        vertical-align: top;\n",
       "    }\n",
       "\n",
       "    .dataframe thead th {\n",
       "        text-align: right;\n",
       "    }\n",
       "</style>\n",
       "<table border=\"1\" class=\"dataframe\">\n",
       "  <thead>\n",
       "    <tr style=\"text-align: right;\">\n",
       "      <th></th>\n",
       "      <th>dataset</th>\n",
       "      <th>algorithm</th>\n",
       "      <th>mean accuracy</th>\n",
       "      <th>precision</th>\n",
       "      <th>recall</th>\n",
       "      <th>F-measure</th>\n",
       "    </tr>\n",
       "  </thead>\n",
       "  <tbody>\n",
       "    <tr>\n",
       "      <th>0</th>\n",
       "      <td>imb_yeast</td>\n",
       "      <td>log</td>\n",
       "      <td>0.899</td>\n",
       "      <td>0</td>\n",
       "      <td>0.000</td>\n",
       "      <td>0</td>\n",
       "    </tr>\n",
       "    <tr>\n",
       "      <th>1</th>\n",
       "      <td>imb_yeast</td>\n",
       "      <td>svm</td>\n",
       "      <td>0.899</td>\n",
       "      <td>0</td>\n",
       "      <td>0.000</td>\n",
       "      <td>0</td>\n",
       "    </tr>\n",
       "    <tr>\n",
       "      <th>2</th>\n",
       "      <td>imb_yeast</td>\n",
       "      <td>5nn</td>\n",
       "      <td>0.891</td>\n",
       "      <td>0.25</td>\n",
       "      <td>0.042</td>\n",
       "      <td>0.072</td>\n",
       "    </tr>\n",
       "    <tr>\n",
       "      <th>3</th>\n",
       "      <td>imb_yeast</td>\n",
       "      <td>tree</td>\n",
       "      <td>0.841</td>\n",
       "      <td>0.22</td>\n",
       "      <td>0.229</td>\n",
       "      <td>0.224</td>\n",
       "    </tr>\n",
       "  </tbody>\n",
       "</table>\n",
       "</div>"
      ],
      "text/plain": [
       "     dataset algorithm  mean accuracy precision  recall F-measure\n",
       "0  imb_yeast       log          0.899         0   0.000         0\n",
       "1  imb_yeast       svm          0.899         0   0.000         0\n",
       "2  imb_yeast       5nn          0.891      0.25   0.042     0.072\n",
       "3  imb_yeast      tree          0.841      0.22   0.229     0.224"
      ]
     },
     "execution_count": 51,
     "metadata": {},
     "output_type": "execute_result"
    }
   ],
   "source": [
    "imb_yeastCYT = pd.read_csv('./imbalanced_datasets/imbalanced_yeastCYTNUC.csv')\n",
    "imb_yeast_data = imb_yeastCYT.iloc[:,:-1]\n",
    "imb_yeast_label = imb_yeastCYT.iloc[:, -1]\n",
    "test_dataset(np.array(imb_yeast_data), np.array(imb_yeast_label), name = 'imb_yeast', standard=True)"
   ]
  },
  {
   "cell_type": "code",
   "execution_count": 52,
   "metadata": {},
   "outputs": [
    {
     "name": "stdout",
     "output_type": "stream",
     "text": [
      "('log', 'is running')\n",
      "[[408.  21.]\n",
      " [ 43.   5.]]\n",
      "('svm', 'is running')\n",
      "[[429.   0.]\n",
      " [ 48.   0.]]\n",
      "('5nn', 'is running')\n",
      "[[385.  44.]\n",
      " [ 40.   8.]]\n",
      "('tree', 'is running')\n",
      "[[388.  41.]\n",
      " [ 38.  10.]]\n"
     ]
    },
    {
     "data": {
      "text/html": [
       "<div>\n",
       "<style scoped>\n",
       "    .dataframe tbody tr th:only-of-type {\n",
       "        vertical-align: middle;\n",
       "    }\n",
       "\n",
       "    .dataframe tbody tr th {\n",
       "        vertical-align: top;\n",
       "    }\n",
       "\n",
       "    .dataframe thead th {\n",
       "        text-align: right;\n",
       "    }\n",
       "</style>\n",
       "<table border=\"1\" class=\"dataframe\">\n",
       "  <thead>\n",
       "    <tr style=\"text-align: right;\">\n",
       "      <th></th>\n",
       "      <th>dataset</th>\n",
       "      <th>algorithm</th>\n",
       "      <th>mean accuracy</th>\n",
       "      <th>precision</th>\n",
       "      <th>recall</th>\n",
       "      <th>F-measure</th>\n",
       "    </tr>\n",
       "  </thead>\n",
       "  <tbody>\n",
       "    <tr>\n",
       "      <th>0</th>\n",
       "      <td>smote_yeast</td>\n",
       "      <td>log</td>\n",
       "      <td>0.866</td>\n",
       "      <td>0.192</td>\n",
       "      <td>0.104</td>\n",
       "      <td>0.135</td>\n",
       "    </tr>\n",
       "    <tr>\n",
       "      <th>1</th>\n",
       "      <td>smote_yeast</td>\n",
       "      <td>svm</td>\n",
       "      <td>0.899</td>\n",
       "      <td>0.000</td>\n",
       "      <td>0.000</td>\n",
       "      <td>0.000</td>\n",
       "    </tr>\n",
       "    <tr>\n",
       "      <th>2</th>\n",
       "      <td>smote_yeast</td>\n",
       "      <td>5nn</td>\n",
       "      <td>0.824</td>\n",
       "      <td>0.154</td>\n",
       "      <td>0.167</td>\n",
       "      <td>0.160</td>\n",
       "    </tr>\n",
       "    <tr>\n",
       "      <th>3</th>\n",
       "      <td>smote_yeast</td>\n",
       "      <td>tree</td>\n",
       "      <td>0.834</td>\n",
       "      <td>0.196</td>\n",
       "      <td>0.208</td>\n",
       "      <td>0.202</td>\n",
       "    </tr>\n",
       "  </tbody>\n",
       "</table>\n",
       "</div>"
      ],
      "text/plain": [
       "       dataset algorithm  mean accuracy  precision  recall  F-measure\n",
       "0  smote_yeast       log          0.866      0.192   0.104      0.135\n",
       "1  smote_yeast       svm          0.899      0.000   0.000      0.000\n",
       "2  smote_yeast       5nn          0.824      0.154   0.167      0.160\n",
       "3  smote_yeast      tree          0.834      0.196   0.208      0.202"
      ]
     },
     "execution_count": 52,
     "metadata": {},
     "output_type": "execute_result"
    }
   ],
   "source": [
    "test_dataset(np.array(imb_yeast_data), np.array(imb_yeast_label), name = 'smote_yeast', standard=True, \\\n",
    "             apply_smote=True, smote_inc_rate=1)"
   ]
  },
  {
   "cell_type": "markdown",
   "metadata": {},
   "source": [
    "### Avila"
   ]
  },
  {
   "cell_type": "code",
   "execution_count": 28,
   "metadata": {},
   "outputs": [
    {
     "name": "stdout",
     "output_type": "stream",
     "text": [
      "('log', 'is running')\n",
      "[[1007.   32.]\n",
      " [  32. 1012.]]\n",
      "('svm', 'is running')\n",
      "[[1033.    6.]\n",
      " [  65.  979.]]\n",
      "('5nn', 'is running')\n",
      "[[1035.    4.]\n",
      " [  23. 1021.]]\n",
      "('tree', 'is running')\n",
      "[[1039.    0.]\n",
      " [   0. 1044.]]\n"
     ]
    },
    {
     "data": {
      "text/html": [
       "<div>\n",
       "<style scoped>\n",
       "    .dataframe tbody tr th:only-of-type {\n",
       "        vertical-align: middle;\n",
       "    }\n",
       "\n",
       "    .dataframe tbody tr th {\n",
       "        vertical-align: top;\n",
       "    }\n",
       "\n",
       "    .dataframe thead th {\n",
       "        text-align: right;\n",
       "    }\n",
       "</style>\n",
       "<table border=\"1\" class=\"dataframe\">\n",
       "  <thead>\n",
       "    <tr style=\"text-align: right;\">\n",
       "      <th></th>\n",
       "      <th>dataset</th>\n",
       "      <th>algorithm</th>\n",
       "      <th>mean accuracy</th>\n",
       "      <th>precision</th>\n",
       "      <th>recall</th>\n",
       "      <th>F-measure</th>\n",
       "    </tr>\n",
       "  </thead>\n",
       "  <tbody>\n",
       "    <tr>\n",
       "      <th>0</th>\n",
       "      <td>avila</td>\n",
       "      <td>log</td>\n",
       "      <td>0.969</td>\n",
       "      <td>0.969</td>\n",
       "      <td>0.969</td>\n",
       "      <td>0.969</td>\n",
       "    </tr>\n",
       "    <tr>\n",
       "      <th>1</th>\n",
       "      <td>avila</td>\n",
       "      <td>svm</td>\n",
       "      <td>0.966</td>\n",
       "      <td>0.994</td>\n",
       "      <td>0.938</td>\n",
       "      <td>0.965</td>\n",
       "    </tr>\n",
       "    <tr>\n",
       "      <th>2</th>\n",
       "      <td>avila</td>\n",
       "      <td>5nn</td>\n",
       "      <td>0.987</td>\n",
       "      <td>0.996</td>\n",
       "      <td>0.978</td>\n",
       "      <td>0.987</td>\n",
       "    </tr>\n",
       "    <tr>\n",
       "      <th>3</th>\n",
       "      <td>avila</td>\n",
       "      <td>tree</td>\n",
       "      <td>1.000</td>\n",
       "      <td>1.000</td>\n",
       "      <td>1.000</td>\n",
       "      <td>1.000</td>\n",
       "    </tr>\n",
       "  </tbody>\n",
       "</table>\n",
       "</div>"
      ],
      "text/plain": [
       "  dataset algorithm  mean accuracy  precision  recall  F-measure\n",
       "0   avila       log          0.969      0.969   0.969      0.969\n",
       "1   avila       svm          0.966      0.994   0.938      0.965\n",
       "2   avila       5nn          0.987      0.996   0.978      0.987\n",
       "3   avila      tree          1.000      1.000   1.000      1.000"
      ]
     },
     "execution_count": 28,
     "metadata": {},
     "output_type": "execute_result"
    }
   ],
   "source": [
    "avilaHX = pd.read_csv('./binary_datasets/avilaHX.csv')\n",
    "avila_data = avilaHX.iloc[:,:-1]\n",
    "avila_labels = avilaHX.iloc[:, -1]\n",
    "test_dataset(np.array(avila_data), np.array(avila_labels), name = 'avila', standard=True)"
   ]
  },
  {
   "cell_type": "code",
   "execution_count": 29,
   "metadata": {},
   "outputs": [
    {
     "name": "stdout",
     "output_type": "stream",
     "text": [
      "('log', 'is running')\n",
      "[[1039.    0.]\n",
      " [  15.  100.]]\n",
      "('svm', 'is running')\n",
      "[[1039.    0.]\n",
      " [  85.   30.]]\n",
      "('5nn', 'is running')\n",
      "[[1039.    0.]\n",
      " [  17.   98.]]\n",
      "('tree', 'is running')\n",
      "[[1036.    3.]\n",
      " [   3.  112.]]\n"
     ]
    },
    {
     "data": {
      "text/html": [
       "<div>\n",
       "<style scoped>\n",
       "    .dataframe tbody tr th:only-of-type {\n",
       "        vertical-align: middle;\n",
       "    }\n",
       "\n",
       "    .dataframe tbody tr th {\n",
       "        vertical-align: top;\n",
       "    }\n",
       "\n",
       "    .dataframe thead th {\n",
       "        text-align: right;\n",
       "    }\n",
       "</style>\n",
       "<table border=\"1\" class=\"dataframe\">\n",
       "  <thead>\n",
       "    <tr style=\"text-align: right;\">\n",
       "      <th></th>\n",
       "      <th>dataset</th>\n",
       "      <th>algorithm</th>\n",
       "      <th>mean accuracy</th>\n",
       "      <th>precision</th>\n",
       "      <th>recall</th>\n",
       "      <th>F-measure</th>\n",
       "    </tr>\n",
       "  </thead>\n",
       "  <tbody>\n",
       "    <tr>\n",
       "      <th>0</th>\n",
       "      <td>imb_avila</td>\n",
       "      <td>log</td>\n",
       "      <td>0.987</td>\n",
       "      <td>1.000</td>\n",
       "      <td>0.870</td>\n",
       "      <td>0.930</td>\n",
       "    </tr>\n",
       "    <tr>\n",
       "      <th>1</th>\n",
       "      <td>imb_avila</td>\n",
       "      <td>svm</td>\n",
       "      <td>0.926</td>\n",
       "      <td>1.000</td>\n",
       "      <td>0.261</td>\n",
       "      <td>0.414</td>\n",
       "    </tr>\n",
       "    <tr>\n",
       "      <th>2</th>\n",
       "      <td>imb_avila</td>\n",
       "      <td>5nn</td>\n",
       "      <td>0.985</td>\n",
       "      <td>1.000</td>\n",
       "      <td>0.852</td>\n",
       "      <td>0.920</td>\n",
       "    </tr>\n",
       "    <tr>\n",
       "      <th>3</th>\n",
       "      <td>imb_avila</td>\n",
       "      <td>tree</td>\n",
       "      <td>0.995</td>\n",
       "      <td>0.974</td>\n",
       "      <td>0.974</td>\n",
       "      <td>0.974</td>\n",
       "    </tr>\n",
       "  </tbody>\n",
       "</table>\n",
       "</div>"
      ],
      "text/plain": [
       "     dataset algorithm  mean accuracy  precision  recall  F-measure\n",
       "0  imb_avila       log          0.987      1.000   0.870      0.930\n",
       "1  imb_avila       svm          0.926      1.000   0.261      0.414\n",
       "2  imb_avila       5nn          0.985      1.000   0.852      0.920\n",
       "3  imb_avila      tree          0.995      0.974   0.974      0.974"
      ]
     },
     "execution_count": 29,
     "metadata": {},
     "output_type": "execute_result"
    }
   ],
   "source": [
    "imb_avilaHX = pd.read_csv('./imbalanced_datasets/imbalanced_avilaHX.csv')\n",
    "imb_avila_data = imb_avilaHX.iloc[:,:-1]\n",
    "imb_avila_labels = imb_avilaHX.iloc[:, -1]\n",
    "test_dataset(np.array(imb_avila_data), np.array(imb_avila_labels), name = 'imb_avila', standard=True)"
   ]
  },
  {
   "cell_type": "code",
   "execution_count": 30,
   "metadata": {},
   "outputs": [
    {
     "name": "stdout",
     "output_type": "stream",
     "text": [
      "('log', 'is running')\n",
      "[[1.038e+03 1.000e+00]\n",
      " [1.600e+01 9.900e+01]]\n",
      "('svm', 'is running')\n",
      "[[1039.    0.]\n",
      " [  42.   73.]]\n",
      "('5nn', 'is running')\n",
      "[[1039.    0.]\n",
      " [  10.  105.]]\n",
      "('tree', 'is running')\n",
      "[[1036.    3.]\n",
      " [   3.  112.]]\n"
     ]
    },
    {
     "data": {
      "text/html": [
       "<div>\n",
       "<style scoped>\n",
       "    .dataframe tbody tr th:only-of-type {\n",
       "        vertical-align: middle;\n",
       "    }\n",
       "\n",
       "    .dataframe tbody tr th {\n",
       "        vertical-align: top;\n",
       "    }\n",
       "\n",
       "    .dataframe thead th {\n",
       "        text-align: right;\n",
       "    }\n",
       "</style>\n",
       "<table border=\"1\" class=\"dataframe\">\n",
       "  <thead>\n",
       "    <tr style=\"text-align: right;\">\n",
       "      <th></th>\n",
       "      <th>dataset</th>\n",
       "      <th>algorithm</th>\n",
       "      <th>mean accuracy</th>\n",
       "      <th>precision</th>\n",
       "      <th>recall</th>\n",
       "      <th>F-measure</th>\n",
       "    </tr>\n",
       "  </thead>\n",
       "  <tbody>\n",
       "    <tr>\n",
       "      <th>0</th>\n",
       "      <td>smote_avila</td>\n",
       "      <td>log</td>\n",
       "      <td>0.985</td>\n",
       "      <td>0.990</td>\n",
       "      <td>0.861</td>\n",
       "      <td>0.921</td>\n",
       "    </tr>\n",
       "    <tr>\n",
       "      <th>1</th>\n",
       "      <td>smote_avila</td>\n",
       "      <td>svm</td>\n",
       "      <td>0.964</td>\n",
       "      <td>1.000</td>\n",
       "      <td>0.635</td>\n",
       "      <td>0.777</td>\n",
       "    </tr>\n",
       "    <tr>\n",
       "      <th>2</th>\n",
       "      <td>smote_avila</td>\n",
       "      <td>5nn</td>\n",
       "      <td>0.991</td>\n",
       "      <td>1.000</td>\n",
       "      <td>0.913</td>\n",
       "      <td>0.955</td>\n",
       "    </tr>\n",
       "    <tr>\n",
       "      <th>3</th>\n",
       "      <td>smote_avila</td>\n",
       "      <td>tree</td>\n",
       "      <td>0.995</td>\n",
       "      <td>0.974</td>\n",
       "      <td>0.974</td>\n",
       "      <td>0.974</td>\n",
       "    </tr>\n",
       "  </tbody>\n",
       "</table>\n",
       "</div>"
      ],
      "text/plain": [
       "       dataset algorithm  mean accuracy  precision  recall  F-measure\n",
       "0  smote_avila       log          0.985      0.990   0.861      0.921\n",
       "1  smote_avila       svm          0.964      1.000   0.635      0.777\n",
       "2  smote_avila       5nn          0.991      1.000   0.913      0.955\n",
       "3  smote_avila      tree          0.995      0.974   0.974      0.974"
      ]
     },
     "execution_count": 30,
     "metadata": {},
     "output_type": "execute_result"
    }
   ],
   "source": [
    "test_dataset(np.array(imb_avila_data), np.array(imb_avila_labels), name = 'smote_avila', standard=True, \\\n",
    "            apply_smote=True, smote_inc_rate=1)"
   ]
  },
  {
   "cell_type": "markdown",
   "metadata": {},
   "source": [
    "### Wireless Indoor Localization"
   ]
  },
  {
   "cell_type": "code",
   "execution_count": 31,
   "metadata": {},
   "outputs": [
    {
     "name": "stdout",
     "output_type": "stream",
     "text": [
      "('log', 'is running')\n",
      "[[467.  33.]\n",
      " [ 32. 468.]]\n",
      "('svm', 'is running')\n",
      "[[453.  47.]\n",
      " [ 27. 473.]]\n",
      "('5nn', 'is running')\n",
      "[[457.  43.]\n",
      " [ 24. 476.]]\n",
      "('tree', 'is running')\n",
      "[[446.  54.]\n",
      " [ 46. 454.]]\n"
     ]
    },
    {
     "data": {
      "text/html": [
       "<div>\n",
       "<style scoped>\n",
       "    .dataframe tbody tr th:only-of-type {\n",
       "        vertical-align: middle;\n",
       "    }\n",
       "\n",
       "    .dataframe tbody tr th {\n",
       "        vertical-align: top;\n",
       "    }\n",
       "\n",
       "    .dataframe thead th {\n",
       "        text-align: right;\n",
       "    }\n",
       "</style>\n",
       "<table border=\"1\" class=\"dataframe\">\n",
       "  <thead>\n",
       "    <tr style=\"text-align: right;\">\n",
       "      <th></th>\n",
       "      <th>dataset</th>\n",
       "      <th>algorithm</th>\n",
       "      <th>mean accuracy</th>\n",
       "      <th>precision</th>\n",
       "      <th>recall</th>\n",
       "      <th>F-measure</th>\n",
       "    </tr>\n",
       "  </thead>\n",
       "  <tbody>\n",
       "    <tr>\n",
       "      <th>0</th>\n",
       "      <td>wil</td>\n",
       "      <td>log</td>\n",
       "      <td>0.935</td>\n",
       "      <td>0.934</td>\n",
       "      <td>0.936</td>\n",
       "      <td>0.935</td>\n",
       "    </tr>\n",
       "    <tr>\n",
       "      <th>1</th>\n",
       "      <td>wil</td>\n",
       "      <td>svm</td>\n",
       "      <td>0.926</td>\n",
       "      <td>0.910</td>\n",
       "      <td>0.946</td>\n",
       "      <td>0.928</td>\n",
       "    </tr>\n",
       "    <tr>\n",
       "      <th>2</th>\n",
       "      <td>wil</td>\n",
       "      <td>5nn</td>\n",
       "      <td>0.933</td>\n",
       "      <td>0.917</td>\n",
       "      <td>0.952</td>\n",
       "      <td>0.934</td>\n",
       "    </tr>\n",
       "    <tr>\n",
       "      <th>3</th>\n",
       "      <td>wil</td>\n",
       "      <td>tree</td>\n",
       "      <td>0.900</td>\n",
       "      <td>0.894</td>\n",
       "      <td>0.908</td>\n",
       "      <td>0.901</td>\n",
       "    </tr>\n",
       "  </tbody>\n",
       "</table>\n",
       "</div>"
      ],
      "text/plain": [
       "  dataset algorithm  mean accuracy  precision  recall  F-measure\n",
       "0     wil       log          0.935      0.934   0.936      0.935\n",
       "1     wil       svm          0.926      0.910   0.946      0.928\n",
       "2     wil       5nn          0.933      0.917   0.952      0.934\n",
       "3     wil      tree          0.900      0.894   0.908      0.901"
      ]
     },
     "execution_count": 31,
     "metadata": {},
     "output_type": "execute_result"
    }
   ],
   "source": [
    "wil = pd.read_csv('./binary_datasets/wil_2_3.csv')\n",
    "wil_data = wil.iloc[:,:-1]\n",
    "wil_labels = wil.iloc[:, -1]\n",
    "test_dataset(np.array(wil_data), np.array(wil_labels), name = 'wil', standard=True,n_iter=10000)"
   ]
  },
  {
   "cell_type": "code",
   "execution_count": 32,
   "metadata": {},
   "outputs": [
    {
     "name": "stdout",
     "output_type": "stream",
     "text": [
      "('log', 'is running')\n",
      "[[494.   6.]\n",
      " [  5.  51.]]\n",
      "('svm', 'is running')\n",
      "[[499.   1.]\n",
      " [ 28.  28.]]\n",
      "('5nn', 'is running')\n",
      "[[495.   5.]\n",
      " [ 11.  45.]]\n",
      "('tree', 'is running')\n",
      "[[485.  15.]\n",
      " [ 15.  41.]]\n"
     ]
    },
    {
     "data": {
      "text/html": [
       "<div>\n",
       "<style scoped>\n",
       "    .dataframe tbody tr th:only-of-type {\n",
       "        vertical-align: middle;\n",
       "    }\n",
       "\n",
       "    .dataframe tbody tr th {\n",
       "        vertical-align: top;\n",
       "    }\n",
       "\n",
       "    .dataframe thead th {\n",
       "        text-align: right;\n",
       "    }\n",
       "</style>\n",
       "<table border=\"1\" class=\"dataframe\">\n",
       "  <thead>\n",
       "    <tr style=\"text-align: right;\">\n",
       "      <th></th>\n",
       "      <th>dataset</th>\n",
       "      <th>algorithm</th>\n",
       "      <th>mean accuracy</th>\n",
       "      <th>precision</th>\n",
       "      <th>recall</th>\n",
       "      <th>F-measure</th>\n",
       "    </tr>\n",
       "  </thead>\n",
       "  <tbody>\n",
       "    <tr>\n",
       "      <th>0</th>\n",
       "      <td>imb_wil</td>\n",
       "      <td>log</td>\n",
       "      <td>0.980</td>\n",
       "      <td>0.895</td>\n",
       "      <td>0.911</td>\n",
       "      <td>0.903</td>\n",
       "    </tr>\n",
       "    <tr>\n",
       "      <th>1</th>\n",
       "      <td>imb_wil</td>\n",
       "      <td>svm</td>\n",
       "      <td>0.948</td>\n",
       "      <td>0.966</td>\n",
       "      <td>0.500</td>\n",
       "      <td>0.659</td>\n",
       "    </tr>\n",
       "    <tr>\n",
       "      <th>2</th>\n",
       "      <td>imb_wil</td>\n",
       "      <td>5nn</td>\n",
       "      <td>0.971</td>\n",
       "      <td>0.900</td>\n",
       "      <td>0.804</td>\n",
       "      <td>0.849</td>\n",
       "    </tr>\n",
       "    <tr>\n",
       "      <th>3</th>\n",
       "      <td>imb_wil</td>\n",
       "      <td>tree</td>\n",
       "      <td>0.946</td>\n",
       "      <td>0.732</td>\n",
       "      <td>0.732</td>\n",
       "      <td>0.732</td>\n",
       "    </tr>\n",
       "  </tbody>\n",
       "</table>\n",
       "</div>"
      ],
      "text/plain": [
       "   dataset algorithm  mean accuracy  precision  recall  F-measure\n",
       "0  imb_wil       log          0.980      0.895   0.911      0.903\n",
       "1  imb_wil       svm          0.948      0.966   0.500      0.659\n",
       "2  imb_wil       5nn          0.971      0.900   0.804      0.849\n",
       "3  imb_wil      tree          0.946      0.732   0.732      0.732"
      ]
     },
     "execution_count": 32,
     "metadata": {},
     "output_type": "execute_result"
    }
   ],
   "source": [
    "imb_wil = pd.read_csv('./imbalanced_datasets/imbalanced_wil_2_3.csv')\n",
    "imb_wil_data = imb_wil.iloc[:,:-1]\n",
    "imb_wil_label = imb_wil.iloc[:, -1]\n",
    "test_dataset(np.array(imb_wil_data), np.array(imb_wil_label), name = 'imb_wil', standard=True, n_iter=10000)"
   ]
  },
  {
   "cell_type": "code",
   "execution_count": 33,
   "metadata": {},
   "outputs": [
    {
     "name": "stdout",
     "output_type": "stream",
     "text": [
      "('log', 'is running')\n",
      "[[488.  12.]\n",
      " [  7.  49.]]\n",
      "('svm', 'is running')\n",
      "[[487.  13.]\n",
      " [  5.  51.]]\n",
      "('5nn', 'is running')\n",
      "[[488.  12.]\n",
      " [  7.  49.]]\n",
      "('tree', 'is running')\n",
      "[[491.   9.]\n",
      " [ 12.  44.]]\n"
     ]
    },
    {
     "data": {
      "text/html": [
       "<div>\n",
       "<style scoped>\n",
       "    .dataframe tbody tr th:only-of-type {\n",
       "        vertical-align: middle;\n",
       "    }\n",
       "\n",
       "    .dataframe tbody tr th {\n",
       "        vertical-align: top;\n",
       "    }\n",
       "\n",
       "    .dataframe thead th {\n",
       "        text-align: right;\n",
       "    }\n",
       "</style>\n",
       "<table border=\"1\" class=\"dataframe\">\n",
       "  <thead>\n",
       "    <tr style=\"text-align: right;\">\n",
       "      <th></th>\n",
       "      <th>dataset</th>\n",
       "      <th>algorithm</th>\n",
       "      <th>mean accuracy</th>\n",
       "      <th>precision</th>\n",
       "      <th>recall</th>\n",
       "      <th>F-measure</th>\n",
       "    </tr>\n",
       "  </thead>\n",
       "  <tbody>\n",
       "    <tr>\n",
       "      <th>0</th>\n",
       "      <td>smote_wil</td>\n",
       "      <td>log</td>\n",
       "      <td>0.966</td>\n",
       "      <td>0.803</td>\n",
       "      <td>0.875</td>\n",
       "      <td>0.837</td>\n",
       "    </tr>\n",
       "    <tr>\n",
       "      <th>1</th>\n",
       "      <td>smote_wil</td>\n",
       "      <td>svm</td>\n",
       "      <td>0.968</td>\n",
       "      <td>0.797</td>\n",
       "      <td>0.911</td>\n",
       "      <td>0.850</td>\n",
       "    </tr>\n",
       "    <tr>\n",
       "      <th>2</th>\n",
       "      <td>smote_wil</td>\n",
       "      <td>5nn</td>\n",
       "      <td>0.966</td>\n",
       "      <td>0.803</td>\n",
       "      <td>0.875</td>\n",
       "      <td>0.837</td>\n",
       "    </tr>\n",
       "    <tr>\n",
       "      <th>3</th>\n",
       "      <td>smote_wil</td>\n",
       "      <td>tree</td>\n",
       "      <td>0.962</td>\n",
       "      <td>0.830</td>\n",
       "      <td>0.786</td>\n",
       "      <td>0.807</td>\n",
       "    </tr>\n",
       "  </tbody>\n",
       "</table>\n",
       "</div>"
      ],
      "text/plain": [
       "     dataset algorithm  mean accuracy  precision  recall  F-measure\n",
       "0  smote_wil       log          0.966      0.803   0.875      0.837\n",
       "1  smote_wil       svm          0.968      0.797   0.911      0.850\n",
       "2  smote_wil       5nn          0.966      0.803   0.875      0.837\n",
       "3  smote_wil      tree          0.962      0.830   0.786      0.807"
      ]
     },
     "execution_count": 33,
     "metadata": {},
     "output_type": "execute_result"
    }
   ],
   "source": [
    "test_dataset(np.array(imb_wil_data), np.array(imb_wil_label), name = 'smote_wil', standard=True, \\\n",
    "             apply_smote=True, smote_inc_rate=1)"
   ]
  },
  {
   "cell_type": "markdown",
   "metadata": {},
   "source": [
    "### Testing SMOTE on imbalanced datasets against different increase rates"
   ]
  },
  {
   "cell_type": "code",
   "execution_count": 44,
   "metadata": {},
   "outputs": [
    {
     "name": "stdout",
     "output_type": "stream",
     "text": [
      "\n"
     ]
    }
   ],
   "source": [
    "# function performs multiple rund of test_dataset for different smote increase rates\n",
    "# returns dictionaries of precision and recalls for each classifier\n",
    "# inputs are the same as for test_dataset apart from:\n",
    "#     higher_smote_inc_rate - to test dataset from 1 to higher_smote_inc_rate values of smote_inc_rate,\n",
    "#        zero smote increase rate in that case is testing for imbalanced dataset without smote\n",
    "def test_against_inc_rate(data, target, name, labels=[0, 1], classifiers = ['log', 'svm', '5nn', 'tree'], cv=5, n_iter=100, \\\n",
    "                 apply_smote=False, knn_smote=3, higher_smote_inc_rate=1, standard=True, interesting_class=0):\n",
    "    # init dictionaries for precisions, keys are classifiers names\n",
    "    precisions_dict = {clf: list() for clf in classifiers}\n",
    "    recalls_dict = {clf: list() for clf in classifiers}\n",
    "    # loop for different smote inc_rate\n",
    "    for inc_rate in range(higher_smote_inc_rate + 1):\n",
    "        print '---'\n",
    "        if inc_rate != 0:\n",
    "            df = test_dataset(np.array(data), np.array(target), name = name, labels = labels, classifiers=classifiers, \\\n",
    "                          standard=True, apply_smote=True, n_iter=n_iter, smote_inc_rate=inc_rate)\n",
    "        else:\n",
    "            df = test_dataset(np.array(data), np.array(target), name = name, labels = labels, classifiers=classifiers, \\\n",
    "                          standard=True, n_iter=n_iter)\n",
    "        for i in range(df.shape[0]):\n",
    "            # append values from each row of the DataFrame returned by test_dataset function\n",
    "            tmp_prec_list = precisions_dict.get(df.iloc[i, 1])\n",
    "            tmp_prec_list.append(df.iloc[i, 3])\n",
    "            precisions_dict[df.iloc[i, 1]] = tmp_prec_list\n",
    "            tmp_rec_list = recalls_dict.get(df.iloc[i, 1])\n",
    "            tmp_rec_list.append(df.iloc[i, 4])\n",
    "            recalls_dict[df.iloc[i, 1]] = tmp_rec_list\n",
    "    return precisions_dict, recalls_dict"
   ]
  },
  {
   "cell_type": "markdown",
   "metadata": {},
   "source": [
    "#### Breast cancer"
   ]
  },
  {
   "cell_type": "code",
   "execution_count": 35,
   "metadata": {},
   "outputs": [
    {
     "name": "stdout",
     "output_type": "stream",
     "text": [
      "---\n",
      "('log', 'is running')\n",
      "[[208.   4.]\n",
      " [  6.  18.]]\n",
      "('svm', 'is running')\n",
      "[[212.   0.]\n",
      " [ 24.   0.]]\n",
      "('5nn', 'is running')\n",
      "[[210.   2.]\n",
      " [  7.  17.]]\n",
      "('tree', 'is running')\n",
      "[[209.   3.]\n",
      " [  7.  17.]]\n",
      "---\n",
      "('log', 'is running')\n",
      "[[206.   6.]\n",
      " [  4.  20.]]\n",
      "('svm', 'is running')\n",
      "[[212.   0.]\n",
      " [ 22.   2.]]\n",
      "('5nn', 'is running')\n",
      "[[207.   5.]\n",
      " [  5.  19.]]\n",
      "('tree', 'is running')\n",
      "[[208.   4.]\n",
      " [  6.  18.]]\n",
      "---\n",
      "('log', 'is running')\n",
      "[[207.   5.]\n",
      " [  5.  19.]]\n",
      "('svm', 'is running')\n",
      "[[208.   4.]\n",
      " [  5.  19.]]\n",
      "('5nn', 'is running')\n",
      "[[207.   5.]\n",
      " [  4.  20.]]\n",
      "('tree', 'is running')\n",
      "[[208.   4.]\n",
      " [  7.  17.]]\n",
      "---\n",
      "('log', 'is running')\n",
      "[[204.   8.]\n",
      " [  4.  20.]]\n",
      "('svm', 'is running')\n",
      "[[206.   6.]\n",
      " [  4.  20.]]\n",
      "('5nn', 'is running')\n",
      "[[206.   6.]\n",
      " [  4.  20.]]\n",
      "('tree', 'is running')\n",
      "[[209.   3.]\n",
      " [  5.  19.]]\n",
      "---\n",
      "('log', 'is running')\n",
      "[[203.   9.]\n",
      " [  4.  20.]]\n",
      "('svm', 'is running')\n",
      "[[201.  11.]\n",
      " [  2.  22.]]\n",
      "('5nn', 'is running')\n",
      "[[204.   8.]\n",
      " [  4.  20.]]\n",
      "('tree', 'is running')\n",
      "[[208.   4.]\n",
      " [  5.  19.]]\n",
      "---\n",
      "('log', 'is running')\n",
      "[[206.   6.]\n",
      " [  3.  21.]]\n",
      "('svm', 'is running')\n",
      "[[196.  16.]\n",
      " [  2.  22.]]\n",
      "('5nn', 'is running')\n",
      "[[202.  10.]\n",
      " [  4.  20.]]\n",
      "('tree', 'is running')\n",
      "[[208.   4.]\n",
      " [  5.  19.]]\n",
      "---\n",
      "('log', 'is running')\n",
      "[[205.   7.]\n",
      " [  3.  21.]]\n",
      "('svm', 'is running')\n",
      "[[195.  17.]\n",
      " [  2.  22.]]\n",
      "('5nn', 'is running')\n",
      "[[201.  11.]\n",
      " [  3.  21.]]\n",
      "('tree', 'is running')\n",
      "[[208.   4.]\n",
      " [  5.  19.]]\n",
      "---\n",
      "('log', 'is running')\n",
      "[[205.   7.]\n",
      " [  4.  20.]]\n",
      "('svm', 'is running')\n",
      "[[194.  18.]\n",
      " [  1.  23.]]\n",
      "('5nn', 'is running')\n",
      "[[199.  13.]\n",
      " [  3.  21.]]\n",
      "('tree', 'is running')\n",
      "[[208.   4.]\n",
      " [  5.  19.]]\n",
      "---\n",
      "('log', 'is running')\n",
      "[[203.   9.]\n",
      " [  3.  21.]]\n",
      "('svm', 'is running')\n",
      "[[192.  20.]\n",
      " [  1.  23.]]\n",
      "('5nn', 'is running')\n",
      "[[198.  14.]\n",
      " [  3.  21.]]\n",
      "('tree', 'is running')\n",
      "[[207.   5.]\n",
      " [  5.  19.]]\n",
      "---\n",
      "('log', 'is running')\n",
      "[[203.   9.]\n",
      " [  3.  21.]]\n",
      "('svm', 'is running')\n",
      "[[190.  22.]\n",
      " [  1.  23.]]\n",
      "('5nn', 'is running')\n",
      "[[198.  14.]\n",
      " [  3.  21.]]\n",
      "('tree', 'is running')\n",
      "[[206.   6.]\n",
      " [  6.  18.]]\n",
      "---\n",
      "('log', 'is running')\n",
      "[[204.   8.]\n",
      " [  3.  21.]]\n",
      "('svm', 'is running')\n",
      "[[190.  22.]\n",
      " [  1.  23.]]\n",
      "('5nn', 'is running')\n",
      "[[197.  15.]\n",
      " [  3.  21.]]\n",
      "('tree', 'is running')\n",
      "[[206.   6.]\n",
      " [  6.  18.]]\n"
     ]
    }
   ],
   "source": [
    "bc_precision_dict, bc_recall_dict = test_against_inc_rate(imb_bc_data, imb_bc_label, name='smote_bc', \\\n",
    "                                                          apply_smote=True, higher_smote_inc_rate=10, standard=True)"
   ]
  },
  {
   "cell_type": "code",
   "execution_count": 36,
   "metadata": {},
   "outputs": [
    {
     "name": "stdout",
     "output_type": "stream",
     "text": [
      "Precisions for breast cancer dataset {'svm': [0.0, 1.0, 0.826, 0.769, 0.667, 0.579, 0.564, 0.561, 0.535, 0.511, 0.511], 'tree': [0.85, 0.818, 0.81, 0.864, 0.826, 0.826, 0.826, 0.826, 0.792, 0.75, 0.75], 'log': [0.818, 0.769, 0.792, 0.714, 0.69, 0.778, 0.75, 0.741, 0.7, 0.7, 0.724], '5nn': [0.895, 0.792, 0.8, 0.769, 0.714, 0.667, 0.656, 0.618, 0.6, 0.6, 0.583]}\n",
      "Recalls for breast cancer dataset {'svm': [0.0, 0.083, 0.792, 0.833, 0.917, 0.917, 0.917, 0.958, 0.958, 0.958, 0.958], 'tree': [0.708, 0.75, 0.708, 0.792, 0.792, 0.792, 0.792, 0.792, 0.792, 0.75, 0.75], 'log': [0.75, 0.833, 0.792, 0.833, 0.833, 0.875, 0.875, 0.833, 0.875, 0.875, 0.875], '5nn': [0.708, 0.792, 0.833, 0.833, 0.833, 0.833, 0.875, 0.875, 0.875, 0.875, 0.875]}\n"
     ]
    }
   ],
   "source": [
    "print 'Precisions for breast cancer dataset', bc_precision_dict\n",
    "print 'Recalls for breast cancer dataset', bc_recall_dict"
   ]
  },
  {
   "cell_type": "markdown",
   "metadata": {},
   "source": [
    "#### Iris"
   ]
  },
  {
   "cell_type": "code",
   "execution_count": 37,
   "metadata": {},
   "outputs": [
    {
     "name": "stdout",
     "output_type": "stream",
     "text": [
      "---\n",
      "('log', 'is running')\n",
      "[[50.  0.]\n",
      " [ 1.  5.]]\n",
      "('svm', 'is running')\n",
      "[[50.  0.]\n",
      " [ 6.  0.]]\n",
      "('5nn', 'is running')\n",
      "[[50.  0.]\n",
      " [ 2.  4.]]\n",
      "('tree', 'is running')\n",
      "[[49.  1.]\n",
      " [ 0.  6.]]\n",
      "---\n",
      "('log', 'is running')\n",
      "[[50.  0.]\n",
      " [ 1.  5.]]\n",
      "('svm', 'is running')\n",
      "[[50.  0.]\n",
      " [ 2.  4.]]\n",
      "('5nn', 'is running')\n",
      "[[50.  0.]\n",
      " [ 2.  4.]]\n",
      "('tree', 'is running')\n",
      "[[49.  1.]\n",
      " [ 0.  6.]]\n",
      "---\n",
      "('log', 'is running')\n",
      "[[48.  2.]\n",
      " [ 0.  6.]]\n",
      "('svm', 'is running')\n",
      "[[50.  0.]\n",
      " [ 2.  4.]]\n",
      "('5nn', 'is running')\n",
      "[[50.  0.]\n",
      " [ 2.  4.]]\n",
      "('tree', 'is running')\n",
      "[[49.  1.]\n",
      " [ 0.  6.]]\n",
      "---\n",
      "('log', 'is running')\n",
      "[[49.  1.]\n",
      " [ 1.  5.]]\n",
      "('svm', 'is running')\n",
      "[[50.  0.]\n",
      " [ 2.  4.]]\n",
      "('5nn', 'is running')\n",
      "[[50.  0.]\n",
      " [ 2.  4.]]\n",
      "('tree', 'is running')\n",
      "[[49.  1.]\n",
      " [ 0.  6.]]\n",
      "---\n",
      "('log', 'is running')\n",
      "[[50.  0.]\n",
      " [ 1.  5.]]\n",
      "('svm', 'is running')\n",
      "[[50.  0.]\n",
      " [ 2.  4.]]\n",
      "('5nn', 'is running')\n",
      "[[50.  0.]\n",
      " [ 1.  5.]]\n",
      "('tree', 'is running')\n",
      "[[49.  1.]\n",
      " [ 0.  6.]]\n",
      "---\n",
      "('log', 'is running')\n",
      "[[50.  0.]\n",
      " [ 1.  5.]]\n",
      "('svm', 'is running')\n",
      "[[50.  0.]\n",
      " [ 2.  4.]]\n",
      "('5nn', 'is running')\n",
      "[[50.  0.]\n",
      " [ 0.  6.]]\n",
      "('tree', 'is running')\n",
      "[[49.  1.]\n",
      " [ 0.  6.]]\n",
      "---\n",
      "('log', 'is running')\n",
      "[[48.  2.]\n",
      " [ 0.  6.]]\n",
      "('svm', 'is running')\n",
      "[[50.  0.]\n",
      " [ 2.  4.]]\n",
      "('5nn', 'is running')\n",
      "[[50.  0.]\n",
      " [ 0.  6.]]\n",
      "('tree', 'is running')\n",
      "[[49.  1.]\n",
      " [ 0.  6.]]\n",
      "---\n",
      "('log', 'is running')\n",
      "[[48.  2.]\n",
      " [ 0.  6.]]\n",
      "('svm', 'is running')\n",
      "[[50.  0.]\n",
      " [ 2.  4.]]\n",
      "('5nn', 'is running')\n",
      "[[50.  0.]\n",
      " [ 0.  6.]]\n",
      "('tree', 'is running')\n",
      "[[49.  1.]\n",
      " [ 0.  6.]]\n",
      "---\n",
      "('log', 'is running')\n",
      "[[47.  3.]\n",
      " [ 0.  6.]]\n",
      "('svm', 'is running')\n",
      "[[50.  0.]\n",
      " [ 2.  4.]]\n",
      "('5nn', 'is running')\n",
      "[[50.  0.]\n",
      " [ 0.  6.]]\n",
      "('tree', 'is running')\n",
      "[[49.  1.]\n",
      " [ 0.  6.]]\n",
      "---\n",
      "('log', 'is running')\n",
      "[[49.  1.]\n",
      " [ 0.  6.]]\n",
      "('svm', 'is running')\n",
      "[[50.  0.]\n",
      " [ 1.  5.]]\n",
      "('5nn', 'is running')\n",
      "[[50.  0.]\n",
      " [ 0.  6.]]\n",
      "('tree', 'is running')\n",
      "[[49.  1.]\n",
      " [ 0.  6.]]\n",
      "---\n",
      "('log', 'is running')\n",
      "[[49.  1.]\n",
      " [ 1.  5.]]\n",
      "('svm', 'is running')\n",
      "[[50.  0.]\n",
      " [ 1.  5.]]\n",
      "('5nn', 'is running')\n",
      "[[50.  0.]\n",
      " [ 0.  6.]]\n",
      "('tree', 'is running')\n",
      "[[49.  1.]\n",
      " [ 0.  6.]]\n"
     ]
    }
   ],
   "source": [
    "iris_precision_dict, iris_recall_dict = test_against_inc_rate(imb_iris_data, imb_iris_label, name='smote_iris', \\\n",
    "                                                          apply_smote=True, higher_smote_inc_rate=10, standard=True)"
   ]
  },
  {
   "cell_type": "code",
   "execution_count": 38,
   "metadata": {},
   "outputs": [
    {
     "name": "stdout",
     "output_type": "stream",
     "text": [
      "Precisions for iris dataset {'svm': [0.0, 1.0, 1.0, 1.0, 1.0, 1.0, 1.0, 1.0, 1.0, 1.0, 1.0], 'tree': [0.857, 0.857, 0.857, 0.857, 0.857, 0.857, 0.857, 0.857, 0.857, 0.857, 0.857], 'log': [1.0, 1.0, 0.75, 0.833, 1.0, 1.0, 0.75, 0.75, 0.667, 0.857, 0.833], '5nn': [1.0, 1.0, 1.0, 1.0, 1.0, 1.0, 1.0, 1.0, 1.0, 1.0, 1.0]}\n",
      "Recalls for iris dataset {'svm': [0.0, 0.667, 0.667, 0.667, 0.667, 0.667, 0.667, 0.667, 0.667, 0.833, 0.833], 'tree': [1.0, 1.0, 1.0, 1.0, 1.0, 1.0, 1.0, 1.0, 1.0, 1.0, 1.0], 'log': [0.833, 0.833, 1.0, 0.833, 0.833, 0.833, 1.0, 1.0, 1.0, 1.0, 0.833], '5nn': [0.667, 0.667, 0.667, 0.667, 0.833, 1.0, 1.0, 1.0, 1.0, 1.0, 1.0]}\n"
     ]
    }
   ],
   "source": [
    "print 'Precisions for iris dataset', iris_precision_dict\n",
    "print 'Recalls for iris dataset', iris_recall_dict"
   ]
  },
  {
   "cell_type": "markdown",
   "metadata": {},
   "source": [
    "#### Wine"
   ]
  },
  {
   "cell_type": "code",
   "execution_count": 39,
   "metadata": {},
   "outputs": [
    {
     "name": "stdout",
     "output_type": "stream",
     "text": [
      "---\n",
      "('log', 'is running')\n",
      "[[59.  0.]\n",
      " [ 2.  5.]]\n",
      "('svm', 'is running')\n",
      "[[59.  0.]\n",
      " [ 7.  0.]]\n",
      "('5nn', 'is running')\n",
      "[[59.  0.]\n",
      " [ 3.  4.]]\n",
      "('tree', 'is running')\n",
      "[[59.  0.]\n",
      " [ 2.  5.]]\n",
      "---\n",
      "('log', 'is running')\n",
      "[[59.  0.]\n",
      " [ 2.  5.]]\n",
      "('svm', 'is running')\n",
      "[[59.  0.]\n",
      " [ 6.  1.]]\n",
      "('5nn', 'is running')\n",
      "[[59.  0.]\n",
      " [ 2.  5.]]\n",
      "('tree', 'is running')\n",
      "[[59.  0.]\n",
      " [ 2.  5.]]\n",
      "---\n",
      "('log', 'is running')\n",
      "[[59.  0.]\n",
      " [ 2.  5.]]\n",
      "('svm', 'is running')\n",
      "[[59.  0.]\n",
      " [ 1.  6.]]\n",
      "('5nn', 'is running')\n",
      "[[59.  0.]\n",
      " [ 2.  5.]]\n",
      "('tree', 'is running')\n",
      "[[59.  0.]\n",
      " [ 2.  5.]]\n",
      "---\n",
      "('log', 'is running')\n",
      "[[59.  0.]\n",
      " [ 2.  5.]]\n",
      "('svm', 'is running')\n",
      "[[59.  0.]\n",
      " [ 1.  6.]]\n",
      "('5nn', 'is running')\n",
      "[[59.  0.]\n",
      " [ 2.  5.]]\n",
      "('tree', 'is running')\n",
      "[[59.  0.]\n",
      " [ 2.  5.]]\n",
      "---\n",
      "('log', 'is running')\n",
      "[[59.  0.]\n",
      " [ 0.  7.]]\n",
      "('svm', 'is running')\n",
      "[[59.  0.]\n",
      " [ 1.  6.]]\n",
      "('5nn', 'is running')\n",
      "[[59.  0.]\n",
      " [ 2.  5.]]\n",
      "('tree', 'is running')\n",
      "[[59.  0.]\n",
      " [ 2.  5.]]\n",
      "---\n",
      "('log', 'is running')\n",
      "[[59.  0.]\n",
      " [ 2.  5.]]\n",
      "('svm', 'is running')\n",
      "[[59.  0.]\n",
      " [ 1.  6.]]\n",
      "('5nn', 'is running')\n",
      "[[59.  0.]\n",
      " [ 2.  5.]]\n",
      "('tree', 'is running')\n",
      "[[59.  0.]\n",
      " [ 2.  5.]]\n",
      "---\n",
      "('log', 'is running')\n",
      "[[59.  0.]\n",
      " [ 1.  6.]]\n",
      "('svm', 'is running')\n",
      "[[59.  0.]\n",
      " [ 1.  6.]]\n",
      "('5nn', 'is running')\n",
      "[[59.  0.]\n",
      " [ 2.  5.]]\n",
      "('tree', 'is running')\n",
      "[[59.  0.]\n",
      " [ 2.  5.]]\n",
      "---\n",
      "('log', 'is running')\n",
      "[[59.  0.]\n",
      " [ 1.  6.]]\n",
      "('svm', 'is running')\n",
      "[[59.  0.]\n",
      " [ 0.  7.]]\n",
      "('5nn', 'is running')\n",
      "[[59.  0.]\n",
      " [ 2.  5.]]\n",
      "('tree', 'is running')\n",
      "[[59.  0.]\n",
      " [ 2.  5.]]\n",
      "---\n",
      "('log', 'is running')\n",
      "[[59.  0.]\n",
      " [ 2.  5.]]\n",
      "('svm', 'is running')\n",
      "[[59.  0.]\n",
      " [ 0.  7.]]\n",
      "('5nn', 'is running')\n",
      "[[59.  0.]\n",
      " [ 2.  5.]]\n",
      "('tree', 'is running')\n",
      "[[59.  0.]\n",
      " [ 2.  5.]]\n",
      "---\n",
      "('log', 'is running')\n",
      "[[59.  0.]\n",
      " [ 1.  6.]]\n",
      "('svm', 'is running')\n",
      "[[59.  0.]\n",
      " [ 0.  7.]]\n",
      "('5nn', 'is running')\n",
      "[[59.  0.]\n",
      " [ 2.  5.]]\n",
      "('tree', 'is running')\n",
      "[[59.  0.]\n",
      " [ 2.  5.]]\n",
      "---\n",
      "('log', 'is running')\n",
      "[[59.  0.]\n",
      " [ 0.  7.]]\n",
      "('svm', 'is running')\n",
      "[[59.  0.]\n",
      " [ 0.  7.]]\n",
      "('5nn', 'is running')\n",
      "[[59.  0.]\n",
      " [ 2.  5.]]\n",
      "('tree', 'is running')\n",
      "[[59.  0.]\n",
      " [ 2.  5.]]\n"
     ]
    }
   ],
   "source": [
    "wine_precision_dict, wine_recall_dict = test_against_inc_rate(imb_wine_data, imb_wine_label, name='smote_wine', \\\n",
    "                                                          apply_smote=True, higher_smote_inc_rate=10, standard=True)"
   ]
  },
  {
   "cell_type": "code",
   "execution_count": 40,
   "metadata": {},
   "outputs": [
    {
     "name": "stdout",
     "output_type": "stream",
     "text": [
      "Precisions for wine dataset {'svm': [0.0, 1.0, 1.0, 1.0, 1.0, 1.0, 1.0, 1.0, 1.0, 1.0, 1.0], 'tree': [1.0, 1.0, 1.0, 1.0, 1.0, 1.0, 1.0, 1.0, 1.0, 1.0, 1.0], 'log': [1.0, 1.0, 1.0, 1.0, 1.0, 1.0, 1.0, 1.0, 1.0, 1.0, 1.0], '5nn': [1.0, 1.0, 1.0, 1.0, 1.0, 1.0, 1.0, 1.0, 1.0, 1.0, 1.0]}\n",
      "Recalls for wine dataset {'svm': [0.0, 0.143, 0.857, 0.857, 0.857, 0.857, 0.857, 1.0, 1.0, 1.0, 1.0], 'tree': [0.714, 0.714, 0.714, 0.714, 0.714, 0.714, 0.714, 0.714, 0.714, 0.714, 0.714], 'log': [0.714, 0.714, 0.714, 0.714, 1.0, 0.714, 0.857, 0.857, 0.714, 0.857, 1.0], '5nn': [0.571, 0.714, 0.714, 0.714, 0.714, 0.714, 0.714, 0.714, 0.714, 0.714, 0.714]}\n"
     ]
    }
   ],
   "source": [
    "print 'Precisions for wine dataset', wine_precision_dict\n",
    "print 'Recalls for wine dataset', wine_recall_dict"
   ]
  },
  {
   "cell_type": "markdown",
   "metadata": {},
   "source": [
    "#### Yeast"
   ]
  },
  {
   "cell_type": "code",
   "execution_count": 53,
   "metadata": {},
   "outputs": [
    {
     "name": "stdout",
     "output_type": "stream",
     "text": [
      "---\n",
      "('log', 'is running')\n",
      "[[429.   0.]\n",
      " [ 48.   0.]]\n",
      "('svm', 'is running')\n",
      "[[429.   0.]\n",
      " [ 48.   0.]]\n",
      "('5nn', 'is running')\n",
      "[[423.   6.]\n",
      " [ 46.   2.]]\n",
      "('tree', 'is running')\n",
      "[[390.  39.]\n",
      " [ 37.  11.]]\n",
      "---\n",
      "('log', 'is running')\n",
      "[[408.  21.]\n",
      " [ 43.   5.]]\n",
      "('svm', 'is running')\n",
      "[[429.   0.]\n",
      " [ 48.   0.]]\n",
      "('5nn', 'is running')\n",
      "[[385.  44.]\n",
      " [ 40.   8.]]\n",
      "('tree', 'is running')\n",
      "[[388.  41.]\n",
      " [ 38.  10.]]\n",
      "---\n",
      "('log', 'is running')\n",
      "[[401.  28.]\n",
      " [ 37.  11.]]\n",
      "('svm', 'is running')\n",
      "[[429.   0.]\n",
      " [ 48.   0.]]\n",
      "('5nn', 'is running')\n",
      "[[367.  62.]\n",
      " [ 33.  15.]]\n",
      "('tree', 'is running')\n",
      "[[379.  50.]\n",
      " [ 34.  14.]]\n",
      "---\n",
      "('log', 'is running')\n",
      "[[329. 100.]\n",
      " [ 29.  19.]]\n",
      "('svm', 'is running')\n",
      "[[429.   0.]\n",
      " [ 48.   0.]]\n",
      "('5nn', 'is running')\n",
      "[[352.  77.]\n",
      " [ 30.  18.]]\n",
      "('tree', 'is running')\n",
      "[[361.  68.]\n",
      " [ 32.  16.]]\n",
      "---\n",
      "('log', 'is running')\n",
      "[[405.  24.]\n",
      " [ 36.  12.]]\n",
      "('svm', 'is running')\n",
      "[[429.   0.]\n",
      " [ 48.   0.]]\n",
      "('5nn', 'is running')\n",
      "[[341.  88.]\n",
      " [ 30.  18.]]\n",
      "('tree', 'is running')\n",
      "[[347.  82.]\n",
      " [ 33.  15.]]\n",
      "---\n",
      "('log', 'is running')\n",
      "[[373.  56.]\n",
      " [ 31.  17.]]\n",
      "('svm', 'is running')\n",
      "[[428.   1.]\n",
      " [ 47.   1.]]\n",
      "('5nn', 'is running')\n",
      "[[334.  95.]\n",
      " [ 27.  21.]]\n",
      "('tree', 'is running')\n",
      "[[351.  78.]\n",
      " [ 31.  17.]]\n",
      "---\n",
      "('log', 'is running')\n",
      "[[365.  64.]\n",
      " [ 29.  19.]]\n",
      "('svm', 'is running')\n",
      "[[347.  82.]\n",
      " [ 32.  16.]]\n",
      "('5nn', 'is running')\n",
      "[[326. 103.]\n",
      " [ 25.  23.]]\n",
      "('tree', 'is running')\n",
      "[[340.  89.]\n",
      " [ 28.  20.]]\n",
      "---\n",
      "('log', 'is running')\n",
      "[[254. 175.]\n",
      " [ 16.  32.]]\n",
      "('svm', 'is running')\n",
      "[[217. 212.]\n",
      " [ 11.  37.]]\n",
      "('5nn', 'is running')\n",
      "[[319. 110.]\n",
      " [ 25.  23.]]\n",
      "('tree', 'is running')\n",
      "[[333.  96.]\n",
      " [ 28.  20.]]\n",
      "---\n",
      "('log', 'is running')\n",
      "[[235. 194.]\n",
      " [ 14.  34.]]\n",
      "('svm', 'is running')\n",
      "[[185. 244.]\n",
      " [  7.  41.]]\n",
      "('5nn', 'is running')\n",
      "[[313. 116.]\n",
      " [ 25.  23.]]\n",
      "('tree', 'is running')\n",
      "[[343.  86.]\n",
      " [ 26.  22.]]\n",
      "---\n",
      "('log', 'is running')\n",
      "[[289. 140.]\n",
      " [ 17.  31.]]\n",
      "('svm', 'is running')\n",
      "[[155. 274.]\n",
      " [  6.  42.]]\n",
      "('5nn', 'is running')\n",
      "[[306. 123.]\n",
      " [ 23.  25.]]\n",
      "('tree', 'is running')\n",
      "[[339.  90.]\n",
      " [ 22.  26.]]\n",
      "---\n",
      "('log', 'is running')\n",
      "[[219. 210.]\n",
      " [ 10.  38.]]\n",
      "('svm', 'is running')\n",
      "[[137. 292.]\n",
      " [  5.  43.]]\n",
      "('5nn', 'is running')\n",
      "[[302. 127.]\n",
      " [ 23.  25.]]\n",
      "('tree', 'is running')\n",
      "[[339.  90.]\n",
      " [ 21.  27.]]\n"
     ]
    }
   ],
   "source": [
    "yeast_precision_dict, yeast_recall_dict = test_against_inc_rate(imb_yeast_data, imb_yeast_label, name='smote_yeast', \\\n",
    "                                                          apply_smote=True, higher_smote_inc_rate=10, standard=True)"
   ]
  },
  {
   "cell_type": "code",
   "execution_count": 54,
   "metadata": {},
   "outputs": [
    {
     "name": "stdout",
     "output_type": "stream",
     "text": [
      "Precisions for yeast dataset {'svm': [0L, 0.0, 0.0, 0.0, 0.0, 0.5, 0.163, 0.149, 0.144, 0.133, 0.128], 'tree': [0.22, 0.196, 0.219, 0.19, 0.155, 0.179, 0.183, 0.172, 0.204, 0.224, 0.231], 'log': [0L, 0.192, 0.282, 0.16, 0.333, 0.233, 0.229, 0.155, 0.149, 0.181, 0.153], '5nn': [0.25, 0.154, 0.195, 0.189, 0.17, 0.181, 0.183, 0.173, 0.165, 0.169, 0.164]}\n",
      "Recalls for yeast dataset {'svm': [0.0, 0.0, 0.0, 0.0, 0.0, 0.021, 0.333, 0.771, 0.854, 0.875, 0.896], 'tree': [0.229, 0.208, 0.292, 0.333, 0.313, 0.354, 0.417, 0.417, 0.458, 0.542, 0.563], 'log': [0.0, 0.104, 0.229, 0.396, 0.25, 0.354, 0.396, 0.667, 0.708, 0.646, 0.792], '5nn': [0.042, 0.167, 0.313, 0.375, 0.375, 0.438, 0.479, 0.479, 0.479, 0.521, 0.521]}\n"
     ]
    }
   ],
   "source": [
    "print 'Precisions for yeast dataset', yeast_precision_dict\n",
    "print 'Recalls for yeast dataset', yeast_recall_dict"
   ]
  },
  {
   "cell_type": "code",
   "execution_count": 43,
   "metadata": {},
   "outputs": [
    {
     "name": "stdout",
     "output_type": "stream",
     "text": [
      "---\n",
      "('log', 'is running')\n",
      "[[1039.    0.]\n",
      " [  15.  100.]]\n",
      "('svm', 'is running')\n",
      "[[1039.    0.]\n",
      " [  85.   30.]]\n",
      "('5nn', 'is running')\n",
      "[[1039.    0.]\n",
      " [  17.   98.]]\n",
      "('tree', 'is running')\n",
      "[[1036.    3.]\n",
      " [   3.  112.]]\n",
      "---\n",
      "('log', 'is running')\n",
      "[[1.038e+03 1.000e+00]\n",
      " [1.600e+01 9.900e+01]]\n",
      "('svm', 'is running')\n",
      "[[1039.    0.]\n",
      " [  42.   73.]]\n",
      "('5nn', 'is running')\n",
      "[[1039.    0.]\n",
      " [  10.  105.]]\n",
      "('tree', 'is running')\n",
      "[[1036.    3.]\n",
      " [   3.  112.]]\n",
      "---\n",
      "('log', 'is running')\n",
      "[[1036.    3.]\n",
      " [  11.  104.]]\n",
      "('svm', 'is running')\n",
      "[[1039.    0.]\n",
      " [  22.   93.]]\n",
      "('5nn', 'is running')\n",
      "[[1039.    0.]\n",
      " [  10.  105.]]\n",
      "('tree', 'is running')\n",
      "[[1037.    2.]\n",
      " [   3.  112.]]\n",
      "---\n",
      "('log', 'is running')\n",
      "[[1029.   10.]\n",
      " [  10.  105.]]\n",
      "('svm', 'is running')\n",
      "[[1039.    0.]\n",
      " [  16.   99.]]\n",
      "('5nn', 'is running')\n",
      "[[1037.    2.]\n",
      " [   8.  107.]]\n",
      "('tree', 'is running')\n",
      "[[1.038e+03 1.000e+00]\n",
      " [4.000e+00 1.110e+02]]\n",
      "---\n",
      "('log', 'is running')\n",
      "[[1039.    0.]\n",
      " [  16.   99.]]\n",
      "('svm', 'is running')\n",
      "[[1039.    0.]\n",
      " [  13.  102.]]\n",
      "('5nn', 'is running')\n",
      "[[1037.    2.]\n",
      " [   8.  107.]]\n",
      "('tree', 'is running')\n",
      "[[1.038e+03 1.000e+00]\n",
      " [4.000e+00 1.110e+02]]\n",
      "---\n",
      "('log', 'is running')\n",
      "[[1037.    2.]\n",
      " [  12.  103.]]\n",
      "('svm', 'is running')\n",
      "[[1039.    0.]\n",
      " [  13.  102.]]\n",
      "('5nn', 'is running')\n",
      "[[1035.    4.]\n",
      " [   7.  108.]]\n",
      "('tree', 'is running')\n",
      "[[1.038e+03 1.000e+00]\n",
      " [4.000e+00 1.110e+02]]\n",
      "---\n",
      "('log', 'is running')\n",
      "[[1035.    4.]\n",
      " [   9.  106.]]\n",
      "('svm', 'is running')\n",
      "[[1039.    0.]\n",
      " [  12.  103.]]\n",
      "('5nn', 'is running')\n",
      "[[1035.    4.]\n",
      " [   7.  108.]]\n",
      "('tree', 'is running')\n",
      "[[1.038e+03 1.000e+00]\n",
      " [4.000e+00 1.110e+02]]\n",
      "---\n",
      "('log', 'is running')\n",
      "[[1.038e+03 1.000e+00]\n",
      " [9.000e+00 1.060e+02]]\n",
      "('svm', 'is running')\n",
      "[[1039.    0.]\n",
      " [  12.  103.]]\n",
      "('5nn', 'is running')\n",
      "[[1035.    4.]\n",
      " [   7.  108.]]\n",
      "('tree', 'is running')\n",
      "[[1037.    2.]\n",
      " [   4.  111.]]\n",
      "---\n",
      "('log', 'is running')\n",
      "[[1031.    8.]\n",
      " [  10.  105.]]\n",
      "('svm', 'is running')\n",
      "[[1039.    0.]\n",
      " [  12.  103.]]\n",
      "('5nn', 'is running')\n",
      "[[1035.    4.]\n",
      " [   7.  108.]]\n",
      "('tree', 'is running')\n",
      "[[1.038e+03 1.000e+00]\n",
      " [2.000e+00 1.130e+02]]\n",
      "---\n",
      "('log', 'is running')\n",
      "[[1030.    9.]\n",
      " [   9.  106.]]\n",
      "('svm', 'is running')\n",
      "[[1037.    2.]\n",
      " [  12.  103.]]\n",
      "('5nn', 'is running')\n",
      "[[1035.    4.]\n",
      " [   7.  108.]]\n",
      "('tree', 'is running')\n",
      "[[1.038e+03 1.000e+00]\n",
      " [2.000e+00 1.130e+02]]\n",
      "---\n",
      "('log', 'is running')\n",
      "[[1027.   12.]\n",
      " [   9.  106.]]\n",
      "('svm', 'is running')\n",
      "[[1035.    4.]\n",
      " [  11.  104.]]\n",
      "('5nn', 'is running')\n",
      "[[1035.    4.]\n",
      " [   7.  108.]]\n",
      "('tree', 'is running')\n",
      "[[1039.    0.]\n",
      " [   2.  113.]]\n"
     ]
    }
   ],
   "source": [
    "avila_precision_dict, avila_recall_dict = test_against_inc_rate(imb_avila_data, imb_avila_labels, name='smote_avila', \\\n",
    "                                                          apply_smote=True, higher_smote_inc_rate=10, standard=True)"
   ]
  },
  {
   "cell_type": "code",
   "execution_count": 44,
   "metadata": {},
   "outputs": [
    {
     "name": "stdout",
     "output_type": "stream",
     "text": [
      "Precisions for yeast dataset {'svm': [1.0, 1.0, 1.0, 1.0, 1.0, 1.0, 1.0, 1.0, 1.0, 0.981, 0.963], 'tree': [0.974, 0.974, 0.982, 0.991, 0.991, 0.991, 0.991, 0.982, 0.991, 0.991, 1.0], 'log': [1.0, 0.99, 0.972, 0.913, 1.0, 0.981, 0.964, 0.991, 0.929, 0.922, 0.898], '5nn': [1.0, 1.0, 1.0, 0.982, 0.982, 0.964, 0.964, 0.964, 0.964, 0.964, 0.964]}\n",
      "Recalls for yeast dataset {'svm': [0.261, 0.635, 0.809, 0.861, 0.887, 0.887, 0.896, 0.896, 0.896, 0.896, 0.904], 'tree': [0.974, 0.974, 0.974, 0.965, 0.965, 0.965, 0.965, 0.965, 0.983, 0.983, 0.983], 'log': [0.87, 0.861, 0.904, 0.913, 0.861, 0.896, 0.922, 0.922, 0.913, 0.922, 0.922], '5nn': [0.852, 0.913, 0.913, 0.93, 0.93, 0.939, 0.939, 0.939, 0.939, 0.939, 0.939]}\n"
     ]
    }
   ],
   "source": [
    "print 'Precisions for yeast dataset', avila_precision_dict\n",
    "print 'Recalls for yeast dataset', avila_recall_dict"
   ]
  },
  {
   "cell_type": "code",
   "execution_count": 45,
   "metadata": {},
   "outputs": [
    {
     "name": "stdout",
     "output_type": "stream",
     "text": [
      "---\n",
      "('log', 'is running')\n",
      "[[493.   7.]\n",
      " [  7.  49.]]\n",
      "('svm', 'is running')\n",
      "[[499.   1.]\n",
      " [ 28.  28.]]\n",
      "('5nn', 'is running')\n",
      "[[495.   5.]\n",
      " [ 11.  45.]]\n",
      "('tree', 'is running')\n",
      "[[485.  15.]\n",
      " [ 15.  41.]]\n",
      "---\n",
      "('log', 'is running')\n",
      "[[488.  12.]\n",
      " [  7.  49.]]\n",
      "('svm', 'is running')\n",
      "[[487.  13.]\n",
      " [  5.  51.]]\n",
      "('5nn', 'is running')\n",
      "[[488.  12.]\n",
      " [  7.  49.]]\n",
      "('tree', 'is running')\n",
      "[[491.   9.]\n",
      " [ 12.  44.]]\n",
      "---\n",
      "('log', 'is running')\n",
      "[[488.  12.]\n",
      " [  2.  54.]]\n",
      "('svm', 'is running')\n",
      "[[484.  16.]\n",
      " [  4.  52.]]\n",
      "('5nn', 'is running')\n",
      "[[488.  12.]\n",
      " [  6.  50.]]\n",
      "('tree', 'is running')\n",
      "[[490.  10.]\n",
      " [ 11.  45.]]\n",
      "---\n",
      "('log', 'is running')\n",
      "[[488.  12.]\n",
      " [  4.  52.]]\n",
      "('svm', 'is running')\n",
      "[[481.  19.]\n",
      " [  4.  52.]]\n",
      "('5nn', 'is running')\n",
      "[[487.  13.]\n",
      " [  5.  51.]]\n",
      "('tree', 'is running')\n",
      "[[490.  10.]\n",
      " [ 10.  46.]]\n",
      "---\n",
      "('log', 'is running')\n",
      "[[488.  12.]\n",
      " [  4.  52.]]\n",
      "('svm', 'is running')\n",
      "[[480.  20.]\n",
      " [  4.  52.]]\n",
      "('5nn', 'is running')\n",
      "[[486.  14.]\n",
      " [  5.  51.]]\n",
      "('tree', 'is running')\n",
      "[[488.  12.]\n",
      " [  8.  48.]]\n",
      "---\n",
      "('log', 'is running')\n",
      "[[479.  21.]\n",
      " [  1.  55.]]\n",
      "('svm', 'is running')\n",
      "[[480.  20.]\n",
      " [  4.  52.]]\n",
      "('5nn', 'is running')\n",
      "[[485.  15.]\n",
      " [  4.  52.]]\n",
      "('tree', 'is running')\n",
      "[[485.  15.]\n",
      " [  8.  48.]]\n",
      "---\n",
      "('log', 'is running')\n",
      "[[484.  16.]\n",
      " [  4.  52.]]\n",
      "('svm', 'is running')\n",
      "[[479.  21.]\n",
      " [  4.  52.]]\n",
      "('5nn', 'is running')\n",
      "[[482.  18.]\n",
      " [  4.  52.]]\n",
      "('tree', 'is running')\n",
      "[[486.  14.]\n",
      " [  8.  48.]]\n",
      "---\n",
      "('log', 'is running')\n",
      "[[481.  19.]\n",
      " [  4.  52.]]\n",
      "('svm', 'is running')\n",
      "[[478.  22.]\n",
      " [  4.  52.]]\n",
      "('5nn', 'is running')\n",
      "[[481.  19.]\n",
      " [  3.  53.]]\n",
      "('tree', 'is running')\n",
      "[[487.  13.]\n",
      " [  6.  50.]]\n",
      "---\n",
      "('log', 'is running')\n",
      "[[484.  16.]\n",
      " [  5.  51.]]\n",
      "('svm', 'is running')\n",
      "[[474.  26.]\n",
      " [  4.  52.]]\n",
      "('5nn', 'is running')\n",
      "[[480.  20.]\n",
      " [  3.  53.]]\n",
      "('tree', 'is running')\n",
      "[[487.  13.]\n",
      " [  9.  47.]]\n",
      "---\n",
      "('log', 'is running')\n",
      "[[477.  23.]\n",
      " [  3.  53.]]\n",
      "('svm', 'is running')\n",
      "[[471.  29.]\n",
      " [  4.  52.]]\n",
      "('5nn', 'is running')\n",
      "[[478.  22.]\n",
      " [  3.  53.]]\n",
      "('tree', 'is running')\n",
      "[[487.  13.]\n",
      " [ 10.  46.]]\n",
      "---\n",
      "('log', 'is running')\n",
      "[[479.  21.]\n",
      " [  3.  53.]]\n",
      "('svm', 'is running')\n",
      "[[468.  32.]\n",
      " [  4.  52.]]\n",
      "('5nn', 'is running')\n",
      "[[478.  22.]\n",
      " [  3.  53.]]\n",
      "('tree', 'is running')\n",
      "[[487.  13.]\n",
      " [  9.  47.]]\n"
     ]
    }
   ],
   "source": [
    "wil_precision_dict, wil_recall_dict = test_against_inc_rate(imb_wil_data, imb_wil_label, name='smote_wil', \\\n",
    "                                                          apply_smote=True, higher_smote_inc_rate=10, standard=True)"
   ]
  },
  {
   "cell_type": "code",
   "execution_count": 46,
   "metadata": {},
   "outputs": [
    {
     "name": "stdout",
     "output_type": "stream",
     "text": [
      "Precisions for wil dataset {'svm': [0.966, 0.797, 0.765, 0.732, 0.722, 0.722, 0.712, 0.703, 0.667, 0.642, 0.619], 'tree': [0.732, 0.83, 0.818, 0.821, 0.8, 0.762, 0.774, 0.794, 0.783, 0.78, 0.783], 'log': [0.875, 0.803, 0.818, 0.813, 0.813, 0.724, 0.765, 0.732, 0.761, 0.697, 0.716], '5nn': [0.9, 0.803, 0.806, 0.797, 0.785, 0.776, 0.743, 0.736, 0.726, 0.707, 0.707]}\n",
      "Recalls for wil dataset {'svm': [0.5, 0.911, 0.929, 0.929, 0.929, 0.929, 0.929, 0.929, 0.929, 0.929, 0.929], 'tree': [0.732, 0.786, 0.804, 0.821, 0.857, 0.857, 0.857, 0.893, 0.839, 0.821, 0.839], 'log': [0.875, 0.875, 0.964, 0.929, 0.929, 0.982, 0.929, 0.929, 0.911, 0.946, 0.946], '5nn': [0.804, 0.875, 0.893, 0.911, 0.911, 0.929, 0.929, 0.946, 0.946, 0.946, 0.946]}\n"
     ]
    }
   ],
   "source": [
    "print 'Precisions for wil dataset', wil_precision_dict\n",
    "print 'Recalls for wil dataset', wil_recall_dict"
   ]
  },
  {
   "cell_type": "markdown",
   "metadata": {},
   "source": [
    "### Plot precision and recall against SMOTE increase rate"
   ]
  },
  {
   "cell_type": "code",
   "execution_count": 47,
   "metadata": {},
   "outputs": [],
   "source": [
    "# function for plotting precision/recall against smote increase rate\n",
    "# input: dictionary with precision/recall values for each classifier\n",
    "#        measure - 'Precision' or 'Recall'\n",
    "#        markers - markers for each classifier \n",
    "def plot_against_inc_rate(measure_dict, measure, markers):\n",
    "    x = np.arange(len(measure_dict.get(measure_dict.keys()[0])))\n",
    "    i = 0\n",
    "    for key in measure_dict.keys():\n",
    "        tmp_list = measure_dict.get(key)\n",
    "        plt.plot(x, tmp_list, marker=markers[i], markersize=8)\n",
    "        i += 1\n",
    "    axis = plt.gca()\n",
    "    axis.set_ylim([-0.05, 1.05])\n",
    "    plt.legend(measure_dict.keys(), loc='lower right')\n",
    "    plt.xlabel('SMOTE increase rate')\n",
    "    plt.ylabel(measure)\n",
    "    plt.show()"
   ]
  },
  {
   "cell_type": "markdown",
   "metadata": {},
   "source": [
    "#### Breast cancer plots"
   ]
  },
  {
   "cell_type": "code",
   "execution_count": 48,
   "metadata": {},
   "outputs": [
    {
     "data": {
      "image/png": "[encoded data removed]",
      "text/plain": [
       "<Figure size 432x288 with 1 Axes>"
      ]
     },
     "metadata": {},
     "output_type": "display_data"
    }
   ],
   "source": [
    "plot_against_inc_rate(bc_precision_dict, measure='Precision', markers=['o', '^', 'v', 's'])"
   ]
  },
  {
   "cell_type": "code",
   "execution_count": 49,
   "metadata": {},
   "outputs": [
    {
     "data": {
      "image/png": "[encoded data removed]",
      "text/plain": [
       "<Figure size 432x288 with 1 Axes>"
      ]
     },
     "metadata": {},
     "output_type": "display_data"
    }
   ],
   "source": [
    "plot_against_inc_rate(bc_recall_dict, 'Recall', markers=['o', '^', 'v', 's'])"
   ]
  },
  {
   "cell_type": "markdown",
   "metadata": {},
   "source": [
    "#### Iris"
   ]
  },
  {
   "cell_type": "code",
   "execution_count": 50,
   "metadata": {},
   "outputs": [
    {
     "data": {
      "image/png": "[encoded data removed]",
      "text/plain": [
       "<Figure size 432x288 with 1 Axes>"
      ]
     },
     "metadata": {},
     "output_type": "display_data"
    }
   ],
   "source": [
    "plot_against_inc_rate(iris_precision_dict, 'Precision', markers=['o', '^', 'v', 's'])"
   ]
  },
  {
   "cell_type": "code",
   "execution_count": 51,
   "metadata": {},
   "outputs": [
    {
     "data": {
      "image/png": "[encoded data removed]",
      "text/plain": [
       "<Figure size 432x288 with 1 Axes>"
      ]
     },
     "metadata": {},
     "output_type": "display_data"
    }
   ],
   "source": [
    "plot_against_inc_rate(iris_recall_dict, 'Recall', markers=['o', '^', 'v', 's'])"
   ]
  },
  {
   "cell_type": "markdown",
   "metadata": {},
   "source": [
    "#### Wine"
   ]
  },
  {
   "cell_type": "code",
   "execution_count": 52,
   "metadata": {},
   "outputs": [
    {
     "data": {
      "image/png": "[encoded data removed]",
      "text/plain": [
       "<Figure size 432x288 with 1 Axes>"
      ]
     },
     "metadata": {},
     "output_type": "display_data"
    }
   ],
   "source": [
    "plot_against_inc_rate(wine_precision_dict, 'Precision', markers=['o', '^', 'v', 's'])"
   ]
  },
  {
   "cell_type": "code",
   "execution_count": 53,
   "metadata": {},
   "outputs": [
    {
     "data": {
      "image/png": "[encoded data removed]",
      "text/plain": [
       "<Figure size 432x288 with 1 Axes>"
      ]
     },
     "metadata": {},
     "output_type": "display_data"
    }
   ],
   "source": [
    "plot_against_inc_rate(wine_recall_dict, 'Recall', markers=['o', '^', 'v', 's'])"
   ]
  },
  {
   "cell_type": "markdown",
   "metadata": {},
   "source": [
    "#### Yeast"
   ]
  },
  {
   "cell_type": "code",
   "execution_count": 54,
   "metadata": {},
   "outputs": [
    {
     "data": {
      "image/png": "[encoded data removed]",
      "text/plain": [
       "<Figure size 432x288 with 1 Axes>"
      ]
     },
     "metadata": {},
     "output_type": "display_data"
    }
   ],
   "source": [
    "plot_against_inc_rate(yeast_precision_dict, 'Precision', markers=['o', '^', 'v', 's'])"
   ]
  },
  {
   "cell_type": "code",
   "execution_count": 55,
   "metadata": {},
   "outputs": [
    {
     "data": {
      "image/png": "[encoded data removed]",
      "text/plain": [
       "<Figure size 432x288 with 1 Axes>"
      ]
     },
     "metadata": {},
     "output_type": "display_data"
    }
   ],
   "source": [
    "plot_against_inc_rate(yeast_recall_dict, 'Recall', markers=['o', '^', 'v', 's'])"
   ]
  },
  {
   "cell_type": "markdown",
   "metadata": {},
   "source": [
    "#### Avila"
   ]
  },
  {
   "cell_type": "code",
   "execution_count": 56,
   "metadata": {},
   "outputs": [
    {
     "data": {
      "image/png": "[encoded data removed]",
      "text/plain": [
       "<Figure size 432x288 with 1 Axes>"
      ]
     },
     "metadata": {},
     "output_type": "display_data"
    }
   ],
   "source": [
    "plot_against_inc_rate(avila_precision_dict, 'Precision', markers=['o', '^', 'v', 's'])"
   ]
  },
  {
   "cell_type": "code",
   "execution_count": 57,
   "metadata": {},
   "outputs": [
    {
     "data": {
      "image/png": "[encoded data removed]",
      "text/plain": [
       "<Figure size 432x288 with 1 Axes>"
      ]
     },
     "metadata": {},
     "output_type": "display_data"
    }
   ],
   "source": [
    "plot_against_inc_rate(avila_recall_dict, 'Recall', markers=['o', '^', 'v', 's'])"
   ]
  },
  {
   "cell_type": "markdown",
   "metadata": {},
   "source": [
    "### Wireless Indoor Location"
   ]
  },
  {
   "cell_type": "code",
   "execution_count": 58,
   "metadata": {},
   "outputs": [
    {
     "data": {
      "image/png": "[encoded data removed]",
      "text/plain": [
       "<Figure size 432x288 with 1 Axes>"
      ]
     },
     "metadata": {},
     "output_type": "display_data"
    }
   ],
   "source": [
    "plot_against_inc_rate(wil_precision_dict, 'Precision', markers=['o', '^', 'v', 's'])"
   ]
  },
  {
   "cell_type": "code",
   "execution_count": 59,
   "metadata": {},
   "outputs": [
    {
     "data": {
      "image/png": "[encoded data removed]",
      "text/plain": [
       "<Figure size 432x288 with 1 Axes>"
      ]
     },
     "metadata": {},
     "output_type": "display_data"
    }
   ],
   "source": [
    "plot_against_inc_rate(wil_recall_dict, 'Recall', markers=['o', '^', 'v', 's'])"
   ]
  },
  {
   "cell_type": "markdown",
   "metadata": {},
   "source": [
    "## Further experiments after analysis"
   ]
  },
  {
   "cell_type": "markdown",
   "metadata": {},
   "source": [
    "### Improving SVM poor performance"
   ]
  },
  {
   "cell_type": "code",
   "execution_count": 60,
   "metadata": {},
   "outputs": [
    {
     "name": "stdout",
     "output_type": "stream",
     "text": [
      "('svm', 'is running')\n",
      "[[212.   0.]\n",
      " [ 24.   0.]]\n",
      "('svm', 'is running')\n",
      "[[212.   0.]\n",
      " [ 24.   0.]]\n",
      "('svm', 'is running')\n",
      "[[212.   0.]\n",
      " [ 22.   2.]]\n",
      "('svm', 'is running')\n",
      "[[211.   1.]\n",
      " [ 15.   9.]]\n",
      "('svm', 'is running')\n",
      "[[211.   1.]\n",
      " [ 10.  14.]]\n",
      "('svm', 'is running')\n",
      "[[211.   1.]\n",
      " [  7.  17.]]\n",
      "('svm', 'is running')\n",
      "[[211.   1.]\n",
      " [  7.  17.]]\n",
      "('svm', 'is running')\n",
      "[[211.   1.]\n",
      " [  7.  17.]]\n",
      "('svm', 'is running')\n",
      "[[210.   2.]\n",
      " [  7.  17.]]\n",
      "('svm', 'is running')\n",
      "[[210.   2.]\n",
      " [  6.  18.]]\n",
      "('svm', 'is running')\n",
      "[[210.   2.]\n",
      " [  6.  18.]]\n",
      "('svm', 'is running')\n",
      "[[210.   2.]\n",
      " [  6.  18.]]\n",
      "('svm', 'is running')\n",
      "[[210.   2.]\n",
      " [  6.  18.]]\n",
      "('svm', 'is running')\n",
      "[[210.   2.]\n",
      " [  6.  18.]]\n",
      "('svm', 'is running')\n",
      "[[210.   2.]\n",
      " [  6.  18.]]\n"
     ]
    }
   ],
   "source": [
    "C_range = np.arange(1, 16)\n",
    "df_list = []\n",
    "for C in C_range:\n",
    "    tmp_df = test_dataset(imb_bc_data, imb_bc_label, name='imb_bc', standard=True, C=C, classifiers=['svm'])\n",
    "    tmp_df['C'] = C\n",
    "    df_list.append(tmp_df)\n",
    "final_df = pd.concat(df_list)"
   ]
  },
  {
   "cell_type": "code",
   "execution_count": 61,
   "metadata": {},
   "outputs": [
    {
     "data": {
      "text/html": [
       "<div>\n",
       "<style scoped>\n",
       "    .dataframe tbody tr th:only-of-type {\n",
       "        vertical-align: middle;\n",
       "    }\n",
       "\n",
       "    .dataframe tbody tr th {\n",
       "        vertical-align: top;\n",
       "    }\n",
       "\n",
       "    .dataframe thead th {\n",
       "        text-align: right;\n",
       "    }\n",
       "</style>\n",
       "<table border=\"1\" class=\"dataframe\">\n",
       "  <thead>\n",
       "    <tr style=\"text-align: right;\">\n",
       "      <th></th>\n",
       "      <th>dataset</th>\n",
       "      <th>algorithm</th>\n",
       "      <th>mean accuracy</th>\n",
       "      <th>precision</th>\n",
       "      <th>recall</th>\n",
       "      <th>F-measure</th>\n",
       "      <th>C</th>\n",
       "    </tr>\n",
       "  </thead>\n",
       "  <tbody>\n",
       "    <tr>\n",
       "      <th>0</th>\n",
       "      <td>imb_bc</td>\n",
       "      <td>svm</td>\n",
       "      <td>0.898</td>\n",
       "      <td>0</td>\n",
       "      <td>0.000</td>\n",
       "      <td>0</td>\n",
       "      <td>1</td>\n",
       "    </tr>\n",
       "    <tr>\n",
       "      <th>0</th>\n",
       "      <td>imb_bc</td>\n",
       "      <td>svm</td>\n",
       "      <td>0.898</td>\n",
       "      <td>0</td>\n",
       "      <td>0.000</td>\n",
       "      <td>0</td>\n",
       "      <td>2</td>\n",
       "    </tr>\n",
       "    <tr>\n",
       "      <th>0</th>\n",
       "      <td>imb_bc</td>\n",
       "      <td>svm</td>\n",
       "      <td>0.907</td>\n",
       "      <td>1</td>\n",
       "      <td>0.083</td>\n",
       "      <td>0.153</td>\n",
       "      <td>3</td>\n",
       "    </tr>\n",
       "    <tr>\n",
       "      <th>0</th>\n",
       "      <td>imb_bc</td>\n",
       "      <td>svm</td>\n",
       "      <td>0.932</td>\n",
       "      <td>0.9</td>\n",
       "      <td>0.375</td>\n",
       "      <td>0.529</td>\n",
       "      <td>4</td>\n",
       "    </tr>\n",
       "    <tr>\n",
       "      <th>0</th>\n",
       "      <td>imb_bc</td>\n",
       "      <td>svm</td>\n",
       "      <td>0.953</td>\n",
       "      <td>0.933</td>\n",
       "      <td>0.583</td>\n",
       "      <td>0.718</td>\n",
       "      <td>5</td>\n",
       "    </tr>\n",
       "    <tr>\n",
       "      <th>0</th>\n",
       "      <td>imb_bc</td>\n",
       "      <td>svm</td>\n",
       "      <td>0.966</td>\n",
       "      <td>0.944</td>\n",
       "      <td>0.708</td>\n",
       "      <td>0.809</td>\n",
       "      <td>6</td>\n",
       "    </tr>\n",
       "    <tr>\n",
       "      <th>0</th>\n",
       "      <td>imb_bc</td>\n",
       "      <td>svm</td>\n",
       "      <td>0.966</td>\n",
       "      <td>0.944</td>\n",
       "      <td>0.708</td>\n",
       "      <td>0.809</td>\n",
       "      <td>7</td>\n",
       "    </tr>\n",
       "    <tr>\n",
       "      <th>0</th>\n",
       "      <td>imb_bc</td>\n",
       "      <td>svm</td>\n",
       "      <td>0.966</td>\n",
       "      <td>0.944</td>\n",
       "      <td>0.708</td>\n",
       "      <td>0.809</td>\n",
       "      <td>8</td>\n",
       "    </tr>\n",
       "    <tr>\n",
       "      <th>0</th>\n",
       "      <td>imb_bc</td>\n",
       "      <td>svm</td>\n",
       "      <td>0.962</td>\n",
       "      <td>0.895</td>\n",
       "      <td>0.708</td>\n",
       "      <td>0.791</td>\n",
       "      <td>9</td>\n",
       "    </tr>\n",
       "    <tr>\n",
       "      <th>0</th>\n",
       "      <td>imb_bc</td>\n",
       "      <td>svm</td>\n",
       "      <td>0.966</td>\n",
       "      <td>0.9</td>\n",
       "      <td>0.750</td>\n",
       "      <td>0.818</td>\n",
       "      <td>10</td>\n",
       "    </tr>\n",
       "    <tr>\n",
       "      <th>0</th>\n",
       "      <td>imb_bc</td>\n",
       "      <td>svm</td>\n",
       "      <td>0.966</td>\n",
       "      <td>0.9</td>\n",
       "      <td>0.750</td>\n",
       "      <td>0.818</td>\n",
       "      <td>11</td>\n",
       "    </tr>\n",
       "    <tr>\n",
       "      <th>0</th>\n",
       "      <td>imb_bc</td>\n",
       "      <td>svm</td>\n",
       "      <td>0.966</td>\n",
       "      <td>0.9</td>\n",
       "      <td>0.750</td>\n",
       "      <td>0.818</td>\n",
       "      <td>12</td>\n",
       "    </tr>\n",
       "    <tr>\n",
       "      <th>0</th>\n",
       "      <td>imb_bc</td>\n",
       "      <td>svm</td>\n",
       "      <td>0.966</td>\n",
       "      <td>0.9</td>\n",
       "      <td>0.750</td>\n",
       "      <td>0.818</td>\n",
       "      <td>13</td>\n",
       "    </tr>\n",
       "    <tr>\n",
       "      <th>0</th>\n",
       "      <td>imb_bc</td>\n",
       "      <td>svm</td>\n",
       "      <td>0.966</td>\n",
       "      <td>0.9</td>\n",
       "      <td>0.750</td>\n",
       "      <td>0.818</td>\n",
       "      <td>14</td>\n",
       "    </tr>\n",
       "    <tr>\n",
       "      <th>0</th>\n",
       "      <td>imb_bc</td>\n",
       "      <td>svm</td>\n",
       "      <td>0.966</td>\n",
       "      <td>0.9</td>\n",
       "      <td>0.750</td>\n",
       "      <td>0.818</td>\n",
       "      <td>15</td>\n",
       "    </tr>\n",
       "  </tbody>\n",
       "</table>\n",
       "</div>"
      ],
      "text/plain": [
       "  dataset algorithm  mean accuracy precision  recall F-measure   C\n",
       "0  imb_bc       svm          0.898         0   0.000         0   1\n",
       "0  imb_bc       svm          0.898         0   0.000         0   2\n",
       "0  imb_bc       svm          0.907         1   0.083     0.153   3\n",
       "0  imb_bc       svm          0.932       0.9   0.375     0.529   4\n",
       "0  imb_bc       svm          0.953     0.933   0.583     0.718   5\n",
       "0  imb_bc       svm          0.966     0.944   0.708     0.809   6\n",
       "0  imb_bc       svm          0.966     0.944   0.708     0.809   7\n",
       "0  imb_bc       svm          0.966     0.944   0.708     0.809   8\n",
       "0  imb_bc       svm          0.962     0.895   0.708     0.791   9\n",
       "0  imb_bc       svm          0.966       0.9   0.750     0.818  10\n",
       "0  imb_bc       svm          0.966       0.9   0.750     0.818  11\n",
       "0  imb_bc       svm          0.966       0.9   0.750     0.818  12\n",
       "0  imb_bc       svm          0.966       0.9   0.750     0.818  13\n",
       "0  imb_bc       svm          0.966       0.9   0.750     0.818  14\n",
       "0  imb_bc       svm          0.966       0.9   0.750     0.818  15"
      ]
     },
     "execution_count": 61,
     "metadata": {},
     "output_type": "execute_result"
    }
   ],
   "source": [
    "final_df"
   ]
  },
  {
   "cell_type": "markdown",
   "metadata": {},
   "source": [
    "### SMOTE for dataset with overlapped classes"
   ]
  },
  {
   "cell_type": "code",
   "execution_count": 62,
   "metadata": {},
   "outputs": [],
   "source": [
    "overlapped_blobs = pd.read_csv('./imbalanced_datasets/overlapped_initial_imbalanced_blobs.csv')"
   ]
  },
  {
   "cell_type": "code",
   "execution_count": 65,
   "metadata": {},
   "outputs": [
    {
     "data": {
      "image/png": "[encoded data removed]",
      "text/plain": [
       "<Figure size 432x288 with 1 Axes>"
      ]
     },
     "metadata": {},
     "output_type": "display_data"
    }
   ],
   "source": [
    "plot_blobs(overlapped_blobs, title=\"Imbalanced overlapping blobs\")"
   ]
  },
  {
   "cell_type": "code",
   "execution_count": 84,
   "metadata": {},
   "outputs": [
    {
     "data": {
      "image/png": "[encoded data removed]",
      "text/plain": [
       "<Figure size 432x288 with 1 Axes>"
      ]
     },
     "metadata": {},
     "output_type": "display_data"
    }
   ],
   "source": [
    "overlapped_blobs_smote = smote(overlapped_blobs, 3)\n",
    "plot_blobs(overlapped_blobs_smote, title=\"Imbalanced overlapping blobs after SMOTE with 7NN\")"
   ]
  },
  {
   "cell_type": "code",
   "execution_count": null,
   "metadata": {},
   "outputs": [],
   "source": []
  }
 ],
 "metadata": {
  "kernelspec": {
   "display_name": "Python 2",
   "language": "python",
   "name": "python2"
  },
  "language_info": {
   "codemirror_mode": {
    "name": "ipython",
    "version": 2
   },
   "file_extension": ".py",
   "mimetype": "text/x-python",
   "name": "python",
   "nbconvert_exporter": "python",
   "pygments_lexer": "ipython2",
   "version": "2.7.15"
  }
 },
 "nbformat": 4,
 "nbformat_minor": 2
}
