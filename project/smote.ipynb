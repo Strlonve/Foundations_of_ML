{
 "cells": [
  {
   "cell_type": "code",
   "execution_count": 3,
   "metadata": {},
   "outputs": [],
   "source": [
    "import pandas as pd\n",
    "import numpy as np\n",
    "from sklearn import neighbors, datasets\n",
    "from matplotlib import pyplot as plt\n",
    "% matplotlib inline"
   ]
  },
  {
   "cell_type": "code",
   "execution_count": 196,
   "metadata": {},
   "outputs": [],
   "source": [
    "def smote(dataframe, k):\n",
    "    # get the labels of input dataframe\n",
    "    labels = dataframe.iloc[:, -1]\n",
    "    # extract unique labels and count number of examples for each one\n",
    "    unq_labels, cnt_labels = np.unique(labels, return_counts=True)\n",
    "    # detect minor class and major class\n",
    "    unq_labels = list(unq_labels)\n",
    "    cnt_labels = list(cnt_labels)\n",
    "    imbalanced_label = unq_labels.index(cnt_labels.index(min(cnt_labels)))\n",
    "    max_label = unq_labels.index(cnt_labels.index(max(cnt_labels)))\n",
    "    # calculate for how many times minor class should be extended to reach major one\n",
    "    num_imbalanced = min(cnt_labels)\n",
    "    num_max_label = max(cnt_labels)\n",
    "    increase_rate = int(num_max_label / num_imbalanced)\n",
    "    # extract minor class examples\n",
    "    imbalanced_class = dataframe.loc[dataframe.iloc[:, -1] == 0]\n",
    "    synth_data = []\n",
    "    for i in range(num_imbalanced):\n",
    "        neigh = neighbors.NearestNeighbors(n_neighbors=k + 1)\n",
    "        neigh.fit(dataframe.iloc[:, :-1], dataframe.iloc[:, -1])\n",
    "        ind_array = neigh.kneighbors(X=[imbalanced_class.iloc[i, :-1]],return_distance=False)\n",
    "        new_data = populate(dataframe, imbalanced_class, increase_rate, i, ind_array)\n",
    "        for j in range(len(new_data)):\n",
    "            synth_data.append(new_data[j])        \n",
    "    synth_data = np.array(synth_data)\n",
    "    synth_data_dataframe = pd.DataFrame(synth_data)\n",
    "    synth_data_dataframe.columns = dataframe.iloc[:, :-1].columns\n",
    "    synth_labels = [imbalanced_label for i in range(synth_data_dataframe.shape[0])]\n",
    "    synth_data_dataframe['label'] = synth_labels\n",
    "    new_dataframe = pd.concat([dataframe, synth_data_dataframe])\n",
    "    return new_dataframe\n",
    "    \n",
    "def populate(dataframe, imbalanced_class, inc_rate, i, ind_array):\n",
    "    synth_data = []\n",
    "    while inc_rate != 0:\n",
    "        rand_k = int(np.random.random() * len(list(ind_array - 1))) + 1\n",
    "        new_datapoint = []\n",
    "        for attr in range(dataframe.iloc[:, :-1].shape[1]):\n",
    "            dist = float(dataframe.iloc[ind_array[:, rand_k], attr]) - float(imbalanced_class.iloc[i, attr])\n",
    "            gap = np.random.random()\n",
    "            new_datapoint.append(imbalanced_class.iloc[i, attr] + gap * dist)\n",
    "        synth_data.append(new_datapoint)\n",
    "        inc_rate -= 1\n",
    "    return synth_data     "
   ]
  },
  {
   "cell_type": "code",
   "execution_count": 197,
   "metadata": {},
   "outputs": [
    {
     "data": {
      "text/plain": [
       "<matplotlib.collections.PathCollection at 0xecf1c88>"
      ]
     },
     "execution_count": 197,
     "metadata": {},
     "output_type": "execute_result"
    },
    {
     "data": {
      "image/png": "[encoded data removed]",
      "text/plain": [
       "<Figure size 432x288 with 1 Axes>"
      ]
     },
     "metadata": {},
     "output_type": "display_data"
    }
   ],
   "source": [
    "# % cd ./coursework/project/imbalanced_datasets\n",
    "blobs = pd.read_csv('imbalanced_blobs.csv')\n",
    "label_0 = blobs.loc[blobs['label'] == 0]\n",
    "label_1 = blobs.loc[blobs['label'] == 1]\n",
    "plt.scatter(label_0.x1, label_0.x2, marker='o')\n",
    "plt.scatter(label_1.x1, label_1.x2, marker='x')"
   ]
  },
  {
   "cell_type": "code",
   "execution_count": 204,
   "metadata": {},
   "outputs": [
    {
     "data": {
      "text/plain": [
       "<matplotlib.collections.PathCollection at 0xf878080>"
      ]
     },
     "execution_count": 204,
     "metadata": {},
     "output_type": "execute_result"
    },
    {
     "data": {
      "image/png": "[encoded data removed]",
      "text/plain": [
       "<Figure size 432x288 with 1 Axes>"
      ]
     },
     "metadata": {},
     "output_type": "display_data"
    }
   ],
   "source": [
    "new_blobs = smote(blobs, 5)\n",
    "label_0 = new_blobs.loc[new_blobs['label'] == 0]\n",
    "label_1 = new_blobs.loc[new_blobs['label'] == 1]\n",
    "plt.scatter(label_0.x1, label_0.x2, marker='o')\n",
    "plt.scatter(label_1.x1, label_1.x2, marker='x')"
   ]
  },
  {
   "cell_type": "code",
   "execution_count": 184,
   "metadata": {},
   "outputs": [
    {
     "name": "stdout",
     "output_type": "stream",
     "text": [
      "Number of class 0 after SMOTE 110\n",
      "Number of class 1 after SMOTE 100\n"
     ]
    }
   ],
   "source": [
    "print 'Number of class 0 after SMOTE:', new_blobs.loc[new_blobs['label'] == 0].shape[0]\n",
    "print 'Number of class 1 after SMOTE:', new_blobs.loc[new_blobs['label'] == 1].shape[0]"
   ]
  }
 ],
 "metadata": {
  "kernelspec": {
   "display_name": "Python 2",
   "language": "python",
   "name": "python2"
  },
  "language_info": {
   "codemirror_mode": {
    "name": "ipython",
    "version": 2
   },
   "file_extension": ".py",
   "mimetype": "text/x-python",
   "name": "python",
   "nbconvert_exporter": "python",
   "pygments_lexer": "ipython2",
   "version": "2.7.15"
  }
 },
 "nbformat": 4,
 "nbformat_minor": 2
}
